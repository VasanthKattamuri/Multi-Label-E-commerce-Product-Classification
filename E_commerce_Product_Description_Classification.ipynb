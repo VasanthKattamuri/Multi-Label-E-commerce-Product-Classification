{
  "cells": [
    {
      "cell_type": "markdown",
      "source": [
        "Sai Vasanth Kattamuri"
      ],
      "metadata": {
        "id": "VlS5RS8ovL8z"
      }
    },
    {
      "cell_type": "code",
      "execution_count": null,
      "metadata": {
        "colab": {
          "base_uri": "https://localhost:8080/",
          "height": 376
        },
        "id": "PTuCvgQPBFOF",
        "outputId": "61e02a61-72ea-4bc7-f6bb-21003983b14a"
      },
      "outputs": [
        {
          "output_type": "display_data",
          "data": {
            "text/html": [
              "        <script type=\"text/javascript\">\n",
              "        window.PlotlyConfig = {MathJaxConfig: 'local'};\n",
              "        if (window.MathJax) {MathJax.Hub.Config({SVG: {font: \"STIX-Web\"}});}\n",
              "        if (typeof require !== 'undefined') {\n",
              "        require.undef(\"plotly\");\n",
              "        requirejs.config({\n",
              "            paths: {\n",
              "                'plotly': ['https://cdn.plot.ly/plotly-2.8.3.min']\n",
              "            }\n",
              "        });\n",
              "        require(['plotly'], function(Plotly) {\n",
              "            window._Plotly = Plotly;\n",
              "        });\n",
              "        }\n",
              "        </script>\n",
              "        "
            ]
          },
          "metadata": {}
        },
        {
          "output_type": "stream",
          "name": "stdout",
          "text": [
            "Looking in indexes: https://pypi.org/simple, https://us-python.pkg.dev/colab-wheels/public/simple/\n",
            "Collecting num2words\n",
            "  Downloading num2words-0.5.12-py3-none-any.whl (125 kB)\n",
            "\u001b[K     |████████████████████████████████| 125 kB 26.6 MB/s \n",
            "\u001b[?25hCollecting docopt>=0.6.2\n",
            "  Downloading docopt-0.6.2.tar.gz (25 kB)\n",
            "Building wheels for collected packages: docopt\n",
            "  Building wheel for docopt (setup.py) ... \u001b[?25l\u001b[?25hdone\n",
            "  Created wheel for docopt: filename=docopt-0.6.2-py2.py3-none-any.whl size=13723 sha256=98f67e96cd77eeba46f883c9d53d426633899b402d255d4bfc313e3b3586a758\n",
            "  Stored in directory: /root/.cache/pip/wheels/56/ea/58/ead137b087d9e326852a851351d1debf4ada529b6ac0ec4e8c\n",
            "Successfully built docopt\n",
            "Installing collected packages: docopt, num2words\n",
            "Successfully installed docopt-0.6.2 num2words-0.5.12\n",
            "Looking in indexes: https://pypi.org/simple, https://us-python.pkg.dev/colab-wheels/public/simple/\n",
            "Collecting pyspellchecker\n",
            "  Downloading pyspellchecker-0.7.0-py3-none-any.whl (2.5 MB)\n",
            "\u001b[K     |████████████████████████████████| 2.5 MB 19.1 MB/s \n",
            "\u001b[?25hInstalling collected packages: pyspellchecker\n",
            "Successfully installed pyspellchecker-0.7.0\n"
          ]
        }
      ],
      "source": [
        "import time, psutil, os\n",
        "\n",
        "# Data manipulation\n",
        "import numpy as np\n",
        "import pandas as pd\n",
        "\n",
        "# Plotting and visualization\n",
        "import matplotlib\n",
        "import matplotlib.pyplot as plt\n",
        "import matplotlib.patches as mpatches\n",
        "import seaborn as sns\n",
        "sns.set_theme()\n",
        "import plotly.express as px\n",
        "import plotly.graph_objects as go\n",
        "from plotly.subplots import make_subplots\n",
        "from plotly.offline import init_notebook_mode, iplot\n",
        "init_notebook_mode(connected=True)\n",
        "\n",
        "# NLP\n",
        "import string, re, nltk\n",
        "from string import punctuation\n",
        "from nltk.tokenize import word_tokenize, RegexpTokenizer\n",
        "from nltk.corpus import stopwords\n",
        "!pip install num2words\n",
        "from num2words import num2words\n",
        "!pip install pyspellchecker\n",
        "from spellchecker import SpellChecker\n",
        "from nltk.stem.porter import PorterStemmer\n",
        "import spacy\n",
        "from nltk.stem import WordNetLemmatizer\n",
        "\n",
        "# TF-IDF\n",
        "from sklearn.feature_extraction.text import TfidfVectorizer\n",
        "\n",
        "# Scipy\n",
        "import scipy\n",
        "from scipy import sparse\n",
        "from scipy.sparse import csr_matrix\n",
        "\n",
        "# Train-test split and cross validation\n",
        "from sklearn.model_selection import train_test_split, ParameterGrid\n",
        "\n",
        "# Classifiers\n",
        "from sklearn.linear_model import LogisticRegression\n",
        "from sklearn.neighbors import KNeighborsClassifier\n",
        "from sklearn.tree import DecisionTreeClassifier\n",
        "from sklearn import svm\n",
        "from sklearn.ensemble import RandomForestClassifier\n",
        "from sklearn.linear_model import SGDClassifier\n",
        "from sklearn.linear_model import RidgeClassifier\n",
        "from xgboost import XGBClassifier\n",
        "from sklearn.ensemble import AdaBoostClassifier\n",
        "\n",
        "# Model evaluation\n",
        "from sklearn import metrics\n",
        "from sklearn.metrics import accuracy_score\n",
        "\n",
        "# Others\n",
        "import json\n",
        "import gensim\n",
        "from sklearn.decomposition import TruncatedSVD"
      ]
    },
    {
      "cell_type": "code",
      "execution_count": null,
      "metadata": {
        "colab": {
          "base_uri": "https://localhost:8080/",
          "height": 459
        },
        "id": "CQKu-mk-BtNA",
        "outputId": "34fd6acd-affc-43d5-dbd2-e657c0fc5608"
      },
      "outputs": [
        {
          "output_type": "stream",
          "name": "stdout",
          "text": [
            "Memory usage        0.77 MB\n",
            "Dataset shape    (50425, 2)\n"
          ]
        },
        {
          "output_type": "execute_result",
          "data": {
            "text/plain": [
              "                                             description        label\n",
              "0      Paper Plane Design Framed Wall Hanging Motivat...    Household\n",
              "1      SAF 'Floral' Framed Painting (Wood, 30 inch x ...    Household\n",
              "2      SAF 'UV Textured Modern Art Print Framed' Pain...    Household\n",
              "3      SAF Flower Print Framed Painting (Synthetic, 1...    Household\n",
              "4      Incredible Gifts India Wooden Happy Birthday U...    Household\n",
              "...                                                  ...          ...\n",
              "50420  Strontium MicroSD Class 10 8GB Memory Card (Bl...  Electronics\n",
              "50421  CrossBeats Wave Waterproof Bluetooth Wireless ...  Electronics\n",
              "50422  Karbonn Titanium Wind W4 (White) Karbonn Titan...  Electronics\n",
              "50423  Samsung Guru FM Plus (SM-B110E/D, Black) Colou...  Electronics\n",
              "50424                   Micromax Canvas Win W121 (White)  Electronics\n",
              "\n",
              "[50425 rows x 2 columns]"
            ],
            "text/html": [
              "\n",
              "  <div id=\"df-9c0ece89-a144-4ae2-83e0-79335d35241e\">\n",
              "    <div class=\"colab-df-container\">\n",
              "      <div>\n",
              "<style scoped>\n",
              "    .dataframe tbody tr th:only-of-type {\n",
              "        vertical-align: middle;\n",
              "    }\n",
              "\n",
              "    .dataframe tbody tr th {\n",
              "        vertical-align: top;\n",
              "    }\n",
              "\n",
              "    .dataframe thead th {\n",
              "        text-align: right;\n",
              "    }\n",
              "</style>\n",
              "<table border=\"1\" class=\"dataframe\">\n",
              "  <thead>\n",
              "    <tr style=\"text-align: right;\">\n",
              "      <th></th>\n",
              "      <th>description</th>\n",
              "      <th>label</th>\n",
              "    </tr>\n",
              "  </thead>\n",
              "  <tbody>\n",
              "    <tr>\n",
              "      <th>0</th>\n",
              "      <td>Paper Plane Design Framed Wall Hanging Motivat...</td>\n",
              "      <td>Household</td>\n",
              "    </tr>\n",
              "    <tr>\n",
              "      <th>1</th>\n",
              "      <td>SAF 'Floral' Framed Painting (Wood, 30 inch x ...</td>\n",
              "      <td>Household</td>\n",
              "    </tr>\n",
              "    <tr>\n",
              "      <th>2</th>\n",
              "      <td>SAF 'UV Textured Modern Art Print Framed' Pain...</td>\n",
              "      <td>Household</td>\n",
              "    </tr>\n",
              "    <tr>\n",
              "      <th>3</th>\n",
              "      <td>SAF Flower Print Framed Painting (Synthetic, 1...</td>\n",
              "      <td>Household</td>\n",
              "    </tr>\n",
              "    <tr>\n",
              "      <th>4</th>\n",
              "      <td>Incredible Gifts India Wooden Happy Birthday U...</td>\n",
              "      <td>Household</td>\n",
              "    </tr>\n",
              "    <tr>\n",
              "      <th>...</th>\n",
              "      <td>...</td>\n",
              "      <td>...</td>\n",
              "    </tr>\n",
              "    <tr>\n",
              "      <th>50420</th>\n",
              "      <td>Strontium MicroSD Class 10 8GB Memory Card (Bl...</td>\n",
              "      <td>Electronics</td>\n",
              "    </tr>\n",
              "    <tr>\n",
              "      <th>50421</th>\n",
              "      <td>CrossBeats Wave Waterproof Bluetooth Wireless ...</td>\n",
              "      <td>Electronics</td>\n",
              "    </tr>\n",
              "    <tr>\n",
              "      <th>50422</th>\n",
              "      <td>Karbonn Titanium Wind W4 (White) Karbonn Titan...</td>\n",
              "      <td>Electronics</td>\n",
              "    </tr>\n",
              "    <tr>\n",
              "      <th>50423</th>\n",
              "      <td>Samsung Guru FM Plus (SM-B110E/D, Black) Colou...</td>\n",
              "      <td>Electronics</td>\n",
              "    </tr>\n",
              "    <tr>\n",
              "      <th>50424</th>\n",
              "      <td>Micromax Canvas Win W121 (White)</td>\n",
              "      <td>Electronics</td>\n",
              "    </tr>\n",
              "  </tbody>\n",
              "</table>\n",
              "<p>50425 rows × 2 columns</p>\n",
              "</div>\n",
              "      <button class=\"colab-df-convert\" onclick=\"convertToInteractive('df-9c0ece89-a144-4ae2-83e0-79335d35241e')\"\n",
              "              title=\"Convert this dataframe to an interactive table.\"\n",
              "              style=\"display:none;\">\n",
              "        \n",
              "  <svg xmlns=\"http://www.w3.org/2000/svg\" height=\"24px\"viewBox=\"0 0 24 24\"\n",
              "       width=\"24px\">\n",
              "    <path d=\"M0 0h24v24H0V0z\" fill=\"none\"/>\n",
              "    <path d=\"M18.56 5.44l.94 2.06.94-2.06 2.06-.94-2.06-.94-.94-2.06-.94 2.06-2.06.94zm-11 1L8.5 8.5l.94-2.06 2.06-.94-2.06-.94L8.5 2.5l-.94 2.06-2.06.94zm10 10l.94 2.06.94-2.06 2.06-.94-2.06-.94-.94-2.06-.94 2.06-2.06.94z\"/><path d=\"M17.41 7.96l-1.37-1.37c-.4-.4-.92-.59-1.43-.59-.52 0-1.04.2-1.43.59L10.3 9.45l-7.72 7.72c-.78.78-.78 2.05 0 2.83L4 21.41c.39.39.9.59 1.41.59.51 0 1.02-.2 1.41-.59l7.78-7.78 2.81-2.81c.8-.78.8-2.07 0-2.86zM5.41 20L4 18.59l7.72-7.72 1.47 1.35L5.41 20z\"/>\n",
              "  </svg>\n",
              "      </button>\n",
              "      \n",
              "  <style>\n",
              "    .colab-df-container {\n",
              "      display:flex;\n",
              "      flex-wrap:wrap;\n",
              "      gap: 12px;\n",
              "    }\n",
              "\n",
              "    .colab-df-convert {\n",
              "      background-color: #E8F0FE;\n",
              "      border: none;\n",
              "      border-radius: 50%;\n",
              "      cursor: pointer;\n",
              "      display: none;\n",
              "      fill: #1967D2;\n",
              "      height: 32px;\n",
              "      padding: 0 0 0 0;\n",
              "      width: 32px;\n",
              "    }\n",
              "\n",
              "    .colab-df-convert:hover {\n",
              "      background-color: #E2EBFA;\n",
              "      box-shadow: 0px 1px 2px rgba(60, 64, 67, 0.3), 0px 1px 3px 1px rgba(60, 64, 67, 0.15);\n",
              "      fill: #174EA6;\n",
              "    }\n",
              "\n",
              "    [theme=dark] .colab-df-convert {\n",
              "      background-color: #3B4455;\n",
              "      fill: #D2E3FC;\n",
              "    }\n",
              "\n",
              "    [theme=dark] .colab-df-convert:hover {\n",
              "      background-color: #434B5C;\n",
              "      box-shadow: 0px 1px 3px 1px rgba(0, 0, 0, 0.15);\n",
              "      filter: drop-shadow(0px 1px 2px rgba(0, 0, 0, 0.3));\n",
              "      fill: #FFFFFF;\n",
              "    }\n",
              "  </style>\n",
              "\n",
              "      <script>\n",
              "        const buttonEl =\n",
              "          document.querySelector('#df-9c0ece89-a144-4ae2-83e0-79335d35241e button.colab-df-convert');\n",
              "        buttonEl.style.display =\n",
              "          google.colab.kernel.accessAllowed ? 'block' : 'none';\n",
              "\n",
              "        async function convertToInteractive(key) {\n",
              "          const element = document.querySelector('#df-9c0ece89-a144-4ae2-83e0-79335d35241e');\n",
              "          const dataTable =\n",
              "            await google.colab.kernel.invokeFunction('convertToInteractive',\n",
              "                                                     [key], {});\n",
              "          if (!dataTable) return;\n",
              "\n",
              "          const docLinkHtml = 'Like what you see? Visit the ' +\n",
              "            '<a target=\"_blank\" href=https://colab.research.google.com/notebooks/data_table.ipynb>data table notebook</a>'\n",
              "            + ' to learn more about interactive tables.';\n",
              "          element.innerHTML = '';\n",
              "          dataTable['output_type'] = 'display_data';\n",
              "          await google.colab.output.renderOutput(dataTable, element);\n",
              "          const docLink = document.createElement('div');\n",
              "          docLink.innerHTML = docLinkHtml;\n",
              "          element.appendChild(docLink);\n",
              "        }\n",
              "      </script>\n",
              "    </div>\n",
              "  </div>\n",
              "  "
            ]
          },
          "metadata": {},
          "execution_count": 2
        }
      ],
      "source": [
        "# Loading and customizing the data\n",
        "data = pd.read_csv('/content/ecommerceDataset.csv',\n",
        "    names = ['label', 'description']\n",
        ")\n",
        "data = data[['description', 'label']]\n",
        "\n",
        "print(pd.Series({\"Memory usage\": \"{:.2f} MB\".format(data.memory_usage().sum()/(1024*1024)),\n",
        "                 \"Dataset shape\": \"{}\".format(data.shape)}).to_string())\n",
        "data"
      ]
    },
    {
      "cell_type": "code",
      "source": [
        "data.skew()"
      ],
      "metadata": {
        "id": "2kOvYndNMq3i",
        "outputId": "30e53182-2c65-4858-b365-ffbbef22ce25",
        "colab": {
          "base_uri": "https://localhost:8080/"
        }
      },
      "execution_count": null,
      "outputs": [
        {
          "output_type": "stream",
          "name": "stderr",
          "text": [
            "<ipython-input-3-b3b431164adb>:1: FutureWarning:\n",
            "\n",
            "Dropping of nuisance columns in DataFrame reductions (with 'numeric_only=None') is deprecated; in a future version this will raise TypeError.  Select only valid columns before calling the reduction.\n",
            "\n"
          ]
        },
        {
          "output_type": "execute_result",
          "data": {
            "text/plain": [
              "Series([], dtype: float64)"
            ]
          },
          "metadata": {},
          "execution_count": 3
        }
      ]
    },
    {
      "cell_type": "code",
      "execution_count": null,
      "metadata": {
        "colab": {
          "base_uri": "https://localhost:8080/",
          "height": 161
        },
        "id": "u1AqdQKZCam0",
        "outputId": "cf39d1eb-5d82-49c1-d54a-e55a535b001e"
      },
      "outputs": [
        {
          "output_type": "execute_result",
          "data": {
            "text/plain": [
              "'Pitaara Box Romantic Venice Canvas Painting 6mm Thick Mdf Frame 21.1 X 14Inch Enclosure Material:MDF Mount Frame                                                                                \\xa0|\\xa0                           Size:21.1inch x 14inch (53.6cms x 35.6cms)   SIZE: 21.1 inch x 14.0 inch (53.6 cms x 35.6 cms)  Enhance the beauty of your room walls with this breathtaking digital printed artwork. Our high-end printing technology captures every detail of the image in our prints on enhanced matte painting canvas, ensuring rich and lively colours. This wall art panel is mounted on MDF and ready to hang on walls. Beautiful interior home d©cor artwork gifts for Living, Dining Room, Outdoor, Gallery, Hotels, Restaurants, Office, Reception, Kitchen Area, Balcony and Bathroom.  Pitaara Box offers an exclusive collection of thousands of artworks, digital paintings, canvas prints, wall posters, and other wall decor products for your home, office, and surroundings. We provide a never-ending range of creative and spectacular art products, which can be used for gifting on every occasion and every season.  TAGS: wall, paintings, canvas, prints, modern, art, abstract, designer, wallart, artwork, home, bedroom, dining, living, drawing, room, digital, printing, bathroom, common, area, kitchen, office, decorative, stretch, stretched, framed, framing, beautiful, classy, royal, special, unique, elegant, stylish, creative, affordable, best, photo, gifts, fabrics, balcony, interior, exterior, outdoor, gallery, hotels, restaurants, colourful, colorful, small, large, extra large, oversized, hangings, giant, slim, durable, waterproof, buy, shop, purchase, decor, online, Places, Vintage, Canvas, romantic, Venice, artwork, painting, style'"
            ],
            "application/vnd.google.colaboratory.intrinsic+json": {
              "type": "string"
            }
          },
          "metadata": {},
          "execution_count": 4
        }
      ],
      "source": [
        "# Example description\n",
        "data['description'].iloc[5]"
      ]
    },
    {
      "cell_type": "code",
      "execution_count": null,
      "metadata": {
        "colab": {
          "base_uri": "https://localhost:8080/"
        },
        "id": "xqhhRQnCCaqH",
        "outputId": "1e658f2a-f2e5-4819-edbb-7d39e03fa3d7"
      },
      "outputs": [
        {
          "output_type": "stream",
          "name": "stdout",
          "text": [
            "Number of observations with missing values        1\n",
            "Number of duplicate observations              22622\n"
          ]
        }
      ],
      "source": [
        "# Missing values and duplicate observations\n",
        "print(pd.Series({\"Number of observations with missing values\": len(data) - len(data.dropna()),\n",
        "                 \"Number of duplicate observations\": data.duplicated().sum()}).to_string())"
      ]
    },
    {
      "cell_type": "code",
      "execution_count": null,
      "metadata": {
        "id": "s5tSVezOCatQ"
      },
      "outputs": [],
      "source": [
        "data.dropna(inplace = True) # Dropping observations with missing values\n",
        "data.drop_duplicates(inplace = True) # Dropping duplicate observations\n",
        "data.reset_index(drop = True, inplace = True) # Resetting index"
      ]
    },
    {
      "cell_type": "markdown",
      "metadata": {
        "id": "mQ99hLI1CwwW"
      },
      "source": [
        "**The labels are manually encoded with the following scheme:**\n",
        "\n",
        "Electronics: 0\n",
        "\n",
        "Household: 1\n",
        "\n",
        "Books: 2\n",
        "\n",
        "Clothing & Accessories: 3"
      ]
    },
    {
      "cell_type": "code",
      "execution_count": null,
      "metadata": {
        "colab": {
          "base_uri": "https://localhost:8080/",
          "height": 459
        },
        "id": "MopXC66GCazE",
        "outputId": "1f42fb0e-cb8d-495a-d5b3-ffe22bdf1911"
      },
      "outputs": [
        {
          "output_type": "stream",
          "name": "stdout",
          "text": [
            "Memory usage        0.42 MB\n",
            "Dataset shape    (27802, 2)\n"
          ]
        },
        {
          "output_type": "execute_result",
          "data": {
            "text/plain": [
              "                                             description  label\n",
              "0      Paper Plane Design Framed Wall Hanging Motivat...      1\n",
              "1      SAF 'Floral' Framed Painting (Wood, 30 inch x ...      1\n",
              "2      SAF 'UV Textured Modern Art Print Framed' Pain...      1\n",
              "3      SAF Flower Print Framed Painting (Synthetic, 1...      1\n",
              "4      Incredible Gifts India Wooden Happy Birthday U...      1\n",
              "...                                                  ...    ...\n",
              "27797  Micromax Bharat 5 Plus Zero impact on visual d...      0\n",
              "27798  Microsoft Lumia 550 8GB 4G Black Microsoft lum...      0\n",
              "27799  Microsoft Lumia 535 (Black, 8GB) Colour:Black ...      0\n",
              "27800  Karbonn Titanium Wind W4 (White) Karbonn Titan...      0\n",
              "27801  Nokia Lumia 530 (Dual SIM, Grey) Colour:Grey  ...      0\n",
              "\n",
              "[27802 rows x 2 columns]"
            ],
            "text/html": [
              "\n",
              "  <div id=\"df-67780d8f-12d1-4658-8888-5b2222c6563b\">\n",
              "    <div class=\"colab-df-container\">\n",
              "      <div>\n",
              "<style scoped>\n",
              "    .dataframe tbody tr th:only-of-type {\n",
              "        vertical-align: middle;\n",
              "    }\n",
              "\n",
              "    .dataframe tbody tr th {\n",
              "        vertical-align: top;\n",
              "    }\n",
              "\n",
              "    .dataframe thead th {\n",
              "        text-align: right;\n",
              "    }\n",
              "</style>\n",
              "<table border=\"1\" class=\"dataframe\">\n",
              "  <thead>\n",
              "    <tr style=\"text-align: right;\">\n",
              "      <th></th>\n",
              "      <th>description</th>\n",
              "      <th>label</th>\n",
              "    </tr>\n",
              "  </thead>\n",
              "  <tbody>\n",
              "    <tr>\n",
              "      <th>0</th>\n",
              "      <td>Paper Plane Design Framed Wall Hanging Motivat...</td>\n",
              "      <td>1</td>\n",
              "    </tr>\n",
              "    <tr>\n",
              "      <th>1</th>\n",
              "      <td>SAF 'Floral' Framed Painting (Wood, 30 inch x ...</td>\n",
              "      <td>1</td>\n",
              "    </tr>\n",
              "    <tr>\n",
              "      <th>2</th>\n",
              "      <td>SAF 'UV Textured Modern Art Print Framed' Pain...</td>\n",
              "      <td>1</td>\n",
              "    </tr>\n",
              "    <tr>\n",
              "      <th>3</th>\n",
              "      <td>SAF Flower Print Framed Painting (Synthetic, 1...</td>\n",
              "      <td>1</td>\n",
              "    </tr>\n",
              "    <tr>\n",
              "      <th>4</th>\n",
              "      <td>Incredible Gifts India Wooden Happy Birthday U...</td>\n",
              "      <td>1</td>\n",
              "    </tr>\n",
              "    <tr>\n",
              "      <th>...</th>\n",
              "      <td>...</td>\n",
              "      <td>...</td>\n",
              "    </tr>\n",
              "    <tr>\n",
              "      <th>27797</th>\n",
              "      <td>Micromax Bharat 5 Plus Zero impact on visual d...</td>\n",
              "      <td>0</td>\n",
              "    </tr>\n",
              "    <tr>\n",
              "      <th>27798</th>\n",
              "      <td>Microsoft Lumia 550 8GB 4G Black Microsoft lum...</td>\n",
              "      <td>0</td>\n",
              "    </tr>\n",
              "    <tr>\n",
              "      <th>27799</th>\n",
              "      <td>Microsoft Lumia 535 (Black, 8GB) Colour:Black ...</td>\n",
              "      <td>0</td>\n",
              "    </tr>\n",
              "    <tr>\n",
              "      <th>27800</th>\n",
              "      <td>Karbonn Titanium Wind W4 (White) Karbonn Titan...</td>\n",
              "      <td>0</td>\n",
              "    </tr>\n",
              "    <tr>\n",
              "      <th>27801</th>\n",
              "      <td>Nokia Lumia 530 (Dual SIM, Grey) Colour:Grey  ...</td>\n",
              "      <td>0</td>\n",
              "    </tr>\n",
              "  </tbody>\n",
              "</table>\n",
              "<p>27802 rows × 2 columns</p>\n",
              "</div>\n",
              "      <button class=\"colab-df-convert\" onclick=\"convertToInteractive('df-67780d8f-12d1-4658-8888-5b2222c6563b')\"\n",
              "              title=\"Convert this dataframe to an interactive table.\"\n",
              "              style=\"display:none;\">\n",
              "        \n",
              "  <svg xmlns=\"http://www.w3.org/2000/svg\" height=\"24px\"viewBox=\"0 0 24 24\"\n",
              "       width=\"24px\">\n",
              "    <path d=\"M0 0h24v24H0V0z\" fill=\"none\"/>\n",
              "    <path d=\"M18.56 5.44l.94 2.06.94-2.06 2.06-.94-2.06-.94-.94-2.06-.94 2.06-2.06.94zm-11 1L8.5 8.5l.94-2.06 2.06-.94-2.06-.94L8.5 2.5l-.94 2.06-2.06.94zm10 10l.94 2.06.94-2.06 2.06-.94-2.06-.94-.94-2.06-.94 2.06-2.06.94z\"/><path d=\"M17.41 7.96l-1.37-1.37c-.4-.4-.92-.59-1.43-.59-.52 0-1.04.2-1.43.59L10.3 9.45l-7.72 7.72c-.78.78-.78 2.05 0 2.83L4 21.41c.39.39.9.59 1.41.59.51 0 1.02-.2 1.41-.59l7.78-7.78 2.81-2.81c.8-.78.8-2.07 0-2.86zM5.41 20L4 18.59l7.72-7.72 1.47 1.35L5.41 20z\"/>\n",
              "  </svg>\n",
              "      </button>\n",
              "      \n",
              "  <style>\n",
              "    .colab-df-container {\n",
              "      display:flex;\n",
              "      flex-wrap:wrap;\n",
              "      gap: 12px;\n",
              "    }\n",
              "\n",
              "    .colab-df-convert {\n",
              "      background-color: #E8F0FE;\n",
              "      border: none;\n",
              "      border-radius: 50%;\n",
              "      cursor: pointer;\n",
              "      display: none;\n",
              "      fill: #1967D2;\n",
              "      height: 32px;\n",
              "      padding: 0 0 0 0;\n",
              "      width: 32px;\n",
              "    }\n",
              "\n",
              "    .colab-df-convert:hover {\n",
              "      background-color: #E2EBFA;\n",
              "      box-shadow: 0px 1px 2px rgba(60, 64, 67, 0.3), 0px 1px 3px 1px rgba(60, 64, 67, 0.15);\n",
              "      fill: #174EA6;\n",
              "    }\n",
              "\n",
              "    [theme=dark] .colab-df-convert {\n",
              "      background-color: #3B4455;\n",
              "      fill: #D2E3FC;\n",
              "    }\n",
              "\n",
              "    [theme=dark] .colab-df-convert:hover {\n",
              "      background-color: #434B5C;\n",
              "      box-shadow: 0px 1px 3px 1px rgba(0, 0, 0, 0.15);\n",
              "      filter: drop-shadow(0px 1px 2px rgba(0, 0, 0, 0.3));\n",
              "      fill: #FFFFFF;\n",
              "    }\n",
              "  </style>\n",
              "\n",
              "      <script>\n",
              "        const buttonEl =\n",
              "          document.querySelector('#df-67780d8f-12d1-4658-8888-5b2222c6563b button.colab-df-convert');\n",
              "        buttonEl.style.display =\n",
              "          google.colab.kernel.accessAllowed ? 'block' : 'none';\n",
              "\n",
              "        async function convertToInteractive(key) {\n",
              "          const element = document.querySelector('#df-67780d8f-12d1-4658-8888-5b2222c6563b');\n",
              "          const dataTable =\n",
              "            await google.colab.kernel.invokeFunction('convertToInteractive',\n",
              "                                                     [key], {});\n",
              "          if (!dataTable) return;\n",
              "\n",
              "          const docLinkHtml = 'Like what you see? Visit the ' +\n",
              "            '<a target=\"_blank\" href=https://colab.research.google.com/notebooks/data_table.ipynb>data table notebook</a>'\n",
              "            + ' to learn more about interactive tables.';\n",
              "          element.innerHTML = '';\n",
              "          dataTable['output_type'] = 'display_data';\n",
              "          await google.colab.output.renderOutput(dataTable, element);\n",
              "          const docLink = document.createElement('div');\n",
              "          docLink.innerHTML = docLinkHtml;\n",
              "          element.appendChild(docLink);\n",
              "        }\n",
              "      </script>\n",
              "    </div>\n",
              "  </div>\n",
              "  "
            ]
          },
          "metadata": {},
          "execution_count": 7
        }
      ],
      "source": [
        "# Manual encoding of labels\n",
        "label_dict = {'Electronics': 0, 'Household': 1, 'Books': 2, 'Clothing & Accessories': 3}\n",
        "data.replace({'label': label_dict}, inplace = True)\n",
        "\n",
        "print(pd.Series({\"Memory usage\": \"{:.2f} MB\".format(data.memory_usage().sum()/(1024*1024)),\n",
        "                 \"Dataset shape\": \"{}\".format(data.shape)}).to_string())\n",
        "data"
      ]
    },
    {
      "cell_type": "code",
      "execution_count": null,
      "metadata": {
        "id": "lArxOAVUCa4M"
      },
      "outputs": [],
      "source": [
        "# Splitting the dataset by label\n",
        "data_e = data[data['label'] == 0] # Electronics\n",
        "data_h = data[data['label'] == 1] # Household\n",
        "data_b = data[data['label'] == 2] # Books\n",
        "data_c = data[data['label'] == 3] # Clothing & Accessories"
      ]
    },
    {
      "cell_type": "code",
      "execution_count": null,
      "metadata": {
        "colab": {
          "base_uri": "https://localhost:8080/",
          "height": 67
        },
        "id": "m-S1WhTtCa64",
        "outputId": "30011801-1d86-44f7-ddba-0c99e2a5e5ba"
      },
      "outputs": [
        {
          "output_type": "display_data",
          "data": {
            "application/vnd.plotly.v1+json": {
              "data": [
                {
                  "hole": 0.5,
                  "labels": [
                    "Electronics",
                    "Household",
                    "Books",
                    "Clothing & Accessories"
                  ],
                  "textinfo": "percent",
                  "title": {
                    "text": " "
                  },
                  "values": [
                    5308,
                    10564,
                    6256,
                    5674
                  ],
                  "type": "pie"
                }
              ],
              "layout": {
                "template": {
                  "data": {
                    "bar": [
                      {
                        "error_x": {
                          "color": "#2a3f5f"
                        },
                        "error_y": {
                          "color": "#2a3f5f"
                        },
                        "marker": {
                          "line": {
                            "color": "#E5ECF6",
                            "width": 0.5
                          },
                          "pattern": {
                            "fillmode": "overlay",
                            "size": 10,
                            "solidity": 0.2
                          }
                        },
                        "type": "bar"
                      }
                    ],
                    "barpolar": [
                      {
                        "marker": {
                          "line": {
                            "color": "#E5ECF6",
                            "width": 0.5
                          },
                          "pattern": {
                            "fillmode": "overlay",
                            "size": 10,
                            "solidity": 0.2
                          }
                        },
                        "type": "barpolar"
                      }
                    ],
                    "carpet": [
                      {
                        "aaxis": {
                          "endlinecolor": "#2a3f5f",
                          "gridcolor": "white",
                          "linecolor": "white",
                          "minorgridcolor": "white",
                          "startlinecolor": "#2a3f5f"
                        },
                        "baxis": {
                          "endlinecolor": "#2a3f5f",
                          "gridcolor": "white",
                          "linecolor": "white",
                          "minorgridcolor": "white",
                          "startlinecolor": "#2a3f5f"
                        },
                        "type": "carpet"
                      }
                    ],
                    "choropleth": [
                      {
                        "colorbar": {
                          "outlinewidth": 0,
                          "ticks": ""
                        },
                        "type": "choropleth"
                      }
                    ],
                    "contour": [
                      {
                        "colorbar": {
                          "outlinewidth": 0,
                          "ticks": ""
                        },
                        "colorscale": [
                          [
                            0,
                            "#0d0887"
                          ],
                          [
                            0.1111111111111111,
                            "#46039f"
                          ],
                          [
                            0.2222222222222222,
                            "#7201a8"
                          ],
                          [
                            0.3333333333333333,
                            "#9c179e"
                          ],
                          [
                            0.4444444444444444,
                            "#bd3786"
                          ],
                          [
                            0.5555555555555556,
                            "#d8576b"
                          ],
                          [
                            0.6666666666666666,
                            "#ed7953"
                          ],
                          [
                            0.7777777777777778,
                            "#fb9f3a"
                          ],
                          [
                            0.8888888888888888,
                            "#fdca26"
                          ],
                          [
                            1,
                            "#f0f921"
                          ]
                        ],
                        "type": "contour"
                      }
                    ],
                    "contourcarpet": [
                      {
                        "colorbar": {
                          "outlinewidth": 0,
                          "ticks": ""
                        },
                        "type": "contourcarpet"
                      }
                    ],
                    "heatmap": [
                      {
                        "colorbar": {
                          "outlinewidth": 0,
                          "ticks": ""
                        },
                        "colorscale": [
                          [
                            0,
                            "#0d0887"
                          ],
                          [
                            0.1111111111111111,
                            "#46039f"
                          ],
                          [
                            0.2222222222222222,
                            "#7201a8"
                          ],
                          [
                            0.3333333333333333,
                            "#9c179e"
                          ],
                          [
                            0.4444444444444444,
                            "#bd3786"
                          ],
                          [
                            0.5555555555555556,
                            "#d8576b"
                          ],
                          [
                            0.6666666666666666,
                            "#ed7953"
                          ],
                          [
                            0.7777777777777778,
                            "#fb9f3a"
                          ],
                          [
                            0.8888888888888888,
                            "#fdca26"
                          ],
                          [
                            1,
                            "#f0f921"
                          ]
                        ],
                        "type": "heatmap"
                      }
                    ],
                    "heatmapgl": [
                      {
                        "colorbar": {
                          "outlinewidth": 0,
                          "ticks": ""
                        },
                        "colorscale": [
                          [
                            0,
                            "#0d0887"
                          ],
                          [
                            0.1111111111111111,
                            "#46039f"
                          ],
                          [
                            0.2222222222222222,
                            "#7201a8"
                          ],
                          [
                            0.3333333333333333,
                            "#9c179e"
                          ],
                          [
                            0.4444444444444444,
                            "#bd3786"
                          ],
                          [
                            0.5555555555555556,
                            "#d8576b"
                          ],
                          [
                            0.6666666666666666,
                            "#ed7953"
                          ],
                          [
                            0.7777777777777778,
                            "#fb9f3a"
                          ],
                          [
                            0.8888888888888888,
                            "#fdca26"
                          ],
                          [
                            1,
                            "#f0f921"
                          ]
                        ],
                        "type": "heatmapgl"
                      }
                    ],
                    "histogram": [
                      {
                        "marker": {
                          "pattern": {
                            "fillmode": "overlay",
                            "size": 10,
                            "solidity": 0.2
                          }
                        },
                        "type": "histogram"
                      }
                    ],
                    "histogram2d": [
                      {
                        "colorbar": {
                          "outlinewidth": 0,
                          "ticks": ""
                        },
                        "colorscale": [
                          [
                            0,
                            "#0d0887"
                          ],
                          [
                            0.1111111111111111,
                            "#46039f"
                          ],
                          [
                            0.2222222222222222,
                            "#7201a8"
                          ],
                          [
                            0.3333333333333333,
                            "#9c179e"
                          ],
                          [
                            0.4444444444444444,
                            "#bd3786"
                          ],
                          [
                            0.5555555555555556,
                            "#d8576b"
                          ],
                          [
                            0.6666666666666666,
                            "#ed7953"
                          ],
                          [
                            0.7777777777777778,
                            "#fb9f3a"
                          ],
                          [
                            0.8888888888888888,
                            "#fdca26"
                          ],
                          [
                            1,
                            "#f0f921"
                          ]
                        ],
                        "type": "histogram2d"
                      }
                    ],
                    "histogram2dcontour": [
                      {
                        "colorbar": {
                          "outlinewidth": 0,
                          "ticks": ""
                        },
                        "colorscale": [
                          [
                            0,
                            "#0d0887"
                          ],
                          [
                            0.1111111111111111,
                            "#46039f"
                          ],
                          [
                            0.2222222222222222,
                            "#7201a8"
                          ],
                          [
                            0.3333333333333333,
                            "#9c179e"
                          ],
                          [
                            0.4444444444444444,
                            "#bd3786"
                          ],
                          [
                            0.5555555555555556,
                            "#d8576b"
                          ],
                          [
                            0.6666666666666666,
                            "#ed7953"
                          ],
                          [
                            0.7777777777777778,
                            "#fb9f3a"
                          ],
                          [
                            0.8888888888888888,
                            "#fdca26"
                          ],
                          [
                            1,
                            "#f0f921"
                          ]
                        ],
                        "type": "histogram2dcontour"
                      }
                    ],
                    "mesh3d": [
                      {
                        "colorbar": {
                          "outlinewidth": 0,
                          "ticks": ""
                        },
                        "type": "mesh3d"
                      }
                    ],
                    "parcoords": [
                      {
                        "line": {
                          "colorbar": {
                            "outlinewidth": 0,
                            "ticks": ""
                          }
                        },
                        "type": "parcoords"
                      }
                    ],
                    "pie": [
                      {
                        "automargin": true,
                        "type": "pie"
                      }
                    ],
                    "scatter": [
                      {
                        "marker": {
                          "colorbar": {
                            "outlinewidth": 0,
                            "ticks": ""
                          }
                        },
                        "type": "scatter"
                      }
                    ],
                    "scatter3d": [
                      {
                        "line": {
                          "colorbar": {
                            "outlinewidth": 0,
                            "ticks": ""
                          }
                        },
                        "marker": {
                          "colorbar": {
                            "outlinewidth": 0,
                            "ticks": ""
                          }
                        },
                        "type": "scatter3d"
                      }
                    ],
                    "scattercarpet": [
                      {
                        "marker": {
                          "colorbar": {
                            "outlinewidth": 0,
                            "ticks": ""
                          }
                        },
                        "type": "scattercarpet"
                      }
                    ],
                    "scattergeo": [
                      {
                        "marker": {
                          "colorbar": {
                            "outlinewidth": 0,
                            "ticks": ""
                          }
                        },
                        "type": "scattergeo"
                      }
                    ],
                    "scattergl": [
                      {
                        "marker": {
                          "colorbar": {
                            "outlinewidth": 0,
                            "ticks": ""
                          }
                        },
                        "type": "scattergl"
                      }
                    ],
                    "scattermapbox": [
                      {
                        "marker": {
                          "colorbar": {
                            "outlinewidth": 0,
                            "ticks": ""
                          }
                        },
                        "type": "scattermapbox"
                      }
                    ],
                    "scatterpolar": [
                      {
                        "marker": {
                          "colorbar": {
                            "outlinewidth": 0,
                            "ticks": ""
                          }
                        },
                        "type": "scatterpolar"
                      }
                    ],
                    "scatterpolargl": [
                      {
                        "marker": {
                          "colorbar": {
                            "outlinewidth": 0,
                            "ticks": ""
                          }
                        },
                        "type": "scatterpolargl"
                      }
                    ],
                    "scatterternary": [
                      {
                        "marker": {
                          "colorbar": {
                            "outlinewidth": 0,
                            "ticks": ""
                          }
                        },
                        "type": "scatterternary"
                      }
                    ],
                    "surface": [
                      {
                        "colorbar": {
                          "outlinewidth": 0,
                          "ticks": ""
                        },
                        "colorscale": [
                          [
                            0,
                            "#0d0887"
                          ],
                          [
                            0.1111111111111111,
                            "#46039f"
                          ],
                          [
                            0.2222222222222222,
                            "#7201a8"
                          ],
                          [
                            0.3333333333333333,
                            "#9c179e"
                          ],
                          [
                            0.4444444444444444,
                            "#bd3786"
                          ],
                          [
                            0.5555555555555556,
                            "#d8576b"
                          ],
                          [
                            0.6666666666666666,
                            "#ed7953"
                          ],
                          [
                            0.7777777777777778,
                            "#fb9f3a"
                          ],
                          [
                            0.8888888888888888,
                            "#fdca26"
                          ],
                          [
                            1,
                            "#f0f921"
                          ]
                        ],
                        "type": "surface"
                      }
                    ],
                    "table": [
                      {
                        "cells": {
                          "fill": {
                            "color": "#EBF0F8"
                          },
                          "line": {
                            "color": "white"
                          }
                        },
                        "header": {
                          "fill": {
                            "color": "#C8D4E3"
                          },
                          "line": {
                            "color": "white"
                          }
                        },
                        "type": "table"
                      }
                    ]
                  },
                  "layout": {
                    "annotationdefaults": {
                      "arrowcolor": "#2a3f5f",
                      "arrowhead": 0,
                      "arrowwidth": 1
                    },
                    "autotypenumbers": "strict",
                    "coloraxis": {
                      "colorbar": {
                        "outlinewidth": 0,
                        "ticks": ""
                      }
                    },
                    "colorscale": {
                      "diverging": [
                        [
                          0,
                          "#8e0152"
                        ],
                        [
                          0.1,
                          "#c51b7d"
                        ],
                        [
                          0.2,
                          "#de77ae"
                        ],
                        [
                          0.3,
                          "#f1b6da"
                        ],
                        [
                          0.4,
                          "#fde0ef"
                        ],
                        [
                          0.5,
                          "#f7f7f7"
                        ],
                        [
                          0.6,
                          "#e6f5d0"
                        ],
                        [
                          0.7,
                          "#b8e186"
                        ],
                        [
                          0.8,
                          "#7fbc41"
                        ],
                        [
                          0.9,
                          "#4d9221"
                        ],
                        [
                          1,
                          "#276419"
                        ]
                      ],
                      "sequential": [
                        [
                          0,
                          "#0d0887"
                        ],
                        [
                          0.1111111111111111,
                          "#46039f"
                        ],
                        [
                          0.2222222222222222,
                          "#7201a8"
                        ],
                        [
                          0.3333333333333333,
                          "#9c179e"
                        ],
                        [
                          0.4444444444444444,
                          "#bd3786"
                        ],
                        [
                          0.5555555555555556,
                          "#d8576b"
                        ],
                        [
                          0.6666666666666666,
                          "#ed7953"
                        ],
                        [
                          0.7777777777777778,
                          "#fb9f3a"
                        ],
                        [
                          0.8888888888888888,
                          "#fdca26"
                        ],
                        [
                          1,
                          "#f0f921"
                        ]
                      ],
                      "sequentialminus": [
                        [
                          0,
                          "#0d0887"
                        ],
                        [
                          0.1111111111111111,
                          "#46039f"
                        ],
                        [
                          0.2222222222222222,
                          "#7201a8"
                        ],
                        [
                          0.3333333333333333,
                          "#9c179e"
                        ],
                        [
                          0.4444444444444444,
                          "#bd3786"
                        ],
                        [
                          0.5555555555555556,
                          "#d8576b"
                        ],
                        [
                          0.6666666666666666,
                          "#ed7953"
                        ],
                        [
                          0.7777777777777778,
                          "#fb9f3a"
                        ],
                        [
                          0.8888888888888888,
                          "#fdca26"
                        ],
                        [
                          1,
                          "#f0f921"
                        ]
                      ]
                    },
                    "colorway": [
                      "#636efa",
                      "#EF553B",
                      "#00cc96",
                      "#ab63fa",
                      "#FFA15A",
                      "#19d3f3",
                      "#FF6692",
                      "#B6E880",
                      "#FF97FF",
                      "#FECB52"
                    ],
                    "font": {
                      "color": "#2a3f5f"
                    },
                    "geo": {
                      "bgcolor": "white",
                      "lakecolor": "white",
                      "landcolor": "#E5ECF6",
                      "showlakes": true,
                      "showland": true,
                      "subunitcolor": "white"
                    },
                    "hoverlabel": {
                      "align": "left"
                    },
                    "hovermode": "closest",
                    "mapbox": {
                      "style": "light"
                    },
                    "paper_bgcolor": "white",
                    "plot_bgcolor": "#E5ECF6",
                    "polar": {
                      "angularaxis": {
                        "gridcolor": "white",
                        "linecolor": "white",
                        "ticks": ""
                      },
                      "bgcolor": "#E5ECF6",
                      "radialaxis": {
                        "gridcolor": "white",
                        "linecolor": "white",
                        "ticks": ""
                      }
                    },
                    "scene": {
                      "xaxis": {
                        "backgroundcolor": "#E5ECF6",
                        "gridcolor": "white",
                        "gridwidth": 2,
                        "linecolor": "white",
                        "showbackground": true,
                        "ticks": "",
                        "zerolinecolor": "white"
                      },
                      "yaxis": {
                        "backgroundcolor": "#E5ECF6",
                        "gridcolor": "white",
                        "gridwidth": 2,
                        "linecolor": "white",
                        "showbackground": true,
                        "ticks": "",
                        "zerolinecolor": "white"
                      },
                      "zaxis": {
                        "backgroundcolor": "#E5ECF6",
                        "gridcolor": "white",
                        "gridwidth": 2,
                        "linecolor": "white",
                        "showbackground": true,
                        "ticks": "",
                        "zerolinecolor": "white"
                      }
                    },
                    "shapedefaults": {
                      "line": {
                        "color": "#2a3f5f"
                      }
                    },
                    "ternary": {
                      "aaxis": {
                        "gridcolor": "white",
                        "linecolor": "white",
                        "ticks": ""
                      },
                      "baxis": {
                        "gridcolor": "white",
                        "linecolor": "white",
                        "ticks": ""
                      },
                      "bgcolor": "#E5ECF6",
                      "caxis": {
                        "gridcolor": "white",
                        "linecolor": "white",
                        "ticks": ""
                      }
                    },
                    "title": {
                      "x": 0.05
                    },
                    "xaxis": {
                      "automargin": true,
                      "gridcolor": "white",
                      "linecolor": "white",
                      "ticks": "",
                      "title": {
                        "standoff": 15
                      },
                      "zerolinecolor": "white",
                      "zerolinewidth": 2
                    },
                    "yaxis": {
                      "automargin": true,
                      "gridcolor": "white",
                      "linecolor": "white",
                      "ticks": "",
                      "title": {
                        "standoff": 15
                      },
                      "zerolinecolor": "white",
                      "zerolinewidth": 2
                    }
                  }
                },
                "title": {
                  "text": "Comparison of class frequencies",
                  "x": 0.5,
                  "y": 0.95
                },
                "height": 50,
                "width": 80,
                "showlegend": true
              },
              "config": {
                "plotlyServerURL": "https://plot.ly"
              }
            },
            "text/html": [
              "<div>                            <div id=\"b25af6dd-d022-42e7-956d-31f6882b6693\" class=\"plotly-graph-div\" style=\"height:50px; width:80px;\"></div>            <script type=\"text/javascript\">                require([\"plotly\"], function(Plotly) {                    window.PLOTLYENV=window.PLOTLYENV || {};                                    if (document.getElementById(\"b25af6dd-d022-42e7-956d-31f6882b6693\")) {                    Plotly.newPlot(                        \"b25af6dd-d022-42e7-956d-31f6882b6693\",                        [{\"hole\":0.5,\"labels\":[\"Electronics\",\"Household\",\"Books\",\"Clothing & Accessories\"],\"textinfo\":\"percent\",\"title\":{\"text\":\" \"},\"values\":[5308,10564,6256,5674],\"type\":\"pie\"}],                        {\"template\":{\"data\":{\"bar\":[{\"error_x\":{\"color\":\"#2a3f5f\"},\"error_y\":{\"color\":\"#2a3f5f\"},\"marker\":{\"line\":{\"color\":\"#E5ECF6\",\"width\":0.5},\"pattern\":{\"fillmode\":\"overlay\",\"size\":10,\"solidity\":0.2}},\"type\":\"bar\"}],\"barpolar\":[{\"marker\":{\"line\":{\"color\":\"#E5ECF6\",\"width\":0.5},\"pattern\":{\"fillmode\":\"overlay\",\"size\":10,\"solidity\":0.2}},\"type\":\"barpolar\"}],\"carpet\":[{\"aaxis\":{\"endlinecolor\":\"#2a3f5f\",\"gridcolor\":\"white\",\"linecolor\":\"white\",\"minorgridcolor\":\"white\",\"startlinecolor\":\"#2a3f5f\"},\"baxis\":{\"endlinecolor\":\"#2a3f5f\",\"gridcolor\":\"white\",\"linecolor\":\"white\",\"minorgridcolor\":\"white\",\"startlinecolor\":\"#2a3f5f\"},\"type\":\"carpet\"}],\"choropleth\":[{\"colorbar\":{\"outlinewidth\":0,\"ticks\":\"\"},\"type\":\"choropleth\"}],\"contour\":[{\"colorbar\":{\"outlinewidth\":0,\"ticks\":\"\"},\"colorscale\":[[0.0,\"#0d0887\"],[0.1111111111111111,\"#46039f\"],[0.2222222222222222,\"#7201a8\"],[0.3333333333333333,\"#9c179e\"],[0.4444444444444444,\"#bd3786\"],[0.5555555555555556,\"#d8576b\"],[0.6666666666666666,\"#ed7953\"],[0.7777777777777778,\"#fb9f3a\"],[0.8888888888888888,\"#fdca26\"],[1.0,\"#f0f921\"]],\"type\":\"contour\"}],\"contourcarpet\":[{\"colorbar\":{\"outlinewidth\":0,\"ticks\":\"\"},\"type\":\"contourcarpet\"}],\"heatmap\":[{\"colorbar\":{\"outlinewidth\":0,\"ticks\":\"\"},\"colorscale\":[[0.0,\"#0d0887\"],[0.1111111111111111,\"#46039f\"],[0.2222222222222222,\"#7201a8\"],[0.3333333333333333,\"#9c179e\"],[0.4444444444444444,\"#bd3786\"],[0.5555555555555556,\"#d8576b\"],[0.6666666666666666,\"#ed7953\"],[0.7777777777777778,\"#fb9f3a\"],[0.8888888888888888,\"#fdca26\"],[1.0,\"#f0f921\"]],\"type\":\"heatmap\"}],\"heatmapgl\":[{\"colorbar\":{\"outlinewidth\":0,\"ticks\":\"\"},\"colorscale\":[[0.0,\"#0d0887\"],[0.1111111111111111,\"#46039f\"],[0.2222222222222222,\"#7201a8\"],[0.3333333333333333,\"#9c179e\"],[0.4444444444444444,\"#bd3786\"],[0.5555555555555556,\"#d8576b\"],[0.6666666666666666,\"#ed7953\"],[0.7777777777777778,\"#fb9f3a\"],[0.8888888888888888,\"#fdca26\"],[1.0,\"#f0f921\"]],\"type\":\"heatmapgl\"}],\"histogram\":[{\"marker\":{\"pattern\":{\"fillmode\":\"overlay\",\"size\":10,\"solidity\":0.2}},\"type\":\"histogram\"}],\"histogram2d\":[{\"colorbar\":{\"outlinewidth\":0,\"ticks\":\"\"},\"colorscale\":[[0.0,\"#0d0887\"],[0.1111111111111111,\"#46039f\"],[0.2222222222222222,\"#7201a8\"],[0.3333333333333333,\"#9c179e\"],[0.4444444444444444,\"#bd3786\"],[0.5555555555555556,\"#d8576b\"],[0.6666666666666666,\"#ed7953\"],[0.7777777777777778,\"#fb9f3a\"],[0.8888888888888888,\"#fdca26\"],[1.0,\"#f0f921\"]],\"type\":\"histogram2d\"}],\"histogram2dcontour\":[{\"colorbar\":{\"outlinewidth\":0,\"ticks\":\"\"},\"colorscale\":[[0.0,\"#0d0887\"],[0.1111111111111111,\"#46039f\"],[0.2222222222222222,\"#7201a8\"],[0.3333333333333333,\"#9c179e\"],[0.4444444444444444,\"#bd3786\"],[0.5555555555555556,\"#d8576b\"],[0.6666666666666666,\"#ed7953\"],[0.7777777777777778,\"#fb9f3a\"],[0.8888888888888888,\"#fdca26\"],[1.0,\"#f0f921\"]],\"type\":\"histogram2dcontour\"}],\"mesh3d\":[{\"colorbar\":{\"outlinewidth\":0,\"ticks\":\"\"},\"type\":\"mesh3d\"}],\"parcoords\":[{\"line\":{\"colorbar\":{\"outlinewidth\":0,\"ticks\":\"\"}},\"type\":\"parcoords\"}],\"pie\":[{\"automargin\":true,\"type\":\"pie\"}],\"scatter\":[{\"marker\":{\"colorbar\":{\"outlinewidth\":0,\"ticks\":\"\"}},\"type\":\"scatter\"}],\"scatter3d\":[{\"line\":{\"colorbar\":{\"outlinewidth\":0,\"ticks\":\"\"}},\"marker\":{\"colorbar\":{\"outlinewidth\":0,\"ticks\":\"\"}},\"type\":\"scatter3d\"}],\"scattercarpet\":[{\"marker\":{\"colorbar\":{\"outlinewidth\":0,\"ticks\":\"\"}},\"type\":\"scattercarpet\"}],\"scattergeo\":[{\"marker\":{\"colorbar\":{\"outlinewidth\":0,\"ticks\":\"\"}},\"type\":\"scattergeo\"}],\"scattergl\":[{\"marker\":{\"colorbar\":{\"outlinewidth\":0,\"ticks\":\"\"}},\"type\":\"scattergl\"}],\"scattermapbox\":[{\"marker\":{\"colorbar\":{\"outlinewidth\":0,\"ticks\":\"\"}},\"type\":\"scattermapbox\"}],\"scatterpolar\":[{\"marker\":{\"colorbar\":{\"outlinewidth\":0,\"ticks\":\"\"}},\"type\":\"scatterpolar\"}],\"scatterpolargl\":[{\"marker\":{\"colorbar\":{\"outlinewidth\":0,\"ticks\":\"\"}},\"type\":\"scatterpolargl\"}],\"scatterternary\":[{\"marker\":{\"colorbar\":{\"outlinewidth\":0,\"ticks\":\"\"}},\"type\":\"scatterternary\"}],\"surface\":[{\"colorbar\":{\"outlinewidth\":0,\"ticks\":\"\"},\"colorscale\":[[0.0,\"#0d0887\"],[0.1111111111111111,\"#46039f\"],[0.2222222222222222,\"#7201a8\"],[0.3333333333333333,\"#9c179e\"],[0.4444444444444444,\"#bd3786\"],[0.5555555555555556,\"#d8576b\"],[0.6666666666666666,\"#ed7953\"],[0.7777777777777778,\"#fb9f3a\"],[0.8888888888888888,\"#fdca26\"],[1.0,\"#f0f921\"]],\"type\":\"surface\"}],\"table\":[{\"cells\":{\"fill\":{\"color\":\"#EBF0F8\"},\"line\":{\"color\":\"white\"}},\"header\":{\"fill\":{\"color\":\"#C8D4E3\"},\"line\":{\"color\":\"white\"}},\"type\":\"table\"}]},\"layout\":{\"annotationdefaults\":{\"arrowcolor\":\"#2a3f5f\",\"arrowhead\":0,\"arrowwidth\":1},\"autotypenumbers\":\"strict\",\"coloraxis\":{\"colorbar\":{\"outlinewidth\":0,\"ticks\":\"\"}},\"colorscale\":{\"diverging\":[[0,\"#8e0152\"],[0.1,\"#c51b7d\"],[0.2,\"#de77ae\"],[0.3,\"#f1b6da\"],[0.4,\"#fde0ef\"],[0.5,\"#f7f7f7\"],[0.6,\"#e6f5d0\"],[0.7,\"#b8e186\"],[0.8,\"#7fbc41\"],[0.9,\"#4d9221\"],[1,\"#276419\"]],\"sequential\":[[0.0,\"#0d0887\"],[0.1111111111111111,\"#46039f\"],[0.2222222222222222,\"#7201a8\"],[0.3333333333333333,\"#9c179e\"],[0.4444444444444444,\"#bd3786\"],[0.5555555555555556,\"#d8576b\"],[0.6666666666666666,\"#ed7953\"],[0.7777777777777778,\"#fb9f3a\"],[0.8888888888888888,\"#fdca26\"],[1.0,\"#f0f921\"]],\"sequentialminus\":[[0.0,\"#0d0887\"],[0.1111111111111111,\"#46039f\"],[0.2222222222222222,\"#7201a8\"],[0.3333333333333333,\"#9c179e\"],[0.4444444444444444,\"#bd3786\"],[0.5555555555555556,\"#d8576b\"],[0.6666666666666666,\"#ed7953\"],[0.7777777777777778,\"#fb9f3a\"],[0.8888888888888888,\"#fdca26\"],[1.0,\"#f0f921\"]]},\"colorway\":[\"#636efa\",\"#EF553B\",\"#00cc96\",\"#ab63fa\",\"#FFA15A\",\"#19d3f3\",\"#FF6692\",\"#B6E880\",\"#FF97FF\",\"#FECB52\"],\"font\":{\"color\":\"#2a3f5f\"},\"geo\":{\"bgcolor\":\"white\",\"lakecolor\":\"white\",\"landcolor\":\"#E5ECF6\",\"showlakes\":true,\"showland\":true,\"subunitcolor\":\"white\"},\"hoverlabel\":{\"align\":\"left\"},\"hovermode\":\"closest\",\"mapbox\":{\"style\":\"light\"},\"paper_bgcolor\":\"white\",\"plot_bgcolor\":\"#E5ECF6\",\"polar\":{\"angularaxis\":{\"gridcolor\":\"white\",\"linecolor\":\"white\",\"ticks\":\"\"},\"bgcolor\":\"#E5ECF6\",\"radialaxis\":{\"gridcolor\":\"white\",\"linecolor\":\"white\",\"ticks\":\"\"}},\"scene\":{\"xaxis\":{\"backgroundcolor\":\"#E5ECF6\",\"gridcolor\":\"white\",\"gridwidth\":2,\"linecolor\":\"white\",\"showbackground\":true,\"ticks\":\"\",\"zerolinecolor\":\"white\"},\"yaxis\":{\"backgroundcolor\":\"#E5ECF6\",\"gridcolor\":\"white\",\"gridwidth\":2,\"linecolor\":\"white\",\"showbackground\":true,\"ticks\":\"\",\"zerolinecolor\":\"white\"},\"zaxis\":{\"backgroundcolor\":\"#E5ECF6\",\"gridcolor\":\"white\",\"gridwidth\":2,\"linecolor\":\"white\",\"showbackground\":true,\"ticks\":\"\",\"zerolinecolor\":\"white\"}},\"shapedefaults\":{\"line\":{\"color\":\"#2a3f5f\"}},\"ternary\":{\"aaxis\":{\"gridcolor\":\"white\",\"linecolor\":\"white\",\"ticks\":\"\"},\"baxis\":{\"gridcolor\":\"white\",\"linecolor\":\"white\",\"ticks\":\"\"},\"bgcolor\":\"#E5ECF6\",\"caxis\":{\"gridcolor\":\"white\",\"linecolor\":\"white\",\"ticks\":\"\"}},\"title\":{\"x\":0.05},\"xaxis\":{\"automargin\":true,\"gridcolor\":\"white\",\"linecolor\":\"white\",\"ticks\":\"\",\"title\":{\"standoff\":15},\"zerolinecolor\":\"white\",\"zerolinewidth\":2},\"yaxis\":{\"automargin\":true,\"gridcolor\":\"white\",\"linecolor\":\"white\",\"ticks\":\"\",\"title\":{\"standoff\":15},\"zerolinecolor\":\"white\",\"zerolinewidth\":2}}},\"title\":{\"text\":\"Comparison of class frequencies\",\"x\":0.5,\"y\":0.95},\"height\":50,\"width\":80,\"showlegend\":true},                        {\"responsive\": true}                    ).then(function(){\n",
              "                            \n",
              "var gd = document.getElementById('b25af6dd-d022-42e7-956d-31f6882b6693');\n",
              "var x = new MutationObserver(function (mutations, observer) {{\n",
              "        var display = window.getComputedStyle(gd).display;\n",
              "        if (!display || display === 'none') {{\n",
              "            console.log([gd, 'removed!']);\n",
              "            Plotly.purge(gd);\n",
              "            observer.disconnect();\n",
              "        }}\n",
              "}});\n",
              "\n",
              "// Listen for the removal of the full notebook cells\n",
              "var notebookContainer = gd.closest('#notebook-container');\n",
              "if (notebookContainer) {{\n",
              "    x.observe(notebookContainer, {childList: true});\n",
              "}}\n",
              "\n",
              "// Listen for the clearing of the current output cell\n",
              "var outputEl = gd.closest('.output');\n",
              "if (outputEl) {{\n",
              "    x.observe(outputEl, {childList: true});\n",
              "}}\n",
              "\n",
              "                        })                };                });            </script>        </div>"
            ]
          },
          "metadata": {}
        }
      ],
      "source": [
        "# Visualization of class frequencies\n",
        "values = np.array([len(data_e), len(data_h), len(data_b), len(data_c)])\n",
        "labels = ['Electronics', 'Household', 'Books', 'Clothing & Accessories']\n",
        "fig = go.Figure(data = [go.Pie(values = values, labels = labels, hole = 0.5, textinfo = 'percent', title = \" \")])\n",
        "text_title = \"Comparison of class frequencies\"\n",
        "fig.update_layout(height = 50, width = 80, showlegend = True, title = dict(text = text_title, x = 0.5, y = 0.95))\n",
        "fig.show()"
      ]
    },
    {
      "cell_type": "code",
      "execution_count": null,
      "metadata": {
        "colab": {
          "base_uri": "https://localhost:8080/",
          "height": 585
        },
        "id": "i2OYlx2jCa99",
        "outputId": "0e476d13-6467-423c-ae04-ba7ae92b164d"
      },
      "outputs": [
        {
          "output_type": "display_data",
          "data": {
            "text/plain": [
              "<Figure size 720x604.8 with 4 Axes>"
            ],
            "image/png": "[encoded data removed]"
          },
          "metadata": {}
        }
      ],
      "source": [
        "# Distribution of number of characters in description\n",
        "data_e_char = data_e['description'].str.len()\n",
        "data_h_char = data_h['description'].str.len()\n",
        "data_b_char = data_b['description'].str.len()\n",
        "data_c_char = data_c['description'].str.len()\n",
        "\n",
        "fig, ax = plt.subplots(2, 2, figsize = (10, 8.4), sharey = False)\n",
        "sns.histplot(x = data_e_char, bins = 10, ax = ax[0, 0]).set_title('Class: Electronics')\n",
        "sns.histplot(x = data_h_char, bins = 10, ax = ax[0, 1]).set_title('Class: Household')\n",
        "sns.histplot(x = data_b_char, bins = 10, ax = ax[1, 0]).set_title('Class: Books')\n",
        "sns.histplot(x = data_c_char, bins = 10, ax = ax[1, 1]).set_title('Class: Clothing & Accessories')\n",
        "\n",
        "fig.suptitle(\"Distribution of number of characters in description\")\n",
        "for i in range(4):\n",
        "    ax[i // 2, i % 2].set_xlabel(\" \") if i // 2 == 0 else ax[i // 2, i % 2].set_xlabel(\"Number of characters\")\n",
        "    if i % 2 != 0: ax[i // 2, i % 2].set_ylabel(\" \")"
      ]
    },
    {
      "cell_type": "code",
      "execution_count": null,
      "metadata": {
        "colab": {
          "base_uri": "https://localhost:8080/",
          "height": 585
        },
        "id": "1shT8pjoDvNu",
        "outputId": "880fc847-d3e4-4ee0-882c-6fe3de175e7d"
      },
      "outputs": [
        {
          "output_type": "display_data",
          "data": {
            "text/plain": [
              "<Figure size 720x604.8 with 4 Axes>"
            ],
            "image/png": "[encoded data removed]"
          },
          "metadata": {}
        }
      ],
      "source": [
        "# Distribution of number of words in description\n",
        "data_e_word = data_e['description'].str.split().map(lambda x: len(x))\n",
        "data_h_word = data_h['description'].str.split().map(lambda x: len(x))\n",
        "data_b_word = data_b['description'].str.split().map(lambda x: len(x))\n",
        "data_c_word = data_c['description'].str.split().map(lambda x: len(x))\n",
        "\n",
        "fig, ax = plt.subplots(2, 2, figsize = (10, 8.4), sharey = False)\n",
        "sns.histplot(x = data_e_word, bins = 20, ax = ax[0, 0]).set_title('Class: Electronics')\n",
        "sns.histplot(x = data_h_word, bins = 20, ax = ax[0, 1]).set_title('Class: Household')\n",
        "sns.histplot(x = data_b_word, bins = 20, ax = ax[1, 0]).set_title('Class: Books')\n",
        "sns.histplot(x = data_c_word, bins = 20, ax = ax[1, 1]).set_title('Class: Clothing & Accessories')\n",
        "\n",
        "fig.suptitle(\"Distribution of number of words in description\")\n",
        "for i in range(4):\n",
        "    ax[i // 2, i % 2].set_xlabel(\" \") if i // 2 == 0 else ax[i // 2, i % 2].set_xlabel(\"Number of words\")\n",
        "    if i % 2 != 0: ax[i // 2, i % 2].set_ylabel(\" \")"
      ]
    },
    {
      "cell_type": "code",
      "execution_count": null,
      "metadata": {
        "colab": {
          "base_uri": "https://localhost:8080/",
          "height": 585
        },
        "id": "-Cu3lsBECbBL",
        "outputId": "50c406a4-161a-48c6-92f8-95fe6064d9aa"
      },
      "outputs": [
        {
          "output_type": "display_data",
          "data": {
            "text/plain": [
              "<Figure size 720x604.8 with 4 Axes>"
            ],
            "image/png": "[encoded data removed]"
          },
          "metadata": {}
        }
      ],
      "source": [
        "# Distribution of average word-length in description\n",
        "data_e_avg = data_e['description'].str.split().apply(lambda x : [len(i) for i in x]).map(lambda x: np.mean(x))\n",
        "data_h_avg = data_h['description'].str.split().apply(lambda x : [len(i) for i in x]).map(lambda x: np.mean(x))\n",
        "data_b_avg = data_b['description'].str.split().apply(lambda x : [len(i) for i in x]).map(lambda x: np.mean(x))\n",
        "data_c_avg = data_c['description'].str.split().apply(lambda x : [len(i) for i in x]).map(lambda x: np.mean(x))\n",
        "\n",
        "fig, ax = plt.subplots(2, 2, figsize = (10, 8.4), sharey = False)\n",
        "sns.histplot(x = data_e_avg, bins = 20, ax = ax[0, 0]).set_title('Class: Electronics')\n",
        "sns.histplot(x = data_h_avg, bins = 20, ax = ax[0, 1]).set_title('Class: Household')\n",
        "sns.histplot(x = data_b_avg, bins = 20, ax = ax[1, 0]).set_title('Class: Books')\n",
        "sns.histplot(x = data_c_avg, bins = 20, ax = ax[1, 1]).set_title('Class: Clothing & Accessories')\n",
        "\n",
        "fig.suptitle(\"Distribution of average word-length in description\")\n",
        "for i in range(4):\n",
        "    ax[i // 2, i % 2].set_xlabel(\" \") if i // 2 == 0 else ax[i // 2, i % 2].set_xlabel(\"Average word-length\")\n",
        "    if i % 2 != 0: ax[i // 2, i % 2].set_ylabel(\" \")"
      ]
    },
    {
      "cell_type": "code",
      "execution_count": null,
      "metadata": {
        "colab": {
          "base_uri": "https://localhost:8080/",
          "height": 517
        },
        "id": "n-l5PVAzDm1k",
        "outputId": "296780ec-1cd1-48d0-d9ae-302dc023c4c4"
      },
      "outputs": [
        {
          "output_type": "display_data",
          "data": {
            "application/vnd.plotly.v1+json": {
              "data": [
                {
                  "hole": 0.5,
                  "labels": [
                    "Training set",
                    "Validation Set",
                    "Test set"
                  ],
                  "textinfo": "percent",
                  "title": {
                    "text": " "
                  },
                  "values": [
                    22241,
                    2780,
                    2781
                  ],
                  "type": "pie"
                }
              ],
              "layout": {
                "template": {
                  "data": {
                    "bar": [
                      {
                        "error_x": {
                          "color": "#2a3f5f"
                        },
                        "error_y": {
                          "color": "#2a3f5f"
                        },
                        "marker": {
                          "line": {
                            "color": "#E5ECF6",
                            "width": 0.5
                          },
                          "pattern": {
                            "fillmode": "overlay",
                            "size": 10,
                            "solidity": 0.2
                          }
                        },
                        "type": "bar"
                      }
                    ],
                    "barpolar": [
                      {
                        "marker": {
                          "line": {
                            "color": "#E5ECF6",
                            "width": 0.5
                          },
                          "pattern": {
                            "fillmode": "overlay",
                            "size": 10,
                            "solidity": 0.2
                          }
                        },
                        "type": "barpolar"
                      }
                    ],
                    "carpet": [
                      {
                        "aaxis": {
                          "endlinecolor": "#2a3f5f",
                          "gridcolor": "white",
                          "linecolor": "white",
                          "minorgridcolor": "white",
                          "startlinecolor": "#2a3f5f"
                        },
                        "baxis": {
                          "endlinecolor": "#2a3f5f",
                          "gridcolor": "white",
                          "linecolor": "white",
                          "minorgridcolor": "white",
                          "startlinecolor": "#2a3f5f"
                        },
                        "type": "carpet"
                      }
                    ],
                    "choropleth": [
                      {
                        "colorbar": {
                          "outlinewidth": 0,
                          "ticks": ""
                        },
                        "type": "choropleth"
                      }
                    ],
                    "contour": [
                      {
                        "colorbar": {
                          "outlinewidth": 0,
                          "ticks": ""
                        },
                        "colorscale": [
                          [
                            0,
                            "#0d0887"
                          ],
                          [
                            0.1111111111111111,
                            "#46039f"
                          ],
                          [
                            0.2222222222222222,
                            "#7201a8"
                          ],
                          [
                            0.3333333333333333,
                            "#9c179e"
                          ],
                          [
                            0.4444444444444444,
                            "#bd3786"
                          ],
                          [
                            0.5555555555555556,
                            "#d8576b"
                          ],
                          [
                            0.6666666666666666,
                            "#ed7953"
                          ],
                          [
                            0.7777777777777778,
                            "#fb9f3a"
                          ],
                          [
                            0.8888888888888888,
                            "#fdca26"
                          ],
                          [
                            1,
                            "#f0f921"
                          ]
                        ],
                        "type": "contour"
                      }
                    ],
                    "contourcarpet": [
                      {
                        "colorbar": {
                          "outlinewidth": 0,
                          "ticks": ""
                        },
                        "type": "contourcarpet"
                      }
                    ],
                    "heatmap": [
                      {
                        "colorbar": {
                          "outlinewidth": 0,
                          "ticks": ""
                        },
                        "colorscale": [
                          [
                            0,
                            "#0d0887"
                          ],
                          [
                            0.1111111111111111,
                            "#46039f"
                          ],
                          [
                            0.2222222222222222,
                            "#7201a8"
                          ],
                          [
                            0.3333333333333333,
                            "#9c179e"
                          ],
                          [
                            0.4444444444444444,
                            "#bd3786"
                          ],
                          [
                            0.5555555555555556,
                            "#d8576b"
                          ],
                          [
                            0.6666666666666666,
                            "#ed7953"
                          ],
                          [
                            0.7777777777777778,
                            "#fb9f3a"
                          ],
                          [
                            0.8888888888888888,
                            "#fdca26"
                          ],
                          [
                            1,
                            "#f0f921"
                          ]
                        ],
                        "type": "heatmap"
                      }
                    ],
                    "heatmapgl": [
                      {
                        "colorbar": {
                          "outlinewidth": 0,
                          "ticks": ""
                        },
                        "colorscale": [
                          [
                            0,
                            "#0d0887"
                          ],
                          [
                            0.1111111111111111,
                            "#46039f"
                          ],
                          [
                            0.2222222222222222,
                            "#7201a8"
                          ],
                          [
                            0.3333333333333333,
                            "#9c179e"
                          ],
                          [
                            0.4444444444444444,
                            "#bd3786"
                          ],
                          [
                            0.5555555555555556,
                            "#d8576b"
                          ],
                          [
                            0.6666666666666666,
                            "#ed7953"
                          ],
                          [
                            0.7777777777777778,
                            "#fb9f3a"
                          ],
                          [
                            0.8888888888888888,
                            "#fdca26"
                          ],
                          [
                            1,
                            "#f0f921"
                          ]
                        ],
                        "type": "heatmapgl"
                      }
                    ],
                    "histogram": [
                      {
                        "marker": {
                          "pattern": {
                            "fillmode": "overlay",
                            "size": 10,
                            "solidity": 0.2
                          }
                        },
                        "type": "histogram"
                      }
                    ],
                    "histogram2d": [
                      {
                        "colorbar": {
                          "outlinewidth": 0,
                          "ticks": ""
                        },
                        "colorscale": [
                          [
                            0,
                            "#0d0887"
                          ],
                          [
                            0.1111111111111111,
                            "#46039f"
                          ],
                          [
                            0.2222222222222222,
                            "#7201a8"
                          ],
                          [
                            0.3333333333333333,
                            "#9c179e"
                          ],
                          [
                            0.4444444444444444,
                            "#bd3786"
                          ],
                          [
                            0.5555555555555556,
                            "#d8576b"
                          ],
                          [
                            0.6666666666666666,
                            "#ed7953"
                          ],
                          [
                            0.7777777777777778,
                            "#fb9f3a"
                          ],
                          [
                            0.8888888888888888,
                            "#fdca26"
                          ],
                          [
                            1,
                            "#f0f921"
                          ]
                        ],
                        "type": "histogram2d"
                      }
                    ],
                    "histogram2dcontour": [
                      {
                        "colorbar": {
                          "outlinewidth": 0,
                          "ticks": ""
                        },
                        "colorscale": [
                          [
                            0,
                            "#0d0887"
                          ],
                          [
                            0.1111111111111111,
                            "#46039f"
                          ],
                          [
                            0.2222222222222222,
                            "#7201a8"
                          ],
                          [
                            0.3333333333333333,
                            "#9c179e"
                          ],
                          [
                            0.4444444444444444,
                            "#bd3786"
                          ],
                          [
                            0.5555555555555556,
                            "#d8576b"
                          ],
                          [
                            0.6666666666666666,
                            "#ed7953"
                          ],
                          [
                            0.7777777777777778,
                            "#fb9f3a"
                          ],
                          [
                            0.8888888888888888,
                            "#fdca26"
                          ],
                          [
                            1,
                            "#f0f921"
                          ]
                        ],
                        "type": "histogram2dcontour"
                      }
                    ],
                    "mesh3d": [
                      {
                        "colorbar": {
                          "outlinewidth": 0,
                          "ticks": ""
                        },
                        "type": "mesh3d"
                      }
                    ],
                    "parcoords": [
                      {
                        "line": {
                          "colorbar": {
                            "outlinewidth": 0,
                            "ticks": ""
                          }
                        },
                        "type": "parcoords"
                      }
                    ],
                    "pie": [
                      {
                        "automargin": true,
                        "type": "pie"
                      }
                    ],
                    "scatter": [
                      {
                        "marker": {
                          "colorbar": {
                            "outlinewidth": 0,
                            "ticks": ""
                          }
                        },
                        "type": "scatter"
                      }
                    ],
                    "scatter3d": [
                      {
                        "line": {
                          "colorbar": {
                            "outlinewidth": 0,
                            "ticks": ""
                          }
                        },
                        "marker": {
                          "colorbar": {
                            "outlinewidth": 0,
                            "ticks": ""
                          }
                        },
                        "type": "scatter3d"
                      }
                    ],
                    "scattercarpet": [
                      {
                        "marker": {
                          "colorbar": {
                            "outlinewidth": 0,
                            "ticks": ""
                          }
                        },
                        "type": "scattercarpet"
                      }
                    ],
                    "scattergeo": [
                      {
                        "marker": {
                          "colorbar": {
                            "outlinewidth": 0,
                            "ticks": ""
                          }
                        },
                        "type": "scattergeo"
                      }
                    ],
                    "scattergl": [
                      {
                        "marker": {
                          "colorbar": {
                            "outlinewidth": 0,
                            "ticks": ""
                          }
                        },
                        "type": "scattergl"
                      }
                    ],
                    "scattermapbox": [
                      {
                        "marker": {
                          "colorbar": {
                            "outlinewidth": 0,
                            "ticks": ""
                          }
                        },
                        "type": "scattermapbox"
                      }
                    ],
                    "scatterpolar": [
                      {
                        "marker": {
                          "colorbar": {
                            "outlinewidth": 0,
                            "ticks": ""
                          }
                        },
                        "type": "scatterpolar"
                      }
                    ],
                    "scatterpolargl": [
                      {
                        "marker": {
                          "colorbar": {
                            "outlinewidth": 0,
                            "ticks": ""
                          }
                        },
                        "type": "scatterpolargl"
                      }
                    ],
                    "scatterternary": [
                      {
                        "marker": {
                          "colorbar": {
                            "outlinewidth": 0,
                            "ticks": ""
                          }
                        },
                        "type": "scatterternary"
                      }
                    ],
                    "surface": [
                      {
                        "colorbar": {
                          "outlinewidth": 0,
                          "ticks": ""
                        },
                        "colorscale": [
                          [
                            0,
                            "#0d0887"
                          ],
                          [
                            0.1111111111111111,
                            "#46039f"
                          ],
                          [
                            0.2222222222222222,
                            "#7201a8"
                          ],
                          [
                            0.3333333333333333,
                            "#9c179e"
                          ],
                          [
                            0.4444444444444444,
                            "#bd3786"
                          ],
                          [
                            0.5555555555555556,
                            "#d8576b"
                          ],
                          [
                            0.6666666666666666,
                            "#ed7953"
                          ],
                          [
                            0.7777777777777778,
                            "#fb9f3a"
                          ],
                          [
                            0.8888888888888888,
                            "#fdca26"
                          ],
                          [
                            1,
                            "#f0f921"
                          ]
                        ],
                        "type": "surface"
                      }
                    ],
                    "table": [
                      {
                        "cells": {
                          "fill": {
                            "color": "#EBF0F8"
                          },
                          "line": {
                            "color": "white"
                          }
                        },
                        "header": {
                          "fill": {
                            "color": "#C8D4E3"
                          },
                          "line": {
                            "color": "white"
                          }
                        },
                        "type": "table"
                      }
                    ]
                  },
                  "layout": {
                    "annotationdefaults": {
                      "arrowcolor": "#2a3f5f",
                      "arrowhead": 0,
                      "arrowwidth": 1
                    },
                    "autotypenumbers": "strict",
                    "coloraxis": {
                      "colorbar": {
                        "outlinewidth": 0,
                        "ticks": ""
                      }
                    },
                    "colorscale": {
                      "diverging": [
                        [
                          0,
                          "#8e0152"
                        ],
                        [
                          0.1,
                          "#c51b7d"
                        ],
                        [
                          0.2,
                          "#de77ae"
                        ],
                        [
                          0.3,
                          "#f1b6da"
                        ],
                        [
                          0.4,
                          "#fde0ef"
                        ],
                        [
                          0.5,
                          "#f7f7f7"
                        ],
                        [
                          0.6,
                          "#e6f5d0"
                        ],
                        [
                          0.7,
                          "#b8e186"
                        ],
                        [
                          0.8,
                          "#7fbc41"
                        ],
                        [
                          0.9,
                          "#4d9221"
                        ],
                        [
                          1,
                          "#276419"
                        ]
                      ],
                      "sequential": [
                        [
                          0,
                          "#0d0887"
                        ],
                        [
                          0.1111111111111111,
                          "#46039f"
                        ],
                        [
                          0.2222222222222222,
                          "#7201a8"
                        ],
                        [
                          0.3333333333333333,
                          "#9c179e"
                        ],
                        [
                          0.4444444444444444,
                          "#bd3786"
                        ],
                        [
                          0.5555555555555556,
                          "#d8576b"
                        ],
                        [
                          0.6666666666666666,
                          "#ed7953"
                        ],
                        [
                          0.7777777777777778,
                          "#fb9f3a"
                        ],
                        [
                          0.8888888888888888,
                          "#fdca26"
                        ],
                        [
                          1,
                          "#f0f921"
                        ]
                      ],
                      "sequentialminus": [
                        [
                          0,
                          "#0d0887"
                        ],
                        [
                          0.1111111111111111,
                          "#46039f"
                        ],
                        [
                          0.2222222222222222,
                          "#7201a8"
                        ],
                        [
                          0.3333333333333333,
                          "#9c179e"
                        ],
                        [
                          0.4444444444444444,
                          "#bd3786"
                        ],
                        [
                          0.5555555555555556,
                          "#d8576b"
                        ],
                        [
                          0.6666666666666666,
                          "#ed7953"
                        ],
                        [
                          0.7777777777777778,
                          "#fb9f3a"
                        ],
                        [
                          0.8888888888888888,
                          "#fdca26"
                        ],
                        [
                          1,
                          "#f0f921"
                        ]
                      ]
                    },
                    "colorway": [
                      "#636efa",
                      "#EF553B",
                      "#00cc96",
                      "#ab63fa",
                      "#FFA15A",
                      "#19d3f3",
                      "#FF6692",
                      "#B6E880",
                      "#FF97FF",
                      "#FECB52"
                    ],
                    "font": {
                      "color": "#2a3f5f"
                    },
                    "geo": {
                      "bgcolor": "white",
                      "lakecolor": "white",
                      "landcolor": "#E5ECF6",
                      "showlakes": true,
                      "showland": true,
                      "subunitcolor": "white"
                    },
                    "hoverlabel": {
                      "align": "left"
                    },
                    "hovermode": "closest",
                    "mapbox": {
                      "style": "light"
                    },
                    "paper_bgcolor": "white",
                    "plot_bgcolor": "#E5ECF6",
                    "polar": {
                      "angularaxis": {
                        "gridcolor": "white",
                        "linecolor": "white",
                        "ticks": ""
                      },
                      "bgcolor": "#E5ECF6",
                      "radialaxis": {
                        "gridcolor": "white",
                        "linecolor": "white",
                        "ticks": ""
                      }
                    },
                    "scene": {
                      "xaxis": {
                        "backgroundcolor": "#E5ECF6",
                        "gridcolor": "white",
                        "gridwidth": 2,
                        "linecolor": "white",
                        "showbackground": true,
                        "ticks": "",
                        "zerolinecolor": "white"
                      },
                      "yaxis": {
                        "backgroundcolor": "#E5ECF6",
                        "gridcolor": "white",
                        "gridwidth": 2,
                        "linecolor": "white",
                        "showbackground": true,
                        "ticks": "",
                        "zerolinecolor": "white"
                      },
                      "zaxis": {
                        "backgroundcolor": "#E5ECF6",
                        "gridcolor": "white",
                        "gridwidth": 2,
                        "linecolor": "white",
                        "showbackground": true,
                        "ticks": "",
                        "zerolinecolor": "white"
                      }
                    },
                    "shapedefaults": {
                      "line": {
                        "color": "#2a3f5f"
                      }
                    },
                    "ternary": {
                      "aaxis": {
                        "gridcolor": "white",
                        "linecolor": "white",
                        "ticks": ""
                      },
                      "baxis": {
                        "gridcolor": "white",
                        "linecolor": "white",
                        "ticks": ""
                      },
                      "bgcolor": "#E5ECF6",
                      "caxis": {
                        "gridcolor": "white",
                        "linecolor": "white",
                        "ticks": ""
                      }
                    },
                    "title": {
                      "x": 0.05
                    },
                    "xaxis": {
                      "automargin": true,
                      "gridcolor": "white",
                      "linecolor": "white",
                      "ticks": "",
                      "title": {
                        "standoff": 15
                      },
                      "zerolinecolor": "white",
                      "zerolinewidth": 2
                    },
                    "yaxis": {
                      "automargin": true,
                      "gridcolor": "white",
                      "linecolor": "white",
                      "ticks": "",
                      "title": {
                        "standoff": 15
                      },
                      "zerolinecolor": "white",
                      "zerolinewidth": 2
                    }
                  }
                },
                "title": {
                  "text": "Comparison of sizes of training set, validation set and test set",
                  "x": 0.5,
                  "y": 0.95
                },
                "height": 500,
                "width": 800,
                "showlegend": true
              },
              "config": {
                "plotlyServerURL": "https://plot.ly"
              }
            },
            "text/html": [
              "<div>                            <div id=\"3033de77-5849-4408-b4f9-84cc0268279d\" class=\"plotly-graph-div\" style=\"height:500px; width:800px;\"></div>            <script type=\"text/javascript\">                require([\"plotly\"], function(Plotly) {                    window.PLOTLYENV=window.PLOTLYENV || {};                                    if (document.getElementById(\"3033de77-5849-4408-b4f9-84cc0268279d\")) {                    Plotly.newPlot(                        \"3033de77-5849-4408-b4f9-84cc0268279d\",                        [{\"hole\":0.5,\"labels\":[\"Training set\",\"Validation Set\",\"Test set\"],\"textinfo\":\"percent\",\"title\":{\"text\":\" \"},\"values\":[22241,2780,2781],\"type\":\"pie\"}],                        {\"template\":{\"data\":{\"bar\":[{\"error_x\":{\"color\":\"#2a3f5f\"},\"error_y\":{\"color\":\"#2a3f5f\"},\"marker\":{\"line\":{\"color\":\"#E5ECF6\",\"width\":0.5},\"pattern\":{\"fillmode\":\"overlay\",\"size\":10,\"solidity\":0.2}},\"type\":\"bar\"}],\"barpolar\":[{\"marker\":{\"line\":{\"color\":\"#E5ECF6\",\"width\":0.5},\"pattern\":{\"fillmode\":\"overlay\",\"size\":10,\"solidity\":0.2}},\"type\":\"barpolar\"}],\"carpet\":[{\"aaxis\":{\"endlinecolor\":\"#2a3f5f\",\"gridcolor\":\"white\",\"linecolor\":\"white\",\"minorgridcolor\":\"white\",\"startlinecolor\":\"#2a3f5f\"},\"baxis\":{\"endlinecolor\":\"#2a3f5f\",\"gridcolor\":\"white\",\"linecolor\":\"white\",\"minorgridcolor\":\"white\",\"startlinecolor\":\"#2a3f5f\"},\"type\":\"carpet\"}],\"choropleth\":[{\"colorbar\":{\"outlinewidth\":0,\"ticks\":\"\"},\"type\":\"choropleth\"}],\"contour\":[{\"colorbar\":{\"outlinewidth\":0,\"ticks\":\"\"},\"colorscale\":[[0.0,\"#0d0887\"],[0.1111111111111111,\"#46039f\"],[0.2222222222222222,\"#7201a8\"],[0.3333333333333333,\"#9c179e\"],[0.4444444444444444,\"#bd3786\"],[0.5555555555555556,\"#d8576b\"],[0.6666666666666666,\"#ed7953\"],[0.7777777777777778,\"#fb9f3a\"],[0.8888888888888888,\"#fdca26\"],[1.0,\"#f0f921\"]],\"type\":\"contour\"}],\"contourcarpet\":[{\"colorbar\":{\"outlinewidth\":0,\"ticks\":\"\"},\"type\":\"contourcarpet\"}],\"heatmap\":[{\"colorbar\":{\"outlinewidth\":0,\"ticks\":\"\"},\"colorscale\":[[0.0,\"#0d0887\"],[0.1111111111111111,\"#46039f\"],[0.2222222222222222,\"#7201a8\"],[0.3333333333333333,\"#9c179e\"],[0.4444444444444444,\"#bd3786\"],[0.5555555555555556,\"#d8576b\"],[0.6666666666666666,\"#ed7953\"],[0.7777777777777778,\"#fb9f3a\"],[0.8888888888888888,\"#fdca26\"],[1.0,\"#f0f921\"]],\"type\":\"heatmap\"}],\"heatmapgl\":[{\"colorbar\":{\"outlinewidth\":0,\"ticks\":\"\"},\"colorscale\":[[0.0,\"#0d0887\"],[0.1111111111111111,\"#46039f\"],[0.2222222222222222,\"#7201a8\"],[0.3333333333333333,\"#9c179e\"],[0.4444444444444444,\"#bd3786\"],[0.5555555555555556,\"#d8576b\"],[0.6666666666666666,\"#ed7953\"],[0.7777777777777778,\"#fb9f3a\"],[0.8888888888888888,\"#fdca26\"],[1.0,\"#f0f921\"]],\"type\":\"heatmapgl\"}],\"histogram\":[{\"marker\":{\"pattern\":{\"fillmode\":\"overlay\",\"size\":10,\"solidity\":0.2}},\"type\":\"histogram\"}],\"histogram2d\":[{\"colorbar\":{\"outlinewidth\":0,\"ticks\":\"\"},\"colorscale\":[[0.0,\"#0d0887\"],[0.1111111111111111,\"#46039f\"],[0.2222222222222222,\"#7201a8\"],[0.3333333333333333,\"#9c179e\"],[0.4444444444444444,\"#bd3786\"],[0.5555555555555556,\"#d8576b\"],[0.6666666666666666,\"#ed7953\"],[0.7777777777777778,\"#fb9f3a\"],[0.8888888888888888,\"#fdca26\"],[1.0,\"#f0f921\"]],\"type\":\"histogram2d\"}],\"histogram2dcontour\":[{\"colorbar\":{\"outlinewidth\":0,\"ticks\":\"\"},\"colorscale\":[[0.0,\"#0d0887\"],[0.1111111111111111,\"#46039f\"],[0.2222222222222222,\"#7201a8\"],[0.3333333333333333,\"#9c179e\"],[0.4444444444444444,\"#bd3786\"],[0.5555555555555556,\"#d8576b\"],[0.6666666666666666,\"#ed7953\"],[0.7777777777777778,\"#fb9f3a\"],[0.8888888888888888,\"#fdca26\"],[1.0,\"#f0f921\"]],\"type\":\"histogram2dcontour\"}],\"mesh3d\":[{\"colorbar\":{\"outlinewidth\":0,\"ticks\":\"\"},\"type\":\"mesh3d\"}],\"parcoords\":[{\"line\":{\"colorbar\":{\"outlinewidth\":0,\"ticks\":\"\"}},\"type\":\"parcoords\"}],\"pie\":[{\"automargin\":true,\"type\":\"pie\"}],\"scatter\":[{\"marker\":{\"colorbar\":{\"outlinewidth\":0,\"ticks\":\"\"}},\"type\":\"scatter\"}],\"scatter3d\":[{\"line\":{\"colorbar\":{\"outlinewidth\":0,\"ticks\":\"\"}},\"marker\":{\"colorbar\":{\"outlinewidth\":0,\"ticks\":\"\"}},\"type\":\"scatter3d\"}],\"scattercarpet\":[{\"marker\":{\"colorbar\":{\"outlinewidth\":0,\"ticks\":\"\"}},\"type\":\"scattercarpet\"}],\"scattergeo\":[{\"marker\":{\"colorbar\":{\"outlinewidth\":0,\"ticks\":\"\"}},\"type\":\"scattergeo\"}],\"scattergl\":[{\"marker\":{\"colorbar\":{\"outlinewidth\":0,\"ticks\":\"\"}},\"type\":\"scattergl\"}],\"scattermapbox\":[{\"marker\":{\"colorbar\":{\"outlinewidth\":0,\"ticks\":\"\"}},\"type\":\"scattermapbox\"}],\"scatterpolar\":[{\"marker\":{\"colorbar\":{\"outlinewidth\":0,\"ticks\":\"\"}},\"type\":\"scatterpolar\"}],\"scatterpolargl\":[{\"marker\":{\"colorbar\":{\"outlinewidth\":0,\"ticks\":\"\"}},\"type\":\"scatterpolargl\"}],\"scatterternary\":[{\"marker\":{\"colorbar\":{\"outlinewidth\":0,\"ticks\":\"\"}},\"type\":\"scatterternary\"}],\"surface\":[{\"colorbar\":{\"outlinewidth\":0,\"ticks\":\"\"},\"colorscale\":[[0.0,\"#0d0887\"],[0.1111111111111111,\"#46039f\"],[0.2222222222222222,\"#7201a8\"],[0.3333333333333333,\"#9c179e\"],[0.4444444444444444,\"#bd3786\"],[0.5555555555555556,\"#d8576b\"],[0.6666666666666666,\"#ed7953\"],[0.7777777777777778,\"#fb9f3a\"],[0.8888888888888888,\"#fdca26\"],[1.0,\"#f0f921\"]],\"type\":\"surface\"}],\"table\":[{\"cells\":{\"fill\":{\"color\":\"#EBF0F8\"},\"line\":{\"color\":\"white\"}},\"header\":{\"fill\":{\"color\":\"#C8D4E3\"},\"line\":{\"color\":\"white\"}},\"type\":\"table\"}]},\"layout\":{\"annotationdefaults\":{\"arrowcolor\":\"#2a3f5f\",\"arrowhead\":0,\"arrowwidth\":1},\"autotypenumbers\":\"strict\",\"coloraxis\":{\"colorbar\":{\"outlinewidth\":0,\"ticks\":\"\"}},\"colorscale\":{\"diverging\":[[0,\"#8e0152\"],[0.1,\"#c51b7d\"],[0.2,\"#de77ae\"],[0.3,\"#f1b6da\"],[0.4,\"#fde0ef\"],[0.5,\"#f7f7f7\"],[0.6,\"#e6f5d0\"],[0.7,\"#b8e186\"],[0.8,\"#7fbc41\"],[0.9,\"#4d9221\"],[1,\"#276419\"]],\"sequential\":[[0.0,\"#0d0887\"],[0.1111111111111111,\"#46039f\"],[0.2222222222222222,\"#7201a8\"],[0.3333333333333333,\"#9c179e\"],[0.4444444444444444,\"#bd3786\"],[0.5555555555555556,\"#d8576b\"],[0.6666666666666666,\"#ed7953\"],[0.7777777777777778,\"#fb9f3a\"],[0.8888888888888888,\"#fdca26\"],[1.0,\"#f0f921\"]],\"sequentialminus\":[[0.0,\"#0d0887\"],[0.1111111111111111,\"#46039f\"],[0.2222222222222222,\"#7201a8\"],[0.3333333333333333,\"#9c179e\"],[0.4444444444444444,\"#bd3786\"],[0.5555555555555556,\"#d8576b\"],[0.6666666666666666,\"#ed7953\"],[0.7777777777777778,\"#fb9f3a\"],[0.8888888888888888,\"#fdca26\"],[1.0,\"#f0f921\"]]},\"colorway\":[\"#636efa\",\"#EF553B\",\"#00cc96\",\"#ab63fa\",\"#FFA15A\",\"#19d3f3\",\"#FF6692\",\"#B6E880\",\"#FF97FF\",\"#FECB52\"],\"font\":{\"color\":\"#2a3f5f\"},\"geo\":{\"bgcolor\":\"white\",\"lakecolor\":\"white\",\"landcolor\":\"#E5ECF6\",\"showlakes\":true,\"showland\":true,\"subunitcolor\":\"white\"},\"hoverlabel\":{\"align\":\"left\"},\"hovermode\":\"closest\",\"mapbox\":{\"style\":\"light\"},\"paper_bgcolor\":\"white\",\"plot_bgcolor\":\"#E5ECF6\",\"polar\":{\"angularaxis\":{\"gridcolor\":\"white\",\"linecolor\":\"white\",\"ticks\":\"\"},\"bgcolor\":\"#E5ECF6\",\"radialaxis\":{\"gridcolor\":\"white\",\"linecolor\":\"white\",\"ticks\":\"\"}},\"scene\":{\"xaxis\":{\"backgroundcolor\":\"#E5ECF6\",\"gridcolor\":\"white\",\"gridwidth\":2,\"linecolor\":\"white\",\"showbackground\":true,\"ticks\":\"\",\"zerolinecolor\":\"white\"},\"yaxis\":{\"backgroundcolor\":\"#E5ECF6\",\"gridcolor\":\"white\",\"gridwidth\":2,\"linecolor\":\"white\",\"showbackground\":true,\"ticks\":\"\",\"zerolinecolor\":\"white\"},\"zaxis\":{\"backgroundcolor\":\"#E5ECF6\",\"gridcolor\":\"white\",\"gridwidth\":2,\"linecolor\":\"white\",\"showbackground\":true,\"ticks\":\"\",\"zerolinecolor\":\"white\"}},\"shapedefaults\":{\"line\":{\"color\":\"#2a3f5f\"}},\"ternary\":{\"aaxis\":{\"gridcolor\":\"white\",\"linecolor\":\"white\",\"ticks\":\"\"},\"baxis\":{\"gridcolor\":\"white\",\"linecolor\":\"white\",\"ticks\":\"\"},\"bgcolor\":\"#E5ECF6\",\"caxis\":{\"gridcolor\":\"white\",\"linecolor\":\"white\",\"ticks\":\"\"}},\"title\":{\"x\":0.05},\"xaxis\":{\"automargin\":true,\"gridcolor\":\"white\",\"linecolor\":\"white\",\"ticks\":\"\",\"title\":{\"standoff\":15},\"zerolinecolor\":\"white\",\"zerolinewidth\":2},\"yaxis\":{\"automargin\":true,\"gridcolor\":\"white\",\"linecolor\":\"white\",\"ticks\":\"\",\"title\":{\"standoff\":15},\"zerolinecolor\":\"white\",\"zerolinewidth\":2}}},\"title\":{\"text\":\"Comparison of sizes of training set, validation set and test set\",\"x\":0.5,\"y\":0.95},\"height\":500,\"width\":800,\"showlegend\":true},                        {\"responsive\": true}                    ).then(function(){\n",
              "                            \n",
              "var gd = document.getElementById('3033de77-5849-4408-b4f9-84cc0268279d');\n",
              "var x = new MutationObserver(function (mutations, observer) {{\n",
              "        var display = window.getComputedStyle(gd).display;\n",
              "        if (!display || display === 'none') {{\n",
              "            console.log([gd, 'removed!']);\n",
              "            Plotly.purge(gd);\n",
              "            observer.disconnect();\n",
              "        }}\n",
              "}});\n",
              "\n",
              "// Listen for the removal of the full notebook cells\n",
              "var notebookContainer = gd.closest('#notebook-container');\n",
              "if (notebookContainer) {{\n",
              "    x.observe(notebookContainer, {childList: true});\n",
              "}}\n",
              "\n",
              "// Listen for the clearing of the current output cell\n",
              "var outputEl = gd.closest('.output');\n",
              "if (outputEl) {{\n",
              "    x.observe(outputEl, {childList: true});\n",
              "}}\n",
              "\n",
              "                        })                };                });            </script>        </div>"
            ]
          },
          "metadata": {}
        }
      ],
      "source": [
        "# Feature-target split\n",
        "X, y = data.drop('label', axis = 1), data['label']\n",
        "\n",
        "# Train-test split (from complete data)\n",
        "X_train, X_test, y_train, y_test = train_test_split(X, y, test_size = 0.2, random_state = 40)\n",
        "data_train = pd.concat([X_train, y_train], axis = 1)\n",
        "\n",
        "# Validation-test split (from test data)\n",
        "X_val, X_test, y_val, y_test = train_test_split(X_test, y_test, test_size = 0.5, random_state = 40)\n",
        "data_val, data_test = pd.concat([X_val, y_val], axis = 1), pd.concat([X_test, y_test], axis = 1)\n",
        "\n",
        "# Comparison of sizes of training set, validation set and test set\n",
        "values = np.array([len(data_train), len(data_val), len(data_test)])\n",
        "labels = ['Training set', 'Validation Set', 'Test set']\n",
        "fig = go.Figure(data = [go.Pie(values = values, labels = labels, hole = 0.5, textinfo = 'percent', title = \" \")])\n",
        "text_title = \"Comparison of sizes of training set, validation set and test set\"\n",
        "fig.update_layout(height = 500, width = 800, showlegend = True, title = dict(text = text_title, x = 0.5, y = 0.95))\n",
        "fig.show()"
      ]
    },
    {
      "cell_type": "code",
      "execution_count": null,
      "metadata": {
        "id": "4FrtfcYQDm5B"
      },
      "outputs": [],
      "source": [
        "# RegexpTokenizer\n",
        "regexp = RegexpTokenizer(\"[\\w']+\")"
      ]
    },
    {
      "cell_type": "code",
      "execution_count": null,
      "metadata": {
        "colab": {
          "base_uri": "https://localhost:8080/"
        },
        "id": "5s6l_1qxDm78",
        "outputId": "5a080c08-dcfa-4a7e-a179-43dab1d97f9e"
      },
      "outputs": [
        {
          "output_type": "stream",
          "name": "stdout",
          "text": [
            "Input: This is a FUNCTION that CoNvErTs a Text to lowercase\n",
            "Output: this is a function that converts a text to lowercase\n"
          ]
        }
      ],
      "source": [
        "# Converting to lowercase\n",
        "def convert_to_lowercase(text):\n",
        "    return text.lower()\n",
        "\n",
        "text = \"This is a FUNCTION that CoNvErTs a Text to lowercase\"\n",
        "print(\"Input: {}\".format(text))\n",
        "print(\"Output: {}\".format(convert_to_lowercase(text)))"
      ]
    },
    {
      "cell_type": "code",
      "execution_count": null,
      "metadata": {
        "colab": {
          "base_uri": "https://localhost:8080/"
        },
        "id": "BZt9lYVRDm-g",
        "outputId": "ca3843c8-0615-4136-c869-f4f4c1d9e5f4"
      },
      "outputs": [
        {
          "output_type": "stream",
          "name": "stdout",
          "text": [
            "Input:  \t This is a string \t \n",
            "Output: This is a string\n"
          ]
        }
      ],
      "source": [
        "# Removing whitespaces\n",
        "def remove_whitespace(text):\n",
        "    return text.strip()\n",
        "\n",
        "text = \" \\t This is a string \\t \"\n",
        "print(\"Input: {}\".format(text))\n",
        "print(\"Output: {}\".format(remove_whitespace(text)))"
      ]
    },
    {
      "cell_type": "code",
      "execution_count": null,
      "metadata": {
        "colab": {
          "base_uri": "https://localhost:8080/"
        },
        "id": "Na9GGNaeDnA8",
        "outputId": "cd877ead-a3ab-47c6-8df1-94e8a19ac740"
      },
      "outputs": [
        {
          "output_type": "stream",
          "name": "stdout",
          "text": [
            "Input: Here's [an] example? {of} &a string. with.? punctuations!!!!\n",
            "Output: Here's an example of a string with punctuations\n"
          ]
        }
      ],
      "source": [
        "# Removing punctuations\n",
        "def remove_punctuation(text):\n",
        "    punct_str = string.punctuation\n",
        "    punct_str = punct_str.replace(\"'\", \"\") # discarding apostrophe from the string to keep the contractions intact\n",
        "    return text.translate(str.maketrans(\"\", \"\", punct_str))\n",
        "\n",
        "text = \"Here's [an] example? {of} &a string. with.? punctuations!!!!\"\n",
        "print(\"Input: {}\".format(text))\n",
        "print(\"Output: {}\".format(remove_punctuation(text)))"
      ]
    },
    {
      "cell_type": "code",
      "execution_count": null,
      "metadata": {
        "colab": {
          "base_uri": "https://localhost:8080/"
        },
        "id": "beCNIkWwCbDu",
        "outputId": "918f4a08-4cab-4dc7-9070-9c45f618658f"
      },
      "outputs": [
        {
          "output_type": "stream",
          "name": "stdout",
          "text": [
            "Input: <a href = \"https://www.kaggle.com/datasets/saurabhshahane/ecommerce-text-classification\"> Ecommerce Text Classification </a>\n",
            "Output:  Ecommerce Text Classification \n"
          ]
        }
      ],
      "source": [
        "# Removing HTML tags\n",
        "def remove_html(text):\n",
        "    html = re.compile(r'<.*?>')\n",
        "    return html.sub(r'', text)\n",
        "\n",
        "text = '<a href = \"https://www.kaggle.com/datasets/saurabhshahane/ecommerce-text-classification\"> Ecommerce Text Classification </a>'\n",
        "print(\"Input: {}\".format(text))\n",
        "print(\"Output: {}\".format(remove_html(text)))"
      ]
    },
    {
      "cell_type": "code",
      "execution_count": null,
      "metadata": {
        "colab": {
          "base_uri": "https://localhost:8080/"
        },
        "id": "T_NN1npvEtoL",
        "outputId": "96ee8103-0728-497a-cc88-302478d66006"
      },
      "outputs": [
        {
          "output_type": "stream",
          "name": "stdout",
          "text": [
            "Input: This innovative hd printing technique results in durable and spectacular looking prints 😊\n",
            "Output: This innovative hd printing technique results in durable and spectacular looking prints \n"
          ]
        }
      ],
      "source": [
        "# Removing emojis\n",
        "def remove_emoji(text):\n",
        "    emoji_pattern = re.compile(\"[\"\n",
        "                           u\"\\U0001F600-\\U0001F64F\"  # emoticons\n",
        "                           u\"\\U0001F300-\\U0001F5FF\"  # symbols & pictographs\n",
        "                           u\"\\U0001F680-\\U0001F6FF\"  # transport & map symbols\n",
        "                           u\"\\U0001F1E0-\\U0001F1FF\"  # flags (iOS)\n",
        "                           u\"\\U00002702-\\U000027B0\"\n",
        "                           u\"\\U000024C2-\\U0001F251\"\n",
        "                           \"]+\", flags = re.UNICODE)\n",
        "    return emoji_pattern.sub(r'', text)\n",
        "\n",
        "text = \"This innovative hd printing technique results in durable and spectacular looking prints 😊\"\n",
        "print(\"Input: {}\".format(text))\n",
        "print(\"Output: {}\".format(remove_emoji(text)))"
      ]
    },
    {
      "cell_type": "code",
      "execution_count": null,
      "metadata": {
        "colab": {
          "base_uri": "https://localhost:8080/"
        },
        "id": "ntDFgKH2Ets4",
        "outputId": "262ce998-0be9-467d-fb39-e5fa936ca724"
      },
      "outputs": [
        {
          "output_type": "stream",
          "name": "stdout",
          "text": [
            "Input: It's a function that removes links starting with http: or https such as https://en.wikipedia.org/wiki/Unicode_symbols\n",
            "Output: It's a function that removes links starting with http: or https such as \n"
          ]
        }
      ],
      "source": [
        "# Removing other unicode characters\n",
        "def remove_http(text):\n",
        "    http = \"https?://\\S+|www\\.\\S+\" # matching strings beginning with http (but not just \"http\")\n",
        "    pattern = r\"({})\".format(http) # creating pattern\n",
        "    return re.sub(pattern, \"\", text)\n",
        "\n",
        "text = \"It's a function that removes links starting with http: or https such as https://en.wikipedia.org/wiki/Unicode_symbols\"\n",
        "print(\"Input: {}\".format(text))\n",
        "print(\"Output: {}\".format(remove_http(text)))"
      ]
    },
    {
      "cell_type": "code",
      "execution_count": null,
      "metadata": {
        "colab": {
          "base_uri": "https://localhost:8080/"
        },
        "id": "xnLYvAbgEtxE",
        "outputId": "89f9ab7e-0f56-44fc-b8eb-0d78e2259267"
      },
      "outputs": [
        {
          "output_type": "stream",
          "name": "stdout",
          "text": [
            "Example: Original form of the acronym 'fyi' is 'for your information'\n"
          ]
        }
      ],
      "source": [
        "# Dictionary of acronyms\n",
        "acronyms_url = 'https://raw.githubusercontent.com/sugatagh/E-commerce-Text-Classification/main/JSON/english_acronyms.json'\n",
        "acronyms_dict = pd.read_json(acronyms_url, typ = 'series')\n",
        "\n",
        "print(\"Example: Original form of the acronym 'fyi' is '{}'\".format(acronyms_dict['fyi']))"
      ]
    },
    {
      "cell_type": "code",
      "execution_count": null,
      "metadata": {
        "colab": {
          "base_uri": "https://localhost:8080/",
          "height": 677
        },
        "id": "kvKFb60fEt0B",
        "outputId": "b6311eea-7c9a-436f-917c-2617d875b1dd"
      },
      "outputs": [
        {
          "output_type": "execute_result",
          "data": {
            "text/plain": [
              "   acronym                    original\n",
              "0      aka               also known as\n",
              "1     asap         as soon as possible\n",
              "2      brb               be right back\n",
              "3      btw                  by the way\n",
              "4      dob               date of birth\n",
              "5      faq  frequently asked questions\n",
              "6      fyi        for your information\n",
              "7      idk                i don't know\n",
              "8      idc                i don't care\n",
              "9     iirc       if i recall correctly\n",
              "10     imo               in my opinion\n",
              "11     irl                in real life\n",
              "12     lmk                 let me know\n",
              "13     lol              laugh out loud\n",
              "14     ngl               not gonna lie\n",
              "15    noyb       none of your business\n",
              "16     nvm                  never mind\n",
              "17     ofc                   of course\n",
              "18     omg                   oh my god\n",
              "19     pfa        please find attached"
            ],
            "text/html": [
              "\n",
              "  <div id=\"df-82d1d5d7-d018-4895-936e-490f418590cb\">\n",
              "    <div class=\"colab-df-container\">\n",
              "      <div>\n",
              "<style scoped>\n",
              "    .dataframe tbody tr th:only-of-type {\n",
              "        vertical-align: middle;\n",
              "    }\n",
              "\n",
              "    .dataframe tbody tr th {\n",
              "        vertical-align: top;\n",
              "    }\n",
              "\n",
              "    .dataframe thead th {\n",
              "        text-align: right;\n",
              "    }\n",
              "</style>\n",
              "<table border=\"1\" class=\"dataframe\">\n",
              "  <thead>\n",
              "    <tr style=\"text-align: right;\">\n",
              "      <th></th>\n",
              "      <th>acronym</th>\n",
              "      <th>original</th>\n",
              "    </tr>\n",
              "  </thead>\n",
              "  <tbody>\n",
              "    <tr>\n",
              "      <th>0</th>\n",
              "      <td>aka</td>\n",
              "      <td>also known as</td>\n",
              "    </tr>\n",
              "    <tr>\n",
              "      <th>1</th>\n",
              "      <td>asap</td>\n",
              "      <td>as soon as possible</td>\n",
              "    </tr>\n",
              "    <tr>\n",
              "      <th>2</th>\n",
              "      <td>brb</td>\n",
              "      <td>be right back</td>\n",
              "    </tr>\n",
              "    <tr>\n",
              "      <th>3</th>\n",
              "      <td>btw</td>\n",
              "      <td>by the way</td>\n",
              "    </tr>\n",
              "    <tr>\n",
              "      <th>4</th>\n",
              "      <td>dob</td>\n",
              "      <td>date of birth</td>\n",
              "    </tr>\n",
              "    <tr>\n",
              "      <th>5</th>\n",
              "      <td>faq</td>\n",
              "      <td>frequently asked questions</td>\n",
              "    </tr>\n",
              "    <tr>\n",
              "      <th>6</th>\n",
              "      <td>fyi</td>\n",
              "      <td>for your information</td>\n",
              "    </tr>\n",
              "    <tr>\n",
              "      <th>7</th>\n",
              "      <td>idk</td>\n",
              "      <td>i don't know</td>\n",
              "    </tr>\n",
              "    <tr>\n",
              "      <th>8</th>\n",
              "      <td>idc</td>\n",
              "      <td>i don't care</td>\n",
              "    </tr>\n",
              "    <tr>\n",
              "      <th>9</th>\n",
              "      <td>iirc</td>\n",
              "      <td>if i recall correctly</td>\n",
              "    </tr>\n",
              "    <tr>\n",
              "      <th>10</th>\n",
              "      <td>imo</td>\n",
              "      <td>in my opinion</td>\n",
              "    </tr>\n",
              "    <tr>\n",
              "      <th>11</th>\n",
              "      <td>irl</td>\n",
              "      <td>in real life</td>\n",
              "    </tr>\n",
              "    <tr>\n",
              "      <th>12</th>\n",
              "      <td>lmk</td>\n",
              "      <td>let me know</td>\n",
              "    </tr>\n",
              "    <tr>\n",
              "      <th>13</th>\n",
              "      <td>lol</td>\n",
              "      <td>laugh out loud</td>\n",
              "    </tr>\n",
              "    <tr>\n",
              "      <th>14</th>\n",
              "      <td>ngl</td>\n",
              "      <td>not gonna lie</td>\n",
              "    </tr>\n",
              "    <tr>\n",
              "      <th>15</th>\n",
              "      <td>noyb</td>\n",
              "      <td>none of your business</td>\n",
              "    </tr>\n",
              "    <tr>\n",
              "      <th>16</th>\n",
              "      <td>nvm</td>\n",
              "      <td>never mind</td>\n",
              "    </tr>\n",
              "    <tr>\n",
              "      <th>17</th>\n",
              "      <td>ofc</td>\n",
              "      <td>of course</td>\n",
              "    </tr>\n",
              "    <tr>\n",
              "      <th>18</th>\n",
              "      <td>omg</td>\n",
              "      <td>oh my god</td>\n",
              "    </tr>\n",
              "    <tr>\n",
              "      <th>19</th>\n",
              "      <td>pfa</td>\n",
              "      <td>please find attached</td>\n",
              "    </tr>\n",
              "  </tbody>\n",
              "</table>\n",
              "</div>\n",
              "      <button class=\"colab-df-convert\" onclick=\"convertToInteractive('df-82d1d5d7-d018-4895-936e-490f418590cb')\"\n",
              "              title=\"Convert this dataframe to an interactive table.\"\n",
              "              style=\"display:none;\">\n",
              "        \n",
              "  <svg xmlns=\"http://www.w3.org/2000/svg\" height=\"24px\"viewBox=\"0 0 24 24\"\n",
              "       width=\"24px\">\n",
              "    <path d=\"M0 0h24v24H0V0z\" fill=\"none\"/>\n",
              "    <path d=\"M18.56 5.44l.94 2.06.94-2.06 2.06-.94-2.06-.94-.94-2.06-.94 2.06-2.06.94zm-11 1L8.5 8.5l.94-2.06 2.06-.94-2.06-.94L8.5 2.5l-.94 2.06-2.06.94zm10 10l.94 2.06.94-2.06 2.06-.94-2.06-.94-.94-2.06-.94 2.06-2.06.94z\"/><path d=\"M17.41 7.96l-1.37-1.37c-.4-.4-.92-.59-1.43-.59-.52 0-1.04.2-1.43.59L10.3 9.45l-7.72 7.72c-.78.78-.78 2.05 0 2.83L4 21.41c.39.39.9.59 1.41.59.51 0 1.02-.2 1.41-.59l7.78-7.78 2.81-2.81c.8-.78.8-2.07 0-2.86zM5.41 20L4 18.59l7.72-7.72 1.47 1.35L5.41 20z\"/>\n",
              "  </svg>\n",
              "      </button>\n",
              "      \n",
              "  <style>\n",
              "    .colab-df-container {\n",
              "      display:flex;\n",
              "      flex-wrap:wrap;\n",
              "      gap: 12px;\n",
              "    }\n",
              "\n",
              "    .colab-df-convert {\n",
              "      background-color: #E8F0FE;\n",
              "      border: none;\n",
              "      border-radius: 50%;\n",
              "      cursor: pointer;\n",
              "      display: none;\n",
              "      fill: #1967D2;\n",
              "      height: 32px;\n",
              "      padding: 0 0 0 0;\n",
              "      width: 32px;\n",
              "    }\n",
              "\n",
              "    .colab-df-convert:hover {\n",
              "      background-color: #E2EBFA;\n",
              "      box-shadow: 0px 1px 2px rgba(60, 64, 67, 0.3), 0px 1px 3px 1px rgba(60, 64, 67, 0.15);\n",
              "      fill: #174EA6;\n",
              "    }\n",
              "\n",
              "    [theme=dark] .colab-df-convert {\n",
              "      background-color: #3B4455;\n",
              "      fill: #D2E3FC;\n",
              "    }\n",
              "\n",
              "    [theme=dark] .colab-df-convert:hover {\n",
              "      background-color: #434B5C;\n",
              "      box-shadow: 0px 1px 3px 1px rgba(0, 0, 0, 0.15);\n",
              "      filter: drop-shadow(0px 1px 2px rgba(0, 0, 0, 0.3));\n",
              "      fill: #FFFFFF;\n",
              "    }\n",
              "  </style>\n",
              "\n",
              "      <script>\n",
              "        const buttonEl =\n",
              "          document.querySelector('#df-82d1d5d7-d018-4895-936e-490f418590cb button.colab-df-convert');\n",
              "        buttonEl.style.display =\n",
              "          google.colab.kernel.accessAllowed ? 'block' : 'none';\n",
              "\n",
              "        async function convertToInteractive(key) {\n",
              "          const element = document.querySelector('#df-82d1d5d7-d018-4895-936e-490f418590cb');\n",
              "          const dataTable =\n",
              "            await google.colab.kernel.invokeFunction('convertToInteractive',\n",
              "                                                     [key], {});\n",
              "          if (!dataTable) return;\n",
              "\n",
              "          const docLinkHtml = 'Like what you see? Visit the ' +\n",
              "            '<a target=\"_blank\" href=https://colab.research.google.com/notebooks/data_table.ipynb>data table notebook</a>'\n",
              "            + ' to learn more about interactive tables.';\n",
              "          element.innerHTML = '';\n",
              "          dataTable['output_type'] = 'display_data';\n",
              "          await google.colab.output.renderOutput(dataTable, element);\n",
              "          const docLink = document.createElement('div');\n",
              "          docLink.innerHTML = docLinkHtml;\n",
              "          element.appendChild(docLink);\n",
              "        }\n",
              "      </script>\n",
              "    </div>\n",
              "  </div>\n",
              "  "
            ]
          },
          "metadata": {},
          "execution_count": 22
        }
      ],
      "source": [
        "# Dataframe of acronyms\n",
        "pd.DataFrame(acronyms_dict.items(), columns = ['acronym', 'original']).head(20)"
      ]
    },
    {
      "cell_type": "code",
      "execution_count": null,
      "metadata": {
        "id": "C8sHFGu7Et2x"
      },
      "outputs": [],
      "source": [
        "# List of acronyms\n",
        "acronyms_list = list(acronyms_dict.keys())"
      ]
    },
    {
      "cell_type": "code",
      "execution_count": null,
      "metadata": {
        "colab": {
          "base_uri": "https://localhost:8080/"
        },
        "id": "qeuj0o0WEt5J",
        "outputId": "1ce71ae1-31e0-4e21-b232-94e3c9b238be"
      },
      "outputs": [
        {
          "output_type": "stream",
          "name": "stdout",
          "text": [
            "Input: btw you've to fill in the details including dob\n",
            "Output: by the way you've to fill in the details including date of birth\n"
          ]
        }
      ],
      "source": [
        "# Function to convert contractions in a text\n",
        "def convert_acronyms(text):\n",
        "    words = []\n",
        "    for word in regexp.tokenize(text):\n",
        "        if word in acronyms_list:\n",
        "            words = words + acronyms_dict[word].split()\n",
        "        else:\n",
        "            words = words + word.split()\n",
        "\n",
        "    text_converted = \" \".join(words)\n",
        "    return text_converted\n",
        "\n",
        "text = \"btw you've to fill in the details including dob\"\n",
        "print(\"Input: {}\".format(text))\n",
        "print(\"Output: {}\".format(convert_acronyms(text)))"
      ]
    },
    {
      "cell_type": "code",
      "execution_count": null,
      "metadata": {
        "colab": {
          "base_uri": "https://localhost:8080/"
        },
        "id": "FLmXo86pEt79",
        "outputId": "89dbac2b-31a5-48c0-f0f4-7b8b55c83325"
      },
      "outputs": [
        {
          "output_type": "stream",
          "name": "stdout",
          "text": [
            "Example: Original form of the contraction 'aren't' is 'are not'\n"
          ]
        }
      ],
      "source": [
        "# Dictionary of contractions\n",
        "contractions_url = 'https://raw.githubusercontent.com/sugatagh/E-commerce-Text-Classification/main/JSON/english_contractions.json'\n",
        "contractions_dict = pd.read_json(contractions_url, typ = 'series')\n",
        "\n",
        "print(\"Example: Original form of the contraction 'aren't' is '{}'\".format(contractions_dict[\"aren't\"]))"
      ]
    },
    {
      "cell_type": "code",
      "execution_count": null,
      "metadata": {
        "colab": {
          "base_uri": "https://localhost:8080/",
          "height": 206
        },
        "id": "IEF3fvFxEt-y",
        "outputId": "f465b234-6850-455b-ff07-3d09d37bc7f3"
      },
      "outputs": [
        {
          "output_type": "execute_result",
          "data": {
            "text/plain": [
              "  contraction     original\n",
              "0      'aight      alright\n",
              "1       ain't      are not\n",
              "2       amn't       am not\n",
              "3     arencha  are not you\n",
              "4      aren't      are not"
            ],
            "text/html": [
              "\n",
              "  <div id=\"df-dd3de51b-ff07-4daf-8ed2-5f99fee7884c\">\n",
              "    <div class=\"colab-df-container\">\n",
              "      <div>\n",
              "<style scoped>\n",
              "    .dataframe tbody tr th:only-of-type {\n",
              "        vertical-align: middle;\n",
              "    }\n",
              "\n",
              "    .dataframe tbody tr th {\n",
              "        vertical-align: top;\n",
              "    }\n",
              "\n",
              "    .dataframe thead th {\n",
              "        text-align: right;\n",
              "    }\n",
              "</style>\n",
              "<table border=\"1\" class=\"dataframe\">\n",
              "  <thead>\n",
              "    <tr style=\"text-align: right;\">\n",
              "      <th></th>\n",
              "      <th>contraction</th>\n",
              "      <th>original</th>\n",
              "    </tr>\n",
              "  </thead>\n",
              "  <tbody>\n",
              "    <tr>\n",
              "      <th>0</th>\n",
              "      <td>'aight</td>\n",
              "      <td>alright</td>\n",
              "    </tr>\n",
              "    <tr>\n",
              "      <th>1</th>\n",
              "      <td>ain't</td>\n",
              "      <td>are not</td>\n",
              "    </tr>\n",
              "    <tr>\n",
              "      <th>2</th>\n",
              "      <td>amn't</td>\n",
              "      <td>am not</td>\n",
              "    </tr>\n",
              "    <tr>\n",
              "      <th>3</th>\n",
              "      <td>arencha</td>\n",
              "      <td>are not you</td>\n",
              "    </tr>\n",
              "    <tr>\n",
              "      <th>4</th>\n",
              "      <td>aren't</td>\n",
              "      <td>are not</td>\n",
              "    </tr>\n",
              "  </tbody>\n",
              "</table>\n",
              "</div>\n",
              "      <button class=\"colab-df-convert\" onclick=\"convertToInteractive('df-dd3de51b-ff07-4daf-8ed2-5f99fee7884c')\"\n",
              "              title=\"Convert this dataframe to an interactive table.\"\n",
              "              style=\"display:none;\">\n",
              "        \n",
              "  <svg xmlns=\"http://www.w3.org/2000/svg\" height=\"24px\"viewBox=\"0 0 24 24\"\n",
              "       width=\"24px\">\n",
              "    <path d=\"M0 0h24v24H0V0z\" fill=\"none\"/>\n",
              "    <path d=\"M18.56 5.44l.94 2.06.94-2.06 2.06-.94-2.06-.94-.94-2.06-.94 2.06-2.06.94zm-11 1L8.5 8.5l.94-2.06 2.06-.94-2.06-.94L8.5 2.5l-.94 2.06-2.06.94zm10 10l.94 2.06.94-2.06 2.06-.94-2.06-.94-.94-2.06-.94 2.06-2.06.94z\"/><path d=\"M17.41 7.96l-1.37-1.37c-.4-.4-.92-.59-1.43-.59-.52 0-1.04.2-1.43.59L10.3 9.45l-7.72 7.72c-.78.78-.78 2.05 0 2.83L4 21.41c.39.39.9.59 1.41.59.51 0 1.02-.2 1.41-.59l7.78-7.78 2.81-2.81c.8-.78.8-2.07 0-2.86zM5.41 20L4 18.59l7.72-7.72 1.47 1.35L5.41 20z\"/>\n",
              "  </svg>\n",
              "      </button>\n",
              "      \n",
              "  <style>\n",
              "    .colab-df-container {\n",
              "      display:flex;\n",
              "      flex-wrap:wrap;\n",
              "      gap: 12px;\n",
              "    }\n",
              "\n",
              "    .colab-df-convert {\n",
              "      background-color: #E8F0FE;\n",
              "      border: none;\n",
              "      border-radius: 50%;\n",
              "      cursor: pointer;\n",
              "      display: none;\n",
              "      fill: #1967D2;\n",
              "      height: 32px;\n",
              "      padding: 0 0 0 0;\n",
              "      width: 32px;\n",
              "    }\n",
              "\n",
              "    .colab-df-convert:hover {\n",
              "      background-color: #E2EBFA;\n",
              "      box-shadow: 0px 1px 2px rgba(60, 64, 67, 0.3), 0px 1px 3px 1px rgba(60, 64, 67, 0.15);\n",
              "      fill: #174EA6;\n",
              "    }\n",
              "\n",
              "    [theme=dark] .colab-df-convert {\n",
              "      background-color: #3B4455;\n",
              "      fill: #D2E3FC;\n",
              "    }\n",
              "\n",
              "    [theme=dark] .colab-df-convert:hover {\n",
              "      background-color: #434B5C;\n",
              "      box-shadow: 0px 1px 3px 1px rgba(0, 0, 0, 0.15);\n",
              "      filter: drop-shadow(0px 1px 2px rgba(0, 0, 0, 0.3));\n",
              "      fill: #FFFFFF;\n",
              "    }\n",
              "  </style>\n",
              "\n",
              "      <script>\n",
              "        const buttonEl =\n",
              "          document.querySelector('#df-dd3de51b-ff07-4daf-8ed2-5f99fee7884c button.colab-df-convert');\n",
              "        buttonEl.style.display =\n",
              "          google.colab.kernel.accessAllowed ? 'block' : 'none';\n",
              "\n",
              "        async function convertToInteractive(key) {\n",
              "          const element = document.querySelector('#df-dd3de51b-ff07-4daf-8ed2-5f99fee7884c');\n",
              "          const dataTable =\n",
              "            await google.colab.kernel.invokeFunction('convertToInteractive',\n",
              "                                                     [key], {});\n",
              "          if (!dataTable) return;\n",
              "\n",
              "          const docLinkHtml = 'Like what you see? Visit the ' +\n",
              "            '<a target=\"_blank\" href=https://colab.research.google.com/notebooks/data_table.ipynb>data table notebook</a>'\n",
              "            + ' to learn more about interactive tables.';\n",
              "          element.innerHTML = '';\n",
              "          dataTable['output_type'] = 'display_data';\n",
              "          await google.colab.output.renderOutput(dataTable, element);\n",
              "          const docLink = document.createElement('div');\n",
              "          docLink.innerHTML = docLinkHtml;\n",
              "          element.appendChild(docLink);\n",
              "        }\n",
              "      </script>\n",
              "    </div>\n",
              "  </div>\n",
              "  "
            ]
          },
          "metadata": {},
          "execution_count": 26
        }
      ],
      "source": [
        "# Dataframe of contractions\n",
        "pd.DataFrame(contractions_dict.items(), columns = ['contraction', 'original']).head()"
      ]
    },
    {
      "cell_type": "code",
      "execution_count": null,
      "metadata": {
        "id": "cYmcDUCiEuBN"
      },
      "outputs": [],
      "source": [
        "# List of contractions\n",
        "contractions_list = list(contractions_dict.keys())"
      ]
    },
    {
      "cell_type": "code",
      "execution_count": null,
      "metadata": {
        "colab": {
          "base_uri": "https://localhost:8080/"
        },
        "id": "iMc4WxBVEuEK",
        "outputId": "a90672cd-bcba-4295-ebcc-9e31965b729a"
      },
      "outputs": [
        {
          "output_type": "stream",
          "name": "stdout",
          "text": [
            "Input: he's doin' fine\n",
            "Output: he is doing fine\n"
          ]
        }
      ],
      "source": [
        "# Function to convert contractions in a text\n",
        "def convert_contractions(text):\n",
        "    words = []\n",
        "    for word in regexp.tokenize(text):\n",
        "        if word in contractions_list:\n",
        "            words = words + contractions_dict[word].split()\n",
        "        else:\n",
        "            words = words + word.split()\n",
        "\n",
        "    text_converted = \" \".join(words)\n",
        "    return text_converted\n",
        "\n",
        "text = \"he's doin' fine\"\n",
        "print(\"Input: {}\".format(text))\n",
        "print(\"Output: {}\".format(convert_contractions(text)))"
      ]
    },
    {
      "cell_type": "code",
      "execution_count": null,
      "metadata": {
        "colab": {
          "base_uri": "https://localhost:8080/"
        },
        "id": "GIcxESVcH4nB",
        "outputId": "97351f07-649c-4a68-c3c9-156d75aae6c0"
      },
      "outputs": [
        {
          "output_type": "stream",
          "name": "stderr",
          "text": [
            "[nltk_data] Downloading collection 'all'\n",
            "[nltk_data]    | \n",
            "[nltk_data]    | Downloading package abc to /root/nltk_data...\n",
            "[nltk_data]    |   Unzipping corpora/abc.zip.\n",
            "[nltk_data]    | Downloading package alpino to /root/nltk_data...\n",
            "[nltk_data]    |   Unzipping corpora/alpino.zip.\n",
            "[nltk_data]    | Downloading package averaged_perceptron_tagger to\n",
            "[nltk_data]    |     /root/nltk_data...\n",
            "[nltk_data]    |   Unzipping taggers/averaged_perceptron_tagger.zip.\n",
            "[nltk_data]    | Downloading package averaged_perceptron_tagger_ru to\n",
            "[nltk_data]    |     /root/nltk_data...\n",
            "[nltk_data]    |   Unzipping\n",
            "[nltk_data]    |       taggers/averaged_perceptron_tagger_ru.zip.\n",
            "[nltk_data]    | Downloading package basque_grammars to\n",
            "[nltk_data]    |     /root/nltk_data...\n",
            "[nltk_data]    |   Unzipping grammars/basque_grammars.zip.\n",
            "[nltk_data]    | Downloading package biocreative_ppi to\n",
            "[nltk_data]    |     /root/nltk_data...\n",
            "[nltk_data]    |   Unzipping corpora/biocreative_ppi.zip.\n",
            "[nltk_data]    | Downloading package bllip_wsj_no_aux to\n",
            "[nltk_data]    |     /root/nltk_data...\n",
            "[nltk_data]    |   Unzipping models/bllip_wsj_no_aux.zip.\n",
            "[nltk_data]    | Downloading package book_grammars to\n",
            "[nltk_data]    |     /root/nltk_data...\n",
            "[nltk_data]    |   Unzipping grammars/book_grammars.zip.\n",
            "[nltk_data]    | Downloading package brown to /root/nltk_data...\n",
            "[nltk_data]    |   Unzipping corpora/brown.zip.\n",
            "[nltk_data]    | Downloading package brown_tei to /root/nltk_data...\n",
            "[nltk_data]    |   Unzipping corpora/brown_tei.zip.\n",
            "[nltk_data]    | Downloading package cess_cat to /root/nltk_data...\n",
            "[nltk_data]    |   Unzipping corpora/cess_cat.zip.\n",
            "[nltk_data]    | Downloading package cess_esp to /root/nltk_data...\n",
            "[nltk_data]    |   Unzipping corpora/cess_esp.zip.\n",
            "[nltk_data]    | Downloading package chat80 to /root/nltk_data...\n",
            "[nltk_data]    |   Unzipping corpora/chat80.zip.\n",
            "[nltk_data]    | Downloading package city_database to\n",
            "[nltk_data]    |     /root/nltk_data...\n",
            "[nltk_data]    |   Unzipping corpora/city_database.zip.\n",
            "[nltk_data]    | Downloading package cmudict to /root/nltk_data...\n",
            "[nltk_data]    |   Unzipping corpora/cmudict.zip.\n",
            "[nltk_data]    | Downloading package comparative_sentences to\n",
            "[nltk_data]    |     /root/nltk_data...\n",
            "[nltk_data]    |   Unzipping corpora/comparative_sentences.zip.\n",
            "[nltk_data]    | Downloading package comtrans to /root/nltk_data...\n",
            "[nltk_data]    | Downloading package conll2000 to /root/nltk_data...\n",
            "[nltk_data]    |   Unzipping corpora/conll2000.zip.\n",
            "[nltk_data]    | Downloading package conll2002 to /root/nltk_data...\n",
            "[nltk_data]    |   Unzipping corpora/conll2002.zip.\n",
            "[nltk_data]    | Downloading package conll2007 to /root/nltk_data...\n",
            "[nltk_data]    | Downloading package crubadan to /root/nltk_data...\n",
            "[nltk_data]    |   Unzipping corpora/crubadan.zip.\n",
            "[nltk_data]    | Downloading package dependency_treebank to\n",
            "[nltk_data]    |     /root/nltk_data...\n",
            "[nltk_data]    |   Unzipping corpora/dependency_treebank.zip.\n",
            "[nltk_data]    | Downloading package dolch to /root/nltk_data...\n",
            "[nltk_data]    |   Unzipping corpora/dolch.zip.\n",
            "[nltk_data]    | Downloading package europarl_raw to\n",
            "[nltk_data]    |     /root/nltk_data...\n",
            "[nltk_data]    |   Unzipping corpora/europarl_raw.zip.\n",
            "[nltk_data]    | Downloading package extended_omw to\n",
            "[nltk_data]    |     /root/nltk_data...\n",
            "[nltk_data]    | Downloading package floresta to /root/nltk_data...\n",
            "[nltk_data]    |   Unzipping corpora/floresta.zip.\n",
            "[nltk_data]    | Downloading package framenet_v15 to\n",
            "[nltk_data]    |     /root/nltk_data...\n",
            "[nltk_data]    |   Unzipping corpora/framenet_v15.zip.\n",
            "[nltk_data]    | Downloading package framenet_v17 to\n",
            "[nltk_data]    |     /root/nltk_data...\n",
            "[nltk_data]    |   Unzipping corpora/framenet_v17.zip.\n",
            "[nltk_data]    | Downloading package gazetteers to /root/nltk_data...\n",
            "[nltk_data]    |   Unzipping corpora/gazetteers.zip.\n",
            "[nltk_data]    | Downloading package genesis to /root/nltk_data...\n",
            "[nltk_data]    |   Unzipping corpora/genesis.zip.\n",
            "[nltk_data]    | Downloading package gutenberg to /root/nltk_data...\n",
            "[nltk_data]    |   Unzipping corpora/gutenberg.zip.\n",
            "[nltk_data]    | Downloading package ieer to /root/nltk_data...\n",
            "[nltk_data]    |   Unzipping corpora/ieer.zip.\n",
            "[nltk_data]    | Downloading package inaugural to /root/nltk_data...\n",
            "[nltk_data]    |   Unzipping corpora/inaugural.zip.\n",
            "[nltk_data]    | Downloading package indian to /root/nltk_data...\n",
            "[nltk_data]    |   Unzipping corpora/indian.zip.\n",
            "[nltk_data]    | Downloading package jeita to /root/nltk_data...\n",
            "[nltk_data]    | Downloading package kimmo to /root/nltk_data...\n",
            "[nltk_data]    |   Unzipping corpora/kimmo.zip.\n",
            "[nltk_data]    | Downloading package knbc to /root/nltk_data...\n",
            "[nltk_data]    | Downloading package large_grammars to\n",
            "[nltk_data]    |     /root/nltk_data...\n",
            "[nltk_data]    |   Unzipping grammars/large_grammars.zip.\n",
            "[nltk_data]    | Downloading package lin_thesaurus to\n",
            "[nltk_data]    |     /root/nltk_data...\n",
            "[nltk_data]    |   Unzipping corpora/lin_thesaurus.zip.\n",
            "[nltk_data]    | Downloading package mac_morpho to /root/nltk_data...\n",
            "[nltk_data]    |   Unzipping corpora/mac_morpho.zip.\n",
            "[nltk_data]    | Downloading package machado to /root/nltk_data...\n",
            "[nltk_data]    | Downloading package masc_tagged to /root/nltk_data...\n",
            "[nltk_data]    | Downloading package maxent_ne_chunker to\n",
            "[nltk_data]    |     /root/nltk_data...\n",
            "[nltk_data]    |   Unzipping chunkers/maxent_ne_chunker.zip.\n",
            "[nltk_data]    | Downloading package maxent_treebank_pos_tagger to\n",
            "[nltk_data]    |     /root/nltk_data...\n",
            "[nltk_data]    |   Unzipping taggers/maxent_treebank_pos_tagger.zip.\n",
            "[nltk_data]    | Downloading package moses_sample to\n",
            "[nltk_data]    |     /root/nltk_data...\n",
            "[nltk_data]    |   Unzipping models/moses_sample.zip.\n",
            "[nltk_data]    | Downloading package movie_reviews to\n",
            "[nltk_data]    |     /root/nltk_data...\n",
            "[nltk_data]    |   Unzipping corpora/movie_reviews.zip.\n",
            "[nltk_data]    | Downloading package mte_teip5 to /root/nltk_data...\n",
            "[nltk_data]    |   Unzipping corpora/mte_teip5.zip.\n",
            "[nltk_data]    | Downloading package mwa_ppdb to /root/nltk_data...\n",
            "[nltk_data]    |   Unzipping misc/mwa_ppdb.zip.\n",
            "[nltk_data]    | Downloading package names to /root/nltk_data...\n",
            "[nltk_data]    |   Unzipping corpora/names.zip.\n",
            "[nltk_data]    | Downloading package nombank.1.0 to /root/nltk_data...\n",
            "[nltk_data]    | Downloading package nonbreaking_prefixes to\n",
            "[nltk_data]    |     /root/nltk_data...\n",
            "[nltk_data]    |   Unzipping corpora/nonbreaking_prefixes.zip.\n",
            "[nltk_data]    | Downloading package nps_chat to /root/nltk_data...\n",
            "[nltk_data]    |   Unzipping corpora/nps_chat.zip.\n",
            "[nltk_data]    | Downloading package omw to /root/nltk_data...\n",
            "[nltk_data]    | Downloading package omw-1.4 to /root/nltk_data...\n",
            "[nltk_data]    | Downloading package opinion_lexicon to\n",
            "[nltk_data]    |     /root/nltk_data...\n",
            "[nltk_data]    |   Unzipping corpora/opinion_lexicon.zip.\n",
            "[nltk_data]    | Downloading package panlex_swadesh to\n",
            "[nltk_data]    |     /root/nltk_data...\n",
            "[nltk_data]    | Downloading package paradigms to /root/nltk_data...\n",
            "[nltk_data]    |   Unzipping corpora/paradigms.zip.\n",
            "[nltk_data]    | Downloading package pe08 to /root/nltk_data...\n",
            "[nltk_data]    |   Unzipping corpora/pe08.zip.\n",
            "[nltk_data]    | Downloading package perluniprops to\n",
            "[nltk_data]    |     /root/nltk_data...\n",
            "[nltk_data]    |   Unzipping misc/perluniprops.zip.\n",
            "[nltk_data]    | Downloading package pil to /root/nltk_data...\n",
            "[nltk_data]    |   Unzipping corpora/pil.zip.\n",
            "[nltk_data]    | Downloading package pl196x to /root/nltk_data...\n",
            "[nltk_data]    |   Unzipping corpora/pl196x.zip.\n",
            "[nltk_data]    | Downloading package porter_test to /root/nltk_data...\n",
            "[nltk_data]    |   Unzipping stemmers/porter_test.zip.\n",
            "[nltk_data]    | Downloading package ppattach to /root/nltk_data...\n",
            "[nltk_data]    |   Unzipping corpora/ppattach.zip.\n",
            "[nltk_data]    | Downloading package problem_reports to\n",
            "[nltk_data]    |     /root/nltk_data...\n",
            "[nltk_data]    |   Unzipping corpora/problem_reports.zip.\n",
            "[nltk_data]    | Downloading package product_reviews_1 to\n",
            "[nltk_data]    |     /root/nltk_data...\n",
            "[nltk_data]    |   Unzipping corpora/product_reviews_1.zip.\n",
            "[nltk_data]    | Downloading package product_reviews_2 to\n",
            "[nltk_data]    |     /root/nltk_data...\n",
            "[nltk_data]    |   Unzipping corpora/product_reviews_2.zip.\n",
            "[nltk_data]    | Downloading package propbank to /root/nltk_data...\n",
            "[nltk_data]    | Downloading package pros_cons to /root/nltk_data...\n",
            "[nltk_data]    |   Unzipping corpora/pros_cons.zip.\n",
            "[nltk_data]    | Downloading package ptb to /root/nltk_data...\n",
            "[nltk_data]    |   Unzipping corpora/ptb.zip.\n",
            "[nltk_data]    | Downloading package punkt to /root/nltk_data...\n",
            "[nltk_data]    |   Unzipping tokenizers/punkt.zip.\n",
            "[nltk_data]    | Downloading package qc to /root/nltk_data...\n",
            "[nltk_data]    |   Unzipping corpora/qc.zip.\n",
            "[nltk_data]    | Downloading package reuters to /root/nltk_data...\n",
            "[nltk_data]    | Downloading package rslp to /root/nltk_data...\n",
            "[nltk_data]    |   Unzipping stemmers/rslp.zip.\n",
            "[nltk_data]    | Downloading package rte to /root/nltk_data...\n",
            "[nltk_data]    |   Unzipping corpora/rte.zip.\n",
            "[nltk_data]    | Downloading package sample_grammars to\n",
            "[nltk_data]    |     /root/nltk_data...\n",
            "[nltk_data]    |   Unzipping grammars/sample_grammars.zip.\n",
            "[nltk_data]    | Downloading package semcor to /root/nltk_data...\n",
            "[nltk_data]    | Downloading package senseval to /root/nltk_data...\n",
            "[nltk_data]    |   Unzipping corpora/senseval.zip.\n",
            "[nltk_data]    | Downloading package sentence_polarity to\n",
            "[nltk_data]    |     /root/nltk_data...\n",
            "[nltk_data]    |   Unzipping corpora/sentence_polarity.zip.\n",
            "[nltk_data]    | Downloading package sentiwordnet to\n",
            "[nltk_data]    |     /root/nltk_data...\n",
            "[nltk_data]    |   Unzipping corpora/sentiwordnet.zip.\n",
            "[nltk_data]    | Downloading package shakespeare to /root/nltk_data...\n",
            "[nltk_data]    |   Unzipping corpora/shakespeare.zip.\n",
            "[nltk_data]    | Downloading package sinica_treebank to\n",
            "[nltk_data]    |     /root/nltk_data...\n",
            "[nltk_data]    |   Unzipping corpora/sinica_treebank.zip.\n",
            "[nltk_data]    | Downloading package smultron to /root/nltk_data...\n",
            "[nltk_data]    |   Unzipping corpora/smultron.zip.\n",
            "[nltk_data]    | Downloading package snowball_data to\n",
            "[nltk_data]    |     /root/nltk_data...\n",
            "[nltk_data]    | Downloading package spanish_grammars to\n",
            "[nltk_data]    |     /root/nltk_data...\n",
            "[nltk_data]    |   Unzipping grammars/spanish_grammars.zip.\n",
            "[nltk_data]    | Downloading package state_union to /root/nltk_data...\n",
            "[nltk_data]    |   Unzipping corpora/state_union.zip.\n",
            "[nltk_data]    | Downloading package stopwords to /root/nltk_data...\n",
            "[nltk_data]    |   Unzipping corpora/stopwords.zip.\n",
            "[nltk_data]    | Downloading package subjectivity to\n",
            "[nltk_data]    |     /root/nltk_data...\n",
            "[nltk_data]    |   Unzipping corpora/subjectivity.zip.\n",
            "[nltk_data]    | Downloading package swadesh to /root/nltk_data...\n",
            "[nltk_data]    |   Unzipping corpora/swadesh.zip.\n",
            "[nltk_data]    | Downloading package switchboard to /root/nltk_data...\n",
            "[nltk_data]    |   Unzipping corpora/switchboard.zip.\n",
            "[nltk_data]    | Downloading package tagsets to /root/nltk_data...\n",
            "[nltk_data]    |   Unzipping help/tagsets.zip.\n",
            "[nltk_data]    | Downloading package timit to /root/nltk_data...\n",
            "[nltk_data]    |   Unzipping corpora/timit.zip.\n",
            "[nltk_data]    | Downloading package toolbox to /root/nltk_data...\n",
            "[nltk_data]    |   Unzipping corpora/toolbox.zip.\n",
            "[nltk_data]    | Downloading package treebank to /root/nltk_data...\n",
            "[nltk_data]    |   Unzipping corpora/treebank.zip.\n",
            "[nltk_data]    | Downloading package twitter_samples to\n",
            "[nltk_data]    |     /root/nltk_data...\n",
            "[nltk_data]    |   Unzipping corpora/twitter_samples.zip.\n",
            "[nltk_data]    | Downloading package udhr to /root/nltk_data...\n",
            "[nltk_data]    |   Unzipping corpora/udhr.zip.\n",
            "[nltk_data]    | Downloading package udhr2 to /root/nltk_data...\n",
            "[nltk_data]    |   Unzipping corpora/udhr2.zip.\n",
            "[nltk_data]    | Downloading package unicode_samples to\n",
            "[nltk_data]    |     /root/nltk_data...\n",
            "[nltk_data]    |   Unzipping corpora/unicode_samples.zip.\n",
            "[nltk_data]    | Downloading package universal_tagset to\n",
            "[nltk_data]    |     /root/nltk_data...\n",
            "[nltk_data]    |   Unzipping taggers/universal_tagset.zip.\n",
            "[nltk_data]    | Downloading package universal_treebanks_v20 to\n",
            "[nltk_data]    |     /root/nltk_data...\n",
            "[nltk_data]    | Downloading package vader_lexicon to\n",
            "[nltk_data]    |     /root/nltk_data...\n",
            "[nltk_data]    | Downloading package verbnet to /root/nltk_data...\n",
            "[nltk_data]    |   Unzipping corpora/verbnet.zip.\n",
            "[nltk_data]    | Downloading package verbnet3 to /root/nltk_data...\n",
            "[nltk_data]    |   Unzipping corpora/verbnet3.zip.\n",
            "[nltk_data]    | Downloading package webtext to /root/nltk_data...\n",
            "[nltk_data]    |   Unzipping corpora/webtext.zip.\n",
            "[nltk_data]    | Downloading package wmt15_eval to /root/nltk_data...\n",
            "[nltk_data]    |   Unzipping models/wmt15_eval.zip.\n",
            "[nltk_data]    | Downloading package word2vec_sample to\n",
            "[nltk_data]    |     /root/nltk_data...\n",
            "[nltk_data]    |   Unzipping models/word2vec_sample.zip.\n",
            "[nltk_data]    | Downloading package wordnet to /root/nltk_data...\n",
            "[nltk_data]    | Downloading package wordnet2021 to /root/nltk_data...\n",
            "[nltk_data]    | Downloading package wordnet31 to /root/nltk_data...\n",
            "[nltk_data]    | Downloading package wordnet_ic to /root/nltk_data...\n",
            "[nltk_data]    |   Unzipping corpora/wordnet_ic.zip.\n",
            "[nltk_data]    | Downloading package words to /root/nltk_data...\n",
            "[nltk_data]    |   Unzipping corpora/words.zip.\n",
            "[nltk_data]    | Downloading package ycoe to /root/nltk_data...\n",
            "[nltk_data]    |   Unzipping corpora/ycoe.zip.\n",
            "[nltk_data]    | \n",
            "[nltk_data]  Done downloading collection all\n"
          ]
        },
        {
          "output_type": "execute_result",
          "data": {
            "text/plain": [
              "True"
            ]
          },
          "metadata": {},
          "execution_count": 29
        }
      ],
      "source": [
        "nltk.download('all')"
      ]
    },
    {
      "cell_type": "code",
      "execution_count": null,
      "metadata": {
        "colab": {
          "base_uri": "https://localhost:8080/"
        },
        "id": "_ybHUh8REuGq",
        "outputId": "6058e731-fd6f-41dc-c9fc-6d216a0d9302"
      },
      "outputs": [
        {
          "output_type": "stream",
          "name": "stdout",
          "text": [
            "['i', 'me', 'my', 'myself', 'we', 'our', 'ours', 'ourselves', 'you', \"you're\", \"you've\", \"you'll\", \"you'd\", 'your', 'yours', 'yourself', 'yourselves', 'he', 'him', 'his', 'himself', 'she', \"she's\", 'her', 'hers', 'herself', 'it', \"it's\", 'its', 'itself', 'they', 'them', 'their', 'theirs', 'themselves', 'what', 'which', 'who', 'whom', 'this', 'that', \"that'll\", 'these', 'those', 'am', 'is', 'are', 'was', 'were', 'be', 'been', 'being', 'have', 'has', 'had', 'having', 'do', 'does', 'did', 'doing', 'a', 'an', 'the', 'and', 'but', 'if', 'or', 'because', 'as', 'until', 'while', 'of', 'at', 'by', 'for', 'with', 'about', 'against', 'between', 'into', 'through', 'during', 'before', 'after', 'above', 'below', 'to', 'from', 'up', 'down', 'in', 'out', 'on', 'off', 'over', 'under', 'again', 'further', 'then', 'once', 'here', 'there', 'when', 'where', 'why', 'how', 'all', 'any', 'both', 'each', 'few', 'more', 'most', 'other', 'some', 'such', 'no', 'nor', 'not', 'only', 'own', 'same', 'so', 'than', 'too', 'very', 's', 't', 'can', 'will', 'just', 'don', \"don't\", 'should', \"should've\", 'now', 'd', 'll', 'm', 'o', 're', 've', 'y', 'ain', 'aren', \"aren't\", 'couldn', \"couldn't\", 'didn', \"didn't\", 'doesn', \"doesn't\", 'hadn', \"hadn't\", 'hasn', \"hasn't\", 'haven', \"haven't\", 'isn', \"isn't\", 'ma', 'mightn', \"mightn't\", 'mustn', \"mustn't\", 'needn', \"needn't\", 'shan', \"shan't\", 'shouldn', \"shouldn't\", 'wasn', \"wasn't\", 'weren', \"weren't\", 'won', \"won't\", 'wouldn', \"wouldn't\", 'among', 'onto', 'shall', 'thrice', 'thus', 'twice', 'unto', 'us', 'would']\n"
          ]
        }
      ],
      "source": [
        "# Stopwords\n",
        "import nltk\n",
        "stops = nltk.corpus.stopwords.words('english') # stopwords\n",
        "addstops = [\"among\", \"onto\", \"shall\", \"thrice\", \"thus\", \"twice\", \"unto\", \"us\", \"would\"] # additional stopwords\n",
        "allstops = stops + addstops\n",
        "\n",
        "print(allstops)"
      ]
    },
    {
      "cell_type": "code",
      "execution_count": null,
      "metadata": {
        "colab": {
          "base_uri": "https://localhost:8080/"
        },
        "id": "mHoe5kthEuJC",
        "outputId": "a9614b03-d67e-44ea-9c77-593953a5b80c"
      },
      "outputs": [
        {
          "output_type": "stream",
          "name": "stdout",
          "text": [
            "Input: This is a function that removes stopwords in a given text\n",
            "Output: This function removes stopwords given text\n"
          ]
        }
      ],
      "source": [
        "# Function to remove stopwords from a list of texts\n",
        "def remove_stopwords(text):\n",
        "    return \" \".join([word for word in regexp.tokenize(text) if word not in allstops])\n",
        "\n",
        "text = \"This is a function that removes stopwords in a given text\"\n",
        "print(\"Input: {}\".format(text))\n",
        "print(\"Output: {}\".format(remove_stopwords(text)))\n"
      ]
    },
    {
      "cell_type": "code",
      "execution_count": null,
      "metadata": {
        "colab": {
          "base_uri": "https://localhost:8080/"
        },
        "id": "3hm8tHXnIwRJ",
        "outputId": "1325fc74-40f1-40be-e53c-8f0a78b1dfe2"
      },
      "outputs": [
        {
          "output_type": "stream",
          "name": "stdout",
          "text": [
            "Input: I'm goinng therre\n",
            "Output: I'm going there\n"
          ]
        }
      ],
      "source": [
        "spell = SpellChecker()\n",
        "\n",
        "def pyspellchecker(text):\n",
        "    word_list = regexp.tokenize(text)\n",
        "    word_list_corrected = []\n",
        "    for word in word_list:\n",
        "        if word in spell.unknown(word_list):\n",
        "            word_corrected = spell.correction(word)\n",
        "            if word_corrected == None:\n",
        "                word_list_corrected.append(word)\n",
        "            else:\n",
        "                word_list_corrected.append(word_corrected)\n",
        "        else:\n",
        "            word_list_corrected.append(word)\n",
        "    text_corrected = \" \".join(word_list_corrected)\n",
        "    return text_corrected\n",
        "\n",
        "text = \"I'm goinng therre\"\n",
        "print(\"Input: {}\".format(text))\n",
        "print(\"Output: {}\".format(pyspellchecker(text)))"
      ]
    },
    {
      "cell_type": "code",
      "execution_count": null,
      "metadata": {
        "colab": {
          "base_uri": "https://localhost:8080/"
        },
        "id": "pzIE6Eg6IwTz",
        "outputId": "08125f19-9318-45c2-ca09-c64363cf801c"
      },
      "outputs": [
        {
          "output_type": "stream",
          "name": "stdout",
          "text": [
            "Input: Introducing lemmatization as an improvement over stemming\n",
            "Output: introduc lemmat as an improv over stem\n"
          ]
        }
      ],
      "source": [
        "# Stemming\n",
        "stemmer = PorterStemmer()\n",
        "def text_stemmer(text):\n",
        "    text_stem = \" \".join([stemmer.stem(word) for word in regexp.tokenize(text)])\n",
        "    return text_stem\n",
        "\n",
        "text = \"Introducing lemmatization as an improvement over stemming\"\n",
        "print(\"Input: {}\".format(text))\n",
        "print(\"Output: {}\".format(text_stemmer(text)))"
      ]
    },
    {
      "cell_type": "code",
      "execution_count": null,
      "metadata": {
        "colab": {
          "base_uri": "https://localhost:8080/"
        },
        "id": "hdSsDdS6IwWP",
        "outputId": "4bb7911d-e9c4-454d-cc54-a89d2b1f7e75"
      },
      "outputs": [
        {
          "output_type": "stream",
          "name": "stdout",
          "text": [
            "Input: Introducing lemmatization as an improvement over stemming\n",
            "Output: introduce lemmatization as an improvement over stem\n"
          ]
        }
      ],
      "source": [
        "# Lemmatization\n",
        "spacy_lemmatizer = spacy.load(\"en_core_web_sm\", disable = ['parser', 'ner'])\n",
        "#lemmatizer = WordNetLemmatizer()\n",
        "\n",
        "def text_lemmatizer(text):\n",
        "    text_spacy = \" \".join([token.lemma_ for token in spacy_lemmatizer(text)])\n",
        "    #text_wordnet = \" \".join([lemmatizer.lemmatize(word) for word in word_tokenize(text)]) # regexp.tokenize(text)\n",
        "    return text_spacy\n",
        "    #return text_wordnet\n",
        "\n",
        "text = \"Introducing lemmatization as an improvement over stemming\"\n",
        "print(\"Input: {}\".format(text))\n",
        "print(\"Output: {}\".format(text_lemmatizer(text)))\n"
      ]
    },
    {
      "cell_type": "code",
      "execution_count": null,
      "metadata": {
        "colab": {
          "base_uri": "https://localhost:8080/"
        },
        "id": "2ZPDpxOHIwYi",
        "outputId": "3cf7653b-d62b-465d-8992-70f5dc677aeb"
      },
      "outputs": [
        {
          "output_type": "stream",
          "name": "stdout",
          "text": [
            "Input: It is an ocean of thousands and 1000s of crowd\n",
            "Output: It is an ocean of thousands and of crowd\n"
          ]
        }
      ],
      "source": [
        "# Discardment of non-alphabetic words\n",
        "def discard_non_alpha(text):\n",
        "    word_list_non_alpha = [word for word in regexp.tokenize(text) if word.isalpha()]\n",
        "    text_non_alpha = \" \".join(word_list_non_alpha)\n",
        "    return text_non_alpha\n",
        "\n",
        "text = \"It is an ocean of thousands and 1000s of crowd\"\n",
        "print(\"Input: {}\".format(text))\n",
        "print(\"Output: {}\".format(discard_non_alpha(text)))"
      ]
    },
    {
      "cell_type": "code",
      "execution_count": null,
      "metadata": {
        "colab": {
          "base_uri": "https://localhost:8080/"
        },
        "id": "oS3bYWtwIwbC",
        "outputId": "3cc75d2b-27c4-487f-aa5c-1c636b7c7839"
      },
      "outputs": [
        {
          "output_type": "stream",
          "name": "stdout",
          "text": [
            "Input: He arrived at seven o'clock on Wednesday evening\n",
            "Tokens: ['He', 'arrived', 'at', 'seven', \"o'clock\", 'on', 'Wednesday', 'evening']\n",
            "Tagged Tokens: [('He', 'PRP'), ('arrived', 'VBD'), ('at', 'IN'), ('seven', 'CD'), (\"o'clock\", 'NN'), ('on', 'IN'), ('Wednesday', 'NNP'), ('evening', 'NN')]\n",
            "Output: He arrived o'clock Wednesday evening\n"
          ]
        }
      ],
      "source": [
        "def keep_pos(text):\n",
        "    tokens = regexp.tokenize(text)\n",
        "    tokens_tagged = nltk.pos_tag(tokens)\n",
        "    #keep_tags = ['NN', 'NNS', 'NNP', 'NNPS', 'FW']\n",
        "    keep_tags = ['NN', 'NNS', 'NNP', 'NNPS', 'FW', 'PRP', 'PRPS', 'RB', 'RBR', 'RBS', 'VB', 'VBD', 'VBG', 'VBN', 'VBP', 'VBZ', 'WDT', 'WP', 'WPS', 'WRB']\n",
        "    keep_words = [x[0] for x in tokens_tagged if x[1] in keep_tags]\n",
        "    return \" \".join(keep_words)\n",
        "\n",
        "text = \"He arrived at seven o'clock on Wednesday evening\"\n",
        "print(\"Input: {}\".format(text))\n",
        "tokens = regexp.tokenize(text)\n",
        "print(\"Tokens: {}\".format(tokens))\n",
        "tokens_tagged = nltk.pos_tag(tokens)\n",
        "print(\"Tagged Tokens: {}\".format(tokens_tagged))\n",
        "print(\"Output: {}\".format(keep_pos(text)))"
      ]
    },
    {
      "cell_type": "code",
      "execution_count": null,
      "metadata": {
        "id": "2auE97wbIwda"
      },
      "outputs": [],
      "source": [
        "# Additional stopwords\n",
        "\n",
        "alphabets = [\"a\", \"b\", \"c\", \"d\", \"e\", \"f\", \"g\", \"h\", \"i\", \"j\", \"k\", \"l\", \"m\", \"n\", \"o\", \"p\", \"q\", \"r\", \"s\", \"t\", \"u\", \"v\", \"w\", \"x\", \"y\", \"z\"]\n",
        "prepositions = [\"about\", \"above\", \"across\", \"after\", \"against\", \"among\", \"around\", \"at\", \"before\", \"behind\", \"below\", \"beside\", \"between\", \"by\", \"down\", \"during\", \"for\", \"from\", \"in\", \"inside\", \"into\", \"near\", \"of\", \"off\", \"on\", \"out\", \"over\", \"through\", \"to\", \"toward\", \"under\", \"up\", \"with\"]\n",
        "prepositions_less_common = [\"aboard\", \"along\", \"amid\", \"as\", \"beneath\", \"beyond\", \"but\", \"concerning\", \"considering\", \"despite\", \"except\", \"following\", \"like\", \"minus\", \"onto\", \"outside\", \"per\", \"plus\", \"regarding\", \"round\", \"since\", \"than\", \"till\", \"underneath\", \"unlike\", \"until\", \"upon\", \"versus\", \"via\", \"within\", \"without\"]\n",
        "coordinating_conjunctions = [\"and\", \"but\", \"for\", \"nor\", \"or\", \"so\", \"and\", \"yet\"]\n",
        "correlative_conjunctions = [\"both\", \"and\", \"either\", \"or\", \"neither\", \"nor\", \"not\", \"only\", \"but\", \"whether\", \"or\"]\n",
        "subordinating_conjunctions = [\"after\", \"although\", \"as\", \"as if\", \"as long as\", \"as much as\", \"as soon as\", \"as though\", \"because\", \"before\", \"by the time\", \"even if\", \"even though\", \"if\", \"in order that\", \"in case\", \"in the event that\", \"lest\", \"now that\", \"once\", \"only\", \"only if\", \"provided that\", \"since\", \"so\", \"supposing\", \"that\", \"than\", \"though\", \"till\", \"unless\", \"until\", \"when\", \"whenever\", \"where\", \"whereas\", \"wherever\", \"whether or not\", \"while\"]\n",
        "others = [\"ã\", \"å\", \"ì\", \"û\", \"ûªm\", \"ûó\", \"ûò\", \"ìñ\", \"ûªre\", \"ûªve\", \"ûª\", \"ûªs\", \"ûówe\"]\n",
        "additional_stops = alphabets + prepositions + prepositions_less_common + coordinating_conjunctions + correlative_conjunctions + subordinating_conjunctions + others\n",
        "\n",
        "def remove_additional_stopwords(text):\n",
        "    return \" \".join([word for word in regexp.tokenize(text) if word not in additional_stops])"
      ]
    },
    {
      "cell_type": "code",
      "execution_count": null,
      "metadata": {
        "colab": {
          "base_uri": "https://localhost:8080/"
        },
        "id": "lrpzdRjeIwf2",
        "outputId": "ee7243db-8a17-4015-bdb3-b2711a80a055"
      },
      "outputs": [
        {
          "output_type": "stream",
          "name": "stdout",
          "text": [
            "Input: We'll combine all functions into 1 SINGLE FUNCTION 🙂 & apply on @product #descriptions https://en.wikipedia.org/wiki/Text_normalization\n",
            "Output: combine function function apply product description\n"
          ]
        }
      ],
      "source": [
        "def text_normalizer(text):\n",
        "    text = convert_to_lowercase(text)\n",
        "    text = remove_whitespace(text)\n",
        "    text = re.sub('\\n' , '', text) # converting text to one line\n",
        "    text = re.sub('\\[.*?\\]', '', text) # removing square brackets\n",
        "    text = remove_http(text)\n",
        "    text = remove_punctuation(text)\n",
        "    text = remove_html(text)\n",
        "    text = remove_emoji(text)\n",
        "    text = convert_acronyms(text)\n",
        "    text = convert_contractions(text)\n",
        "    text = remove_stopwords(text)\n",
        "#     text = pyspellchecker(text)\n",
        "    text = text_lemmatizer(text) # text = text_stemmer(text)\n",
        "    text = discard_non_alpha(text)\n",
        "    text = keep_pos(text)\n",
        "    text = remove_additional_stopwords(text)\n",
        "    return text\n",
        "\n",
        "text = \"We'll combine all functions into 1 SINGLE FUNCTION 🙂 & apply on @product #descriptions https://en.wikipedia.org/wiki/Text_normalization\"\n",
        "print(\"Input: {}\".format(text))\n",
        "print(\"Output: {}\".format(text_normalizer(text)))"
      ]
    },
    {
      "cell_type": "code",
      "execution_count": null,
      "metadata": {
        "colab": {
          "base_uri": "https://localhost:8080/",
          "height": 424
        },
        "id": "w_U5yq6qIwim",
        "outputId": "17fdd8c1-512f-4735-eedd-292b5e899e51"
      },
      "outputs": [
        {
          "output_type": "execute_result",
          "data": {
            "text/plain": [
              "                                  normalized description  label\n",
              "15525  approach acupuncture author author graduate al...      2\n",
              "1536   nice leatherette office arm chair chair seat h...      1\n",
              "21984  ekan fedora hat girl boy fedora hat hat man fe...      3\n",
              "25056  concert showlightning controller lighting cont...      0\n",
              "25213  marantz fully beltdrive premounte cartridge bu...      0\n",
              "...                                                  ...    ...\n",
              "23992  apple tablet inch gb wifi gold matter task pro...      0\n",
              "27640  skin sticker super hero collection fit dell hp...      0\n",
              "14501  challenger sale take control customer conversa...      2\n",
              "14555                   olympiad work book opinion class      2\n",
              "11590  operate system edition wiley student edition a...      2\n",
              "\n",
              "[22241 rows x 2 columns]"
            ],
            "text/html": [
              "\n",
              "  <div id=\"df-f163f471-068d-470b-b31d-31ed15b5d27c\">\n",
              "    <div class=\"colab-df-container\">\n",
              "      <div>\n",
              "<style scoped>\n",
              "    .dataframe tbody tr th:only-of-type {\n",
              "        vertical-align: middle;\n",
              "    }\n",
              "\n",
              "    .dataframe tbody tr th {\n",
              "        vertical-align: top;\n",
              "    }\n",
              "\n",
              "    .dataframe thead th {\n",
              "        text-align: right;\n",
              "    }\n",
              "</style>\n",
              "<table border=\"1\" class=\"dataframe\">\n",
              "  <thead>\n",
              "    <tr style=\"text-align: right;\">\n",
              "      <th></th>\n",
              "      <th>normalized description</th>\n",
              "      <th>label</th>\n",
              "    </tr>\n",
              "  </thead>\n",
              "  <tbody>\n",
              "    <tr>\n",
              "      <th>15525</th>\n",
              "      <td>approach acupuncture author author graduate al...</td>\n",
              "      <td>2</td>\n",
              "    </tr>\n",
              "    <tr>\n",
              "      <th>1536</th>\n",
              "      <td>nice leatherette office arm chair chair seat h...</td>\n",
              "      <td>1</td>\n",
              "    </tr>\n",
              "    <tr>\n",
              "      <th>21984</th>\n",
              "      <td>ekan fedora hat girl boy fedora hat hat man fe...</td>\n",
              "      <td>3</td>\n",
              "    </tr>\n",
              "    <tr>\n",
              "      <th>25056</th>\n",
              "      <td>concert showlightning controller lighting cont...</td>\n",
              "      <td>0</td>\n",
              "    </tr>\n",
              "    <tr>\n",
              "      <th>25213</th>\n",
              "      <td>marantz fully beltdrive premounte cartridge bu...</td>\n",
              "      <td>0</td>\n",
              "    </tr>\n",
              "    <tr>\n",
              "      <th>...</th>\n",
              "      <td>...</td>\n",
              "      <td>...</td>\n",
              "    </tr>\n",
              "    <tr>\n",
              "      <th>23992</th>\n",
              "      <td>apple tablet inch gb wifi gold matter task pro...</td>\n",
              "      <td>0</td>\n",
              "    </tr>\n",
              "    <tr>\n",
              "      <th>27640</th>\n",
              "      <td>skin sticker super hero collection fit dell hp...</td>\n",
              "      <td>0</td>\n",
              "    </tr>\n",
              "    <tr>\n",
              "      <th>14501</th>\n",
              "      <td>challenger sale take control customer conversa...</td>\n",
              "      <td>2</td>\n",
              "    </tr>\n",
              "    <tr>\n",
              "      <th>14555</th>\n",
              "      <td>olympiad work book opinion class</td>\n",
              "      <td>2</td>\n",
              "    </tr>\n",
              "    <tr>\n",
              "      <th>11590</th>\n",
              "      <td>operate system edition wiley student edition a...</td>\n",
              "      <td>2</td>\n",
              "    </tr>\n",
              "  </tbody>\n",
              "</table>\n",
              "<p>22241 rows × 2 columns</p>\n",
              "</div>\n",
              "      <button class=\"colab-df-convert\" onclick=\"convertToInteractive('df-f163f471-068d-470b-b31d-31ed15b5d27c')\"\n",
              "              title=\"Convert this dataframe to an interactive table.\"\n",
              "              style=\"display:none;\">\n",
              "        \n",
              "  <svg xmlns=\"http://www.w3.org/2000/svg\" height=\"24px\"viewBox=\"0 0 24 24\"\n",
              "       width=\"24px\">\n",
              "    <path d=\"M0 0h24v24H0V0z\" fill=\"none\"/>\n",
              "    <path d=\"M18.56 5.44l.94 2.06.94-2.06 2.06-.94-2.06-.94-.94-2.06-.94 2.06-2.06.94zm-11 1L8.5 8.5l.94-2.06 2.06-.94-2.06-.94L8.5 2.5l-.94 2.06-2.06.94zm10 10l.94 2.06.94-2.06 2.06-.94-2.06-.94-.94-2.06-.94 2.06-2.06.94z\"/><path d=\"M17.41 7.96l-1.37-1.37c-.4-.4-.92-.59-1.43-.59-.52 0-1.04.2-1.43.59L10.3 9.45l-7.72 7.72c-.78.78-.78 2.05 0 2.83L4 21.41c.39.39.9.59 1.41.59.51 0 1.02-.2 1.41-.59l7.78-7.78 2.81-2.81c.8-.78.8-2.07 0-2.86zM5.41 20L4 18.59l7.72-7.72 1.47 1.35L5.41 20z\"/>\n",
              "  </svg>\n",
              "      </button>\n",
              "      \n",
              "  <style>\n",
              "    .colab-df-container {\n",
              "      display:flex;\n",
              "      flex-wrap:wrap;\n",
              "      gap: 12px;\n",
              "    }\n",
              "\n",
              "    .colab-df-convert {\n",
              "      background-color: #E8F0FE;\n",
              "      border: none;\n",
              "      border-radius: 50%;\n",
              "      cursor: pointer;\n",
              "      display: none;\n",
              "      fill: #1967D2;\n",
              "      height: 32px;\n",
              "      padding: 0 0 0 0;\n",
              "      width: 32px;\n",
              "    }\n",
              "\n",
              "    .colab-df-convert:hover {\n",
              "      background-color: #E2EBFA;\n",
              "      box-shadow: 0px 1px 2px rgba(60, 64, 67, 0.3), 0px 1px 3px 1px rgba(60, 64, 67, 0.15);\n",
              "      fill: #174EA6;\n",
              "    }\n",
              "\n",
              "    [theme=dark] .colab-df-convert {\n",
              "      background-color: #3B4455;\n",
              "      fill: #D2E3FC;\n",
              "    }\n",
              "\n",
              "    [theme=dark] .colab-df-convert:hover {\n",
              "      background-color: #434B5C;\n",
              "      box-shadow: 0px 1px 3px 1px rgba(0, 0, 0, 0.15);\n",
              "      filter: drop-shadow(0px 1px 2px rgba(0, 0, 0, 0.3));\n",
              "      fill: #FFFFFF;\n",
              "    }\n",
              "  </style>\n",
              "\n",
              "      <script>\n",
              "        const buttonEl =\n",
              "          document.querySelector('#df-f163f471-068d-470b-b31d-31ed15b5d27c button.colab-df-convert');\n",
              "        buttonEl.style.display =\n",
              "          google.colab.kernel.accessAllowed ? 'block' : 'none';\n",
              "\n",
              "        async function convertToInteractive(key) {\n",
              "          const element = document.querySelector('#df-f163f471-068d-470b-b31d-31ed15b5d27c');\n",
              "          const dataTable =\n",
              "            await google.colab.kernel.invokeFunction('convertToInteractive',\n",
              "                                                     [key], {});\n",
              "          if (!dataTable) return;\n",
              "\n",
              "          const docLinkHtml = 'Like what you see? Visit the ' +\n",
              "            '<a target=\"_blank\" href=https://colab.research.google.com/notebooks/data_table.ipynb>data table notebook</a>'\n",
              "            + ' to learn more about interactive tables.';\n",
              "          element.innerHTML = '';\n",
              "          dataTable['output_type'] = 'display_data';\n",
              "          await google.colab.output.renderOutput(dataTable, element);\n",
              "          const docLink = document.createElement('div');\n",
              "          docLink.innerHTML = docLinkHtml;\n",
              "          element.appendChild(docLink);\n",
              "        }\n",
              "      </script>\n",
              "    </div>\n",
              "  </div>\n",
              "  "
            ]
          },
          "metadata": {},
          "execution_count": 39
        }
      ],
      "source": [
        "\n",
        "# Implementing text normalization\n",
        "data_train_norm, data_val_norm, data_test_norm = pd.DataFrame(), pd.DataFrame(), pd.DataFrame()\n",
        "\n",
        "data_train_norm['normalized description'] = data_train['description'].apply(text_normalizer)\n",
        "data_val_norm['normalized description'] = data_val['description'].apply(text_normalizer)\n",
        "data_test_norm['normalized description'] = data_test['description'].apply(text_normalizer)\n",
        "\n",
        "data_train_norm['label'] = data_train['label']\n",
        "data_val_norm['label'] = data_val['label']\n",
        "data_test_norm['label'] = data_test['label']\n",
        "\n",
        "data_train_norm"
      ]
    },
    {
      "cell_type": "code",
      "execution_count": null,
      "metadata": {
        "id": "3C2favNNIwlG"
      },
      "outputs": [],
      "source": [
        "#tfidf\n",
        "# Features and labels\n",
        "X_train_norm, y_train = data_train_norm['normalized description'].tolist(), data_train_norm['label'].tolist()\n",
        "X_val_norm, y_val = data_val_norm['normalized description'].tolist(), data_val_norm['label'].tolist()\n",
        "X_test_norm, y_test = data_test_norm['normalized description'].tolist(), data_test_norm['label'].tolist()"
      ]
    },
    {
      "cell_type": "code",
      "execution_count": null,
      "metadata": {
        "id": "QD_Kg1vDIwn0"
      },
      "outputs": [],
      "source": [
        "# TF-IDF vectorization\n",
        "TfidfVec = TfidfVectorizer(ngram_range = (1, 1))\n",
        "X_train_tfidf = TfidfVec.fit_transform(X_train_norm)\n",
        "X_val_tfidf = TfidfVec.transform(X_val_norm)\n",
        "X_test_tfidf = TfidfVec.transform(X_test_norm)"
      ]
    },
    {
      "cell_type": "code",
      "execution_count": null,
      "metadata": {
        "id": "BYhsx_W0IwqO"
      },
      "outputs": [],
      "source": [
        "#TF-IDF Baseline Modeling\n",
        "# Classifiers\n",
        "names = [\n",
        "    \"KNN Classifier\",\n",
        "    \"Decision Tree\",\n",
        "    \"Linear SVM\",\n",
        "    \"Random Forest\",\n",
        "    \"XGBoost\",\n",
        "]\n",
        "\n",
        "models = [\n",
        "    KNeighborsClassifier(n_neighbors = 149, n_jobs = -1),\n",
        "    DecisionTreeClassifier(),\n",
        "    svm.SVC(kernel = 'linear'),\n",
        "    RandomForestClassifier(n_estimators = 100),\n",
        "    XGBClassifier(),\n",
        "]"
      ]
    },
    {
      "cell_type": "code",
      "execution_count": null,
      "metadata": {
        "id": "W_p227nSIws6"
      },
      "outputs": [],
      "source": [
        "# Function to return summary of baseline models\n",
        "def score(X_train, y_train, X_val, y_val, names = names, models = models):\n",
        "    score_df, score_train, score_val = pd.DataFrame(), [], []\n",
        "    x = time.time()\n",
        "    for model in models:\n",
        "        model.fit(X_train, y_train)\n",
        "        y_train_pred, y_val_pred = model.predict(X_train), model.predict(X_val)\n",
        "        score_train.append(accuracy_score(y_train, y_train_pred))\n",
        "        score_val.append(accuracy_score(y_val, y_val_pred))\n",
        "\n",
        "    score_df[\"Classifier\"], score_df[\"Training accuracy\"], score_df[\"Validation accuracy\"] = names, score_train, score_val\n",
        "    score_df.sort_values(by = 'Validation accuracy', ascending = False, inplace = True)\n",
        "    return score_df"
      ]
    },
    {
      "cell_type": "code",
      "execution_count": null,
      "metadata": {
        "id": "mm_YDHnQIwvO",
        "colab": {
          "base_uri": "https://localhost:8080/",
          "height": 206
        },
        "outputId": "6ad207d6-c834-4f8b-f66d-db92832b488e"
      },
      "outputs": [
        {
          "output_type": "execute_result",
          "data": {
            "text/plain": [
              "       Classifier  Training accuracy  Validation accuracy\n",
              "2      Linear SVM           0.978328             0.951079\n",
              "3   Random Forest           0.999910             0.929856\n",
              "0  KNN Classifier           0.915516             0.906115\n",
              "1   Decision Tree           0.999910             0.857914\n",
              "4         XGBoost           0.860438             0.836331"
            ],
            "text/html": [
              "\n",
              "  <div id=\"df-56878e27-6b4c-48bb-8d23-f0b29ca3fc6d\">\n",
              "    <div class=\"colab-df-container\">\n",
              "      <div>\n",
              "<style scoped>\n",
              "    .dataframe tbody tr th:only-of-type {\n",
              "        vertical-align: middle;\n",
              "    }\n",
              "\n",
              "    .dataframe tbody tr th {\n",
              "        vertical-align: top;\n",
              "    }\n",
              "\n",
              "    .dataframe thead th {\n",
              "        text-align: right;\n",
              "    }\n",
              "</style>\n",
              "<table border=\"1\" class=\"dataframe\">\n",
              "  <thead>\n",
              "    <tr style=\"text-align: right;\">\n",
              "      <th></th>\n",
              "      <th>Classifier</th>\n",
              "      <th>Training accuracy</th>\n",
              "      <th>Validation accuracy</th>\n",
              "    </tr>\n",
              "  </thead>\n",
              "  <tbody>\n",
              "    <tr>\n",
              "      <th>2</th>\n",
              "      <td>Linear SVM</td>\n",
              "      <td>0.978328</td>\n",
              "      <td>0.951079</td>\n",
              "    </tr>\n",
              "    <tr>\n",
              "      <th>3</th>\n",
              "      <td>Random Forest</td>\n",
              "      <td>0.999910</td>\n",
              "      <td>0.929856</td>\n",
              "    </tr>\n",
              "    <tr>\n",
              "      <th>0</th>\n",
              "      <td>KNN Classifier</td>\n",
              "      <td>0.915516</td>\n",
              "      <td>0.906115</td>\n",
              "    </tr>\n",
              "    <tr>\n",
              "      <th>1</th>\n",
              "      <td>Decision Tree</td>\n",
              "      <td>0.999910</td>\n",
              "      <td>0.857914</td>\n",
              "    </tr>\n",
              "    <tr>\n",
              "      <th>4</th>\n",
              "      <td>XGBoost</td>\n",
              "      <td>0.860438</td>\n",
              "      <td>0.836331</td>\n",
              "    </tr>\n",
              "  </tbody>\n",
              "</table>\n",
              "</div>\n",
              "      <button class=\"colab-df-convert\" onclick=\"convertToInteractive('df-56878e27-6b4c-48bb-8d23-f0b29ca3fc6d')\"\n",
              "              title=\"Convert this dataframe to an interactive table.\"\n",
              "              style=\"display:none;\">\n",
              "        \n",
              "  <svg xmlns=\"http://www.w3.org/2000/svg\" height=\"24px\"viewBox=\"0 0 24 24\"\n",
              "       width=\"24px\">\n",
              "    <path d=\"M0 0h24v24H0V0z\" fill=\"none\"/>\n",
              "    <path d=\"M18.56 5.44l.94 2.06.94-2.06 2.06-.94-2.06-.94-.94-2.06-.94 2.06-2.06.94zm-11 1L8.5 8.5l.94-2.06 2.06-.94-2.06-.94L8.5 2.5l-.94 2.06-2.06.94zm10 10l.94 2.06.94-2.06 2.06-.94-2.06-.94-.94-2.06-.94 2.06-2.06.94z\"/><path d=\"M17.41 7.96l-1.37-1.37c-.4-.4-.92-.59-1.43-.59-.52 0-1.04.2-1.43.59L10.3 9.45l-7.72 7.72c-.78.78-.78 2.05 0 2.83L4 21.41c.39.39.9.59 1.41.59.51 0 1.02-.2 1.41-.59l7.78-7.78 2.81-2.81c.8-.78.8-2.07 0-2.86zM5.41 20L4 18.59l7.72-7.72 1.47 1.35L5.41 20z\"/>\n",
              "  </svg>\n",
              "      </button>\n",
              "      \n",
              "  <style>\n",
              "    .colab-df-container {\n",
              "      display:flex;\n",
              "      flex-wrap:wrap;\n",
              "      gap: 12px;\n",
              "    }\n",
              "\n",
              "    .colab-df-convert {\n",
              "      background-color: #E8F0FE;\n",
              "      border: none;\n",
              "      border-radius: 50%;\n",
              "      cursor: pointer;\n",
              "      display: none;\n",
              "      fill: #1967D2;\n",
              "      height: 32px;\n",
              "      padding: 0 0 0 0;\n",
              "      width: 32px;\n",
              "    }\n",
              "\n",
              "    .colab-df-convert:hover {\n",
              "      background-color: #E2EBFA;\n",
              "      box-shadow: 0px 1px 2px rgba(60, 64, 67, 0.3), 0px 1px 3px 1px rgba(60, 64, 67, 0.15);\n",
              "      fill: #174EA6;\n",
              "    }\n",
              "\n",
              "    [theme=dark] .colab-df-convert {\n",
              "      background-color: #3B4455;\n",
              "      fill: #D2E3FC;\n",
              "    }\n",
              "\n",
              "    [theme=dark] .colab-df-convert:hover {\n",
              "      background-color: #434B5C;\n",
              "      box-shadow: 0px 1px 3px 1px rgba(0, 0, 0, 0.15);\n",
              "      filter: drop-shadow(0px 1px 2px rgba(0, 0, 0, 0.3));\n",
              "      fill: #FFFFFF;\n",
              "    }\n",
              "  </style>\n",
              "\n",
              "      <script>\n",
              "        const buttonEl =\n",
              "          document.querySelector('#df-56878e27-6b4c-48bb-8d23-f0b29ca3fc6d button.colab-df-convert');\n",
              "        buttonEl.style.display =\n",
              "          google.colab.kernel.accessAllowed ? 'block' : 'none';\n",
              "\n",
              "        async function convertToInteractive(key) {\n",
              "          const element = document.querySelector('#df-56878e27-6b4c-48bb-8d23-f0b29ca3fc6d');\n",
              "          const dataTable =\n",
              "            await google.colab.kernel.invokeFunction('convertToInteractive',\n",
              "                                                     [key], {});\n",
              "          if (!dataTable) return;\n",
              "\n",
              "          const docLinkHtml = 'Like what you see? Visit the ' +\n",
              "            '<a target=\"_blank\" href=https://colab.research.google.com/notebooks/data_table.ipynb>data table notebook</a>'\n",
              "            + ' to learn more about interactive tables.';\n",
              "          element.innerHTML = '';\n",
              "          dataTable['output_type'] = 'display_data';\n",
              "          await google.colab.output.renderOutput(dataTable, element);\n",
              "          const docLink = document.createElement('div');\n",
              "          docLink.innerHTML = docLinkHtml;\n",
              "          element.appendChild(docLink);\n",
              "        }\n",
              "      </script>\n",
              "    </div>\n",
              "  </div>\n",
              "  "
            ]
          },
          "metadata": {},
          "execution_count": 44
        }
      ],
      "source": [
        "# Summary of baseline models\n",
        "score(X_train_tfidf, y_train, X_val_tfidf, y_val, names = names, models = models)\n"
      ]
    },
    {
      "cell_type": "code",
      "execution_count": null,
      "metadata": {
        "colab": {
          "base_uri": "https://localhost:8080/"
        },
        "id": "CoQnrElwIwxz",
        "outputId": "6333644d-174f-4a55-8c1a-fbf61ae151cd"
      },
      "outputs": [
        {
          "output_type": "stream",
          "name": "stdout",
          "text": [
            "Gridpoint #1: {'C': 0.1, 'kernel': 'linear'}\n",
            "Training accuracy: 0.9354345577986601, Validation accuracy: 0.9251798561151079, Runtime: 2m38s\n",
            " \n",
            "Gridpoint #2: {'C': 1, 'kernel': 'linear'}\n",
            "Training accuracy: 0.9783283125758734, Validation accuracy: 0.9510791366906475, Runtime: 1m37s\n",
            " \n",
            "Gridpoint #3: {'C': 10, 'kernel': 'linear'}\n",
            "Training accuracy: 0.9982015197158401, Validation accuracy: 0.9449640287769784, Runtime: 1m42s\n",
            " \n",
            "Gridpoint #4: {'C': 100, 'kernel': 'linear'}\n",
            "Training accuracy: 0.99932556989344, Validation accuracy: 0.9392086330935252, Runtime: 1m40s\n",
            " \n",
            "Best model: SVC(C=1, kernel='linear')\n",
            " \n",
            "Best parameters: {'C': 1, 'kernel': 'linear'}\n",
            "Best validation accuracy: 0.9510791366906475\n"
          ]
        }
      ],
      "source": [
        "# Hyperparameter tuning for linear SVM\n",
        "svm_classifier = svm.SVC()\n",
        "params_svm = {\n",
        "    'kernel': ['linear'],\n",
        "    'C': [0.1, 1, 10, 100]\n",
        "}\n",
        "\n",
        "best_model_svm, best_params_svm, best_score_svm, count = svm_classifier, ParameterGrid(params_svm)[0], 0, 0\n",
        "for g in ParameterGrid(params_svm):\n",
        "    time_start = time.time()\n",
        "    count += 1\n",
        "    print(f\"Gridpoint #{count}: {g}\")\n",
        "    svm_classifier.set_params(**g)\n",
        "    svm_classifier.fit(X_train_tfidf, y_train)\n",
        "    y_train_pred, y_val_pred = svm_classifier.predict(X_train_tfidf), svm_classifier.predict(X_val_tfidf)\n",
        "    score_train, score_val = accuracy_score(y_train, y_train_pred), accuracy_score(y_val, y_val_pred)\n",
        "    time_stop = time.time()\n",
        "    m, s = int(time_stop - time_start) // 60, int(time_stop - time_start) % 60\n",
        "    print(f\"Training accuracy: {score_train}, Validation accuracy: {score_val}, Runtime: {m}m{s}s\")\n",
        "    print(\" \")\n",
        "    if score_val > best_score_svm:\n",
        "        best_params_svm, best_score_svm = g, score_val\n",
        "\n",
        "best_model_tfidf, best_params_tfidf, best_score_tfidf = svm.SVC(), best_params_svm, best_score_svm\n",
        "best_model_tfidf.set_params(**best_params_tfidf)\n",
        "print(f\"Best model: {best_model_tfidf}\")\n",
        "print(\" \")\n",
        "print(f\"Best parameters: {best_params_tfidf}\")\n",
        "print(f\"Best validation accuracy: {best_score_tfidf}\")"
      ]
    },
    {
      "cell_type": "code",
      "source": [
        "from sklearn.svm import LinearSVC\n",
        "\n",
        "svm_clf = LinearSVC(C=1, max_iter=2000)\n",
        "svm_clf.fit(X_train_tfidf,y_train_pred)\n",
        "feature_ranks = sorted(zip(svm_clf.coef_[0], TfidfVec.get_feature_names_out()))\n",
        "top_10 = feature_ranks[-10:]\n",
        "print(\"Top 10 features for Label 0 (Electronics)\")\n",
        "for i in range(0, len(top_10)):\n",
        "    print(top_10[i])\n",
        "print()"
      ],
      "metadata": {
        "colab": {
          "base_uri": "https://localhost:8080/"
        },
        "id": "pjbx6zz3f0GD",
        "outputId": "ca0daed0-3c00-4f2e-82fa-e79c971ea020"
      },
      "execution_count": null,
      "outputs": [
        {
          "output_type": "stream",
          "name": "stdout",
          "text": [
            "Top 10 features for Label 0 (Electronics)\n",
            "(2.0698448187886522, 'tablet')\n",
            "(2.156475619454373, 'printer')\n",
            "(2.3020304507745935, 'lens')\n",
            "(2.31944455281781, 'laptop')\n",
            "(2.3693543247422584, 'phone')\n",
            "(2.4405140320675374, 'projector')\n",
            "(2.6354470046107696, 'gb')\n",
            "(2.7451113485419767, 'speaker')\n",
            "(2.8427752973451117, 'cable')\n",
            "(2.957726119625348, 'camera')\n",
            "\n"
          ]
        }
      ]
    },
    {
      "cell_type": "code",
      "source": [
        "from sklearn.svm import LinearSVC\n",
        "\n",
        "svm_clf = LinearSVC(C=1, max_iter=2000)\n",
        "svm_clf.fit(X_train_tfidf,y_train_pred)\n",
        "feature_ranks = sorted(zip(svm_clf.coef_[1], TfidfVec.get_feature_names_out()))\n",
        "top_10 = feature_ranks[-10:]\n",
        "print(\"Top 10 features for Label 1 (Household)\")\n",
        "for i in range(0, len(top_10)):\n",
        "    print(top_10[i])\n",
        "print()"
      ],
      "metadata": {
        "colab": {
          "base_uri": "https://localhost:8080/"
        },
        "id": "aHUyUFNddzRp",
        "outputId": "d5b67bfd-438e-448f-e403-85dd2b3197b3"
      },
      "execution_count": null,
      "outputs": [
        {
          "output_type": "stream",
          "name": "stdout",
          "text": [
            "Top 10 features for Label 1 (Household)\n",
            "(1.8106057210586999, 'iron')\n",
            "(1.8771867884284112, 'decoration')\n",
            "(1.887875465390333, 'pillow')\n",
            "(2.0870797700656776, 'oven')\n",
            "(2.121319436229988, 'chair')\n",
            "(2.197024019994087, 'vacuum')\n",
            "(2.221324419269683, 'steel')\n",
            "(2.246758097488831, 'bed')\n",
            "(2.3443110335278257, 'home')\n",
            "(2.3577339286407404, 'kitchen')\n",
            "\n"
          ]
        }
      ]
    },
    {
      "cell_type": "code",
      "source": [
        "from sklearn.svm import LinearSVC\n",
        "\n",
        "svm_clf = LinearSVC(C=1, max_iter=2000)\n",
        "svm_clf.fit(X_train_tfidf,y_train_pred)\n",
        "feature_ranks = sorted(zip(svm_clf.coef_[2], TfidfVec.get_feature_names_out()))\n",
        "top_10 = feature_ranks[-10:]\n",
        "print(\"Top 10 features for Label 2 (Books)\")\n",
        "for i in range(0, len(top_10)):\n",
        "    print(top_10[i])\n",
        "print()"
      ],
      "metadata": {
        "colab": {
          "base_uri": "https://localhost:8080/"
        },
        "id": "Uf37mX10f-xe",
        "outputId": "bfebb6b2-682a-4c41-a341-303500e267ef"
      },
      "execution_count": null,
      "outputs": [
        {
          "output_type": "stream",
          "name": "stdout",
          "text": [
            "Top 10 features for Label 2 (Books)\n",
            "(1.4954454265715187, 'history')\n",
            "(1.4959572759042539, 'snooker')\n",
            "(1.6001931610097244, 'story')\n",
            "(1.6038133579106855, 'science')\n",
            "(1.6390564228538895, 'engineering')\n",
            "(1.6857404933563946, 'edition')\n",
            "(1.8196809618561487, 'guide')\n",
            "(1.8233508215603684, 'review')\n",
            "(2.6988994341598738, 'book')\n",
            "(4.206443473342522, 'author')\n",
            "\n"
          ]
        }
      ]
    },
    {
      "cell_type": "code",
      "source": [
        "from sklearn.svm import LinearSVC\n",
        "\n",
        "svm_clf = LinearSVC(C=1, max_iter=2000)\n",
        "svm_clf.fit(X_train_tfidf,y_train_pred)\n",
        "feature_ranks = sorted(zip(svm_clf.coef_[3], TfidfVec.get_feature_names_out()))\n",
        "top_10 = feature_ranks[-10:]\n",
        "print(\"Top 10 features for Label 3 (Clothing and Accessories)\")\n",
        "for i in range(0, len(top_10)):\n",
        "    print(top_10[i])\n",
        "print()"
      ],
      "metadata": {
        "colab": {
          "base_uri": "https://localhost:8080/"
        },
        "id": "HSrnPpBydzX-",
        "outputId": "ff810671-27f6-4ae6-f829-8e0f21dfa9f0"
      },
      "execution_count": null,
      "outputs": [
        {
          "output_type": "stream",
          "name": "stdout",
          "text": [
            "Top 10 features for Label 3 (Clothing and Accessories)\n",
            "(1.9174005661931068, 'sock')\n",
            "(1.9845942616303909, 'cotton')\n",
            "(2.221637889553609, 'waist')\n",
            "(2.2999113351805094, 'sunglass')\n",
            "(2.3033112385366303, 'boy')\n",
            "(2.3431949732675452, 'men')\n",
            "(2.471984229328264, 'bra')\n",
            "(2.717018814156706, 'wear')\n",
            "(2.8927472954528524, 'man')\n",
            "(2.9540115613151823, 'woman')\n",
            "\n"
          ]
        }
      ]
    },
    {
      "cell_type": "code",
      "execution_count": null,
      "metadata": {
        "id": "wR3GYCB8Iw0G"
      },
      "outputs": [],
      "source": [
        "#Word 2 Vec model\n",
        "# Relevant text normalization processes\n",
        "def convert_to_lowercase(text): return text.lower()\n",
        "\n",
        "contractions_url = 'https://raw.githubusercontent.com/sugatagh/E-commerce-Text-Classification/main/JSON/english_contractions.json'\n",
        "contractions_dict = pd.read_json(contractions_url, typ = 'series')\n",
        "contractions_list = list(contractions_dict.keys())\n",
        "\n",
        "def convert_contractions(text):\n",
        "    words = []\n",
        "    for word in regexp.tokenize(text):\n",
        "        if word in contractions_list:\n",
        "            words = words + contractions_dict[word].split()\n",
        "        else:\n",
        "            words = words + word.split()\n",
        "    return \" \".join(words)"
      ]
    },
    {
      "cell_type": "code",
      "execution_count": null,
      "metadata": {
        "colab": {
          "base_uri": "https://localhost:8080/",
          "height": 424
        },
        "id": "zB1OgcI_Iw2B",
        "outputId": "d16b56f3-15a3-4c14-e4c2-74b85eeb13d8"
      },
      "outputs": [
        {
          "output_type": "execute_result",
          "data": {
            "text/plain": [
              "                                                  tokens  label\n",
              "15525  [practical, approach, to, acupuncture, 1, abou...      2\n",
              "1536   [nice, goods, leatherette, office, arm, chair,...      1\n",
              "21984  [ekan, fashionable, fedora, hat, for, girls, b...      3\n",
              "25056  [techyshop, dmx512, professional, concert, sho...      0\n",
              "25213  [marantz, tt5005, fully, automatic, belt, driv...      0\n",
              "...                                                  ...    ...\n",
              "23992  [apple, ipad, pro, mpf12hn, a, tablet, 10, 5, ...      0\n",
              "27640  [printelligent, laptop, skins, stickers, super...      0\n",
              "14501  [the, challenger, sale, taking, control, of, t...      2\n",
              "14555  [international, mathematics, olympiad, work, b...      2\n",
              "11590  [operating, system, concepts, 8th, edition, wi...      2\n",
              "\n",
              "[22241 rows x 2 columns]"
            ],
            "text/html": [
              "\n",
              "  <div id=\"df-357300f6-654f-4965-b969-db3d60c5c7de\">\n",
              "    <div class=\"colab-df-container\">\n",
              "      <div>\n",
              "<style scoped>\n",
              "    .dataframe tbody tr th:only-of-type {\n",
              "        vertical-align: middle;\n",
              "    }\n",
              "\n",
              "    .dataframe tbody tr th {\n",
              "        vertical-align: top;\n",
              "    }\n",
              "\n",
              "    .dataframe thead th {\n",
              "        text-align: right;\n",
              "    }\n",
              "</style>\n",
              "<table border=\"1\" class=\"dataframe\">\n",
              "  <thead>\n",
              "    <tr style=\"text-align: right;\">\n",
              "      <th></th>\n",
              "      <th>tokens</th>\n",
              "      <th>label</th>\n",
              "    </tr>\n",
              "  </thead>\n",
              "  <tbody>\n",
              "    <tr>\n",
              "      <th>15525</th>\n",
              "      <td>[practical, approach, to, acupuncture, 1, abou...</td>\n",
              "      <td>2</td>\n",
              "    </tr>\n",
              "    <tr>\n",
              "      <th>1536</th>\n",
              "      <td>[nice, goods, leatherette, office, arm, chair,...</td>\n",
              "      <td>1</td>\n",
              "    </tr>\n",
              "    <tr>\n",
              "      <th>21984</th>\n",
              "      <td>[ekan, fashionable, fedora, hat, for, girls, b...</td>\n",
              "      <td>3</td>\n",
              "    </tr>\n",
              "    <tr>\n",
              "      <th>25056</th>\n",
              "      <td>[techyshop, dmx512, professional, concert, sho...</td>\n",
              "      <td>0</td>\n",
              "    </tr>\n",
              "    <tr>\n",
              "      <th>25213</th>\n",
              "      <td>[marantz, tt5005, fully, automatic, belt, driv...</td>\n",
              "      <td>0</td>\n",
              "    </tr>\n",
              "    <tr>\n",
              "      <th>...</th>\n",
              "      <td>...</td>\n",
              "      <td>...</td>\n",
              "    </tr>\n",
              "    <tr>\n",
              "      <th>23992</th>\n",
              "      <td>[apple, ipad, pro, mpf12hn, a, tablet, 10, 5, ...</td>\n",
              "      <td>0</td>\n",
              "    </tr>\n",
              "    <tr>\n",
              "      <th>27640</th>\n",
              "      <td>[printelligent, laptop, skins, stickers, super...</td>\n",
              "      <td>0</td>\n",
              "    </tr>\n",
              "    <tr>\n",
              "      <th>14501</th>\n",
              "      <td>[the, challenger, sale, taking, control, of, t...</td>\n",
              "      <td>2</td>\n",
              "    </tr>\n",
              "    <tr>\n",
              "      <th>14555</th>\n",
              "      <td>[international, mathematics, olympiad, work, b...</td>\n",
              "      <td>2</td>\n",
              "    </tr>\n",
              "    <tr>\n",
              "      <th>11590</th>\n",
              "      <td>[operating, system, concepts, 8th, edition, wi...</td>\n",
              "      <td>2</td>\n",
              "    </tr>\n",
              "  </tbody>\n",
              "</table>\n",
              "<p>22241 rows × 2 columns</p>\n",
              "</div>\n",
              "      <button class=\"colab-df-convert\" onclick=\"convertToInteractive('df-357300f6-654f-4965-b969-db3d60c5c7de')\"\n",
              "              title=\"Convert this dataframe to an interactive table.\"\n",
              "              style=\"display:none;\">\n",
              "        \n",
              "  <svg xmlns=\"http://www.w3.org/2000/svg\" height=\"24px\"viewBox=\"0 0 24 24\"\n",
              "       width=\"24px\">\n",
              "    <path d=\"M0 0h24v24H0V0z\" fill=\"none\"/>\n",
              "    <path d=\"M18.56 5.44l.94 2.06.94-2.06 2.06-.94-2.06-.94-.94-2.06-.94 2.06-2.06.94zm-11 1L8.5 8.5l.94-2.06 2.06-.94-2.06-.94L8.5 2.5l-.94 2.06-2.06.94zm10 10l.94 2.06.94-2.06 2.06-.94-2.06-.94-.94-2.06-.94 2.06-2.06.94z\"/><path d=\"M17.41 7.96l-1.37-1.37c-.4-.4-.92-.59-1.43-.59-.52 0-1.04.2-1.43.59L10.3 9.45l-7.72 7.72c-.78.78-.78 2.05 0 2.83L4 21.41c.39.39.9.59 1.41.59.51 0 1.02-.2 1.41-.59l7.78-7.78 2.81-2.81c.8-.78.8-2.07 0-2.86zM5.41 20L4 18.59l7.72-7.72 1.47 1.35L5.41 20z\"/>\n",
              "  </svg>\n",
              "      </button>\n",
              "      \n",
              "  <style>\n",
              "    .colab-df-container {\n",
              "      display:flex;\n",
              "      flex-wrap:wrap;\n",
              "      gap: 12px;\n",
              "    }\n",
              "\n",
              "    .colab-df-convert {\n",
              "      background-color: #E8F0FE;\n",
              "      border: none;\n",
              "      border-radius: 50%;\n",
              "      cursor: pointer;\n",
              "      display: none;\n",
              "      fill: #1967D2;\n",
              "      height: 32px;\n",
              "      padding: 0 0 0 0;\n",
              "      width: 32px;\n",
              "    }\n",
              "\n",
              "    .colab-df-convert:hover {\n",
              "      background-color: #E2EBFA;\n",
              "      box-shadow: 0px 1px 2px rgba(60, 64, 67, 0.3), 0px 1px 3px 1px rgba(60, 64, 67, 0.15);\n",
              "      fill: #174EA6;\n",
              "    }\n",
              "\n",
              "    [theme=dark] .colab-df-convert {\n",
              "      background-color: #3B4455;\n",
              "      fill: #D2E3FC;\n",
              "    }\n",
              "\n",
              "    [theme=dark] .colab-df-convert:hover {\n",
              "      background-color: #434B5C;\n",
              "      box-shadow: 0px 1px 3px 1px rgba(0, 0, 0, 0.15);\n",
              "      filter: drop-shadow(0px 1px 2px rgba(0, 0, 0, 0.3));\n",
              "      fill: #FFFFFF;\n",
              "    }\n",
              "  </style>\n",
              "\n",
              "      <script>\n",
              "        const buttonEl =\n",
              "          document.querySelector('#df-357300f6-654f-4965-b969-db3d60c5c7de button.colab-df-convert');\n",
              "        buttonEl.style.display =\n",
              "          google.colab.kernel.accessAllowed ? 'block' : 'none';\n",
              "\n",
              "        async function convertToInteractive(key) {\n",
              "          const element = document.querySelector('#df-357300f6-654f-4965-b969-db3d60c5c7de');\n",
              "          const dataTable =\n",
              "            await google.colab.kernel.invokeFunction('convertToInteractive',\n",
              "                                                     [key], {});\n",
              "          if (!dataTable) return;\n",
              "\n",
              "          const docLinkHtml = 'Like what you see? Visit the ' +\n",
              "            '<a target=\"_blank\" href=https://colab.research.google.com/notebooks/data_table.ipynb>data table notebook</a>'\n",
              "            + ' to learn more about interactive tables.';\n",
              "          element.innerHTML = '';\n",
              "          dataTable['output_type'] = 'display_data';\n",
              "          await google.colab.output.renderOutput(dataTable, element);\n",
              "          const docLink = document.createElement('div');\n",
              "          docLink.innerHTML = docLinkHtml;\n",
              "          element.appendChild(docLink);\n",
              "        }\n",
              "      </script>\n",
              "    </div>\n",
              "  </div>\n",
              "  "
            ]
          },
          "metadata": {},
          "execution_count": 47
        }
      ],
      "source": [
        "# Text normalization for Word2Vec\n",
        "for df in [data_train, data_val, data_test]:\n",
        "    df['tokens'] = (df[\"description\"].apply(convert_to_lowercase)\n",
        "                                     .apply(convert_contractions)\n",
        "                                     .apply(regexp.tokenize))\n",
        "data_train[['tokens', 'label']]"
      ]
    },
    {
      "cell_type": "code",
      "source": [
        "from gensim.models import KeyedVectors\n"
      ],
      "metadata": {
        "id": "S74DGGyRGBpq"
      },
      "execution_count": null,
      "outputs": []
    },
    {
      "cell_type": "code",
      "source": [
        "#import gensim.downloader as api\n",
        "\n",
        "#wv = api.load('word2vec-google-news-300')"
      ],
      "metadata": {
        "id": "UbKvyJSDPVmC"
      },
      "execution_count": null,
      "outputs": []
    },
    {
      "cell_type": "code",
      "source": [
        "word2vec_path='/content/drive/MyDrive/Colab Notebooks/GoogleNews-vectors-negative300.bin.gz'\n",
        "word2vec = gensim.models.KeyedVectors.load_word2vec_format(word2vec_path, binary = True)\n"
      ],
      "metadata": {
        "id": "GRW8MH_CRdnd"
      },
      "execution_count": null,
      "outputs": []
    },
    {
      "cell_type": "code",
      "execution_count": null,
      "metadata": {
        "id": "XxaCHtF0LjmN"
      },
      "outputs": [],
      "source": [
        "# Some useful functions for Word2Vec\n",
        "def get_average_word2vec(tokens_list, vector, generate_missing = False, k = 300):\n",
        "    if len(tokens_list) < 1:\n",
        "        return np.zeros(k)\n",
        "    if generate_missing:\n",
        "        vectorized = [vector[word] if word in vector else np.random.rand(k) for word in tokens_list]\n",
        "    else:\n",
        "        vectorized = [vector[word] if word in vector else np.zeros(k) for word in tokens_list]\n",
        "    length = len(vectorized)\n",
        "    summed = np.sum(vectorized, axis = 0)\n",
        "    averaged = np.divide(summed, length)\n",
        "    return averaged\n",
        "\n",
        "def get_word2vec_embeddings(vectors, tokens, generate_missing = False):\n",
        "    embeddings = tokens.apply(lambda x: get_average_word2vec(x, vectors, generate_missing = generate_missing))\n",
        "    return list(embeddings)\n",
        "\n",
        "def plot_embedding(X, y):\n",
        "    truncated_SVD = TruncatedSVD(n_components = 2)\n",
        "    truncated_SVD.fit(X)\n",
        "    scores = truncated_SVD.transform(X)\n",
        "    color_mapper = {label:idx for idx, label in enumerate(set(y))}\n",
        "    color_column = [color_mapper[label] for label in y]\n",
        "    colors = ['red', 'blue', 'green', 'black']\n",
        "\n",
        "    plt.scatter(scores[:, 0], scores[:, 1], s = 8, alpha = 0.8, c = y, cmap = matplotlib.colors.ListedColormap(colors))\n",
        "    red_patch = mpatches.Patch(color = 'red', label = 'Electronics')\n",
        "    blue_patch = mpatches.Patch(color = 'blue', label = 'Household')\n",
        "    green_patch = mpatches.Patch(color = 'green', label = 'Books')\n",
        "    black_patch = mpatches.Patch(color = 'black', label = 'Clothing & Accessories')\n",
        "    plt.legend(handles = [red_patch, blue_patch, green_patch, black_patch], prop = {\"size\": 12})"
      ]
    },
    {
      "cell_type": "code",
      "execution_count": null,
      "metadata": {
        "id": "HpvFyZlULjox",
        "colab": {
          "base_uri": "https://localhost:8080/",
          "height": 431
        },
        "outputId": "b92eef19-a600-407d-f9ca-0ce6463b053c"
      },
      "outputs": [
        {
          "output_type": "display_data",
          "data": {
            "text/plain": [
              "<Figure size 576x504 with 1 Axes>"
            ],
            "image/png": "[encoded data removed]"
          },
          "metadata": {}
        }
      ],
      "source": [
        "# Word2Vec embedding\n",
        "X_train_embed = get_word2vec_embeddings(word2vec, data_train['tokens'])\n",
        "X_val_embed = get_word2vec_embeddings(word2vec, data_val['tokens'])\n",
        "X_test_embed = get_word2vec_embeddings(word2vec, data_test['tokens'])\n",
        "\n",
        "fig = plt.figure(figsize = (8, 7))\n",
        "plot_embedding(X_train_embed, y_train)\n",
        "plt.show()"
      ]
    },
    {
      "cell_type": "code",
      "execution_count": null,
      "metadata": {
        "id": "RRQ9-VYHLjrE"
      },
      "outputs": [],
      "source": [
        "# Converting to Compressed Sparse Row matrix\n",
        "X_train_w2v = scipy.sparse.csr_matrix(X_train_embed)\n",
        "X_val_w2v = scipy.sparse.csr_matrix(X_val_embed)\n",
        "X_test_w2v = scipy.sparse.csr_matrix(X_test_embed)"
      ]
    },
    {
      "cell_type": "code",
      "execution_count": null,
      "metadata": {
        "id": "Ms1r-d6JLjtl",
        "colab": {
          "base_uri": "https://localhost:8080/",
          "height": 206
        },
        "outputId": "134a741c-6c95-49d7-f951-7d63de27b20a"
      },
      "outputs": [
        {
          "output_type": "execute_result",
          "data": {
            "text/plain": [
              "       Classifier  Training accuracy  Validation accuracy\n",
              "2      Linear SVM           0.937233             0.934173\n",
              "3   Random Forest           0.999910             0.928417\n",
              "4         XGBoost           0.938537             0.921583\n",
              "0  KNN Classifier           0.913268             0.912590\n",
              "1   Decision Tree           0.999955             0.812230"
            ],
            "text/html": [
              "\n",
              "  <div id=\"df-03bb6f97-a64b-4daa-b6a8-7a3eecde0e59\">\n",
              "    <div class=\"colab-df-container\">\n",
              "      <div>\n",
              "<style scoped>\n",
              "    .dataframe tbody tr th:only-of-type {\n",
              "        vertical-align: middle;\n",
              "    }\n",
              "\n",
              "    .dataframe tbody tr th {\n",
              "        vertical-align: top;\n",
              "    }\n",
              "\n",
              "    .dataframe thead th {\n",
              "        text-align: right;\n",
              "    }\n",
              "</style>\n",
              "<table border=\"1\" class=\"dataframe\">\n",
              "  <thead>\n",
              "    <tr style=\"text-align: right;\">\n",
              "      <th></th>\n",
              "      <th>Classifier</th>\n",
              "      <th>Training accuracy</th>\n",
              "      <th>Validation accuracy</th>\n",
              "    </tr>\n",
              "  </thead>\n",
              "  <tbody>\n",
              "    <tr>\n",
              "      <th>2</th>\n",
              "      <td>Linear SVM</td>\n",
              "      <td>0.937233</td>\n",
              "      <td>0.934173</td>\n",
              "    </tr>\n",
              "    <tr>\n",
              "      <th>3</th>\n",
              "      <td>Random Forest</td>\n",
              "      <td>0.999910</td>\n",
              "      <td>0.928417</td>\n",
              "    </tr>\n",
              "    <tr>\n",
              "      <th>4</th>\n",
              "      <td>XGBoost</td>\n",
              "      <td>0.938537</td>\n",
              "      <td>0.921583</td>\n",
              "    </tr>\n",
              "    <tr>\n",
              "      <th>0</th>\n",
              "      <td>KNN Classifier</td>\n",
              "      <td>0.913268</td>\n",
              "      <td>0.912590</td>\n",
              "    </tr>\n",
              "    <tr>\n",
              "      <th>1</th>\n",
              "      <td>Decision Tree</td>\n",
              "      <td>0.999955</td>\n",
              "      <td>0.812230</td>\n",
              "    </tr>\n",
              "  </tbody>\n",
              "</table>\n",
              "</div>\n",
              "      <button class=\"colab-df-convert\" onclick=\"convertToInteractive('df-03bb6f97-a64b-4daa-b6a8-7a3eecde0e59')\"\n",
              "              title=\"Convert this dataframe to an interactive table.\"\n",
              "              style=\"display:none;\">\n",
              "        \n",
              "  <svg xmlns=\"http://www.w3.org/2000/svg\" height=\"24px\"viewBox=\"0 0 24 24\"\n",
              "       width=\"24px\">\n",
              "    <path d=\"M0 0h24v24H0V0z\" fill=\"none\"/>\n",
              "    <path d=\"M18.56 5.44l.94 2.06.94-2.06 2.06-.94-2.06-.94-.94-2.06-.94 2.06-2.06.94zm-11 1L8.5 8.5l.94-2.06 2.06-.94-2.06-.94L8.5 2.5l-.94 2.06-2.06.94zm10 10l.94 2.06.94-2.06 2.06-.94-2.06-.94-.94-2.06-.94 2.06-2.06.94z\"/><path d=\"M17.41 7.96l-1.37-1.37c-.4-.4-.92-.59-1.43-.59-.52 0-1.04.2-1.43.59L10.3 9.45l-7.72 7.72c-.78.78-.78 2.05 0 2.83L4 21.41c.39.39.9.59 1.41.59.51 0 1.02-.2 1.41-.59l7.78-7.78 2.81-2.81c.8-.78.8-2.07 0-2.86zM5.41 20L4 18.59l7.72-7.72 1.47 1.35L5.41 20z\"/>\n",
              "  </svg>\n",
              "      </button>\n",
              "      \n",
              "  <style>\n",
              "    .colab-df-container {\n",
              "      display:flex;\n",
              "      flex-wrap:wrap;\n",
              "      gap: 12px;\n",
              "    }\n",
              "\n",
              "    .colab-df-convert {\n",
              "      background-color: #E8F0FE;\n",
              "      border: none;\n",
              "      border-radius: 50%;\n",
              "      cursor: pointer;\n",
              "      display: none;\n",
              "      fill: #1967D2;\n",
              "      height: 32px;\n",
              "      padding: 0 0 0 0;\n",
              "      width: 32px;\n",
              "    }\n",
              "\n",
              "    .colab-df-convert:hover {\n",
              "      background-color: #E2EBFA;\n",
              "      box-shadow: 0px 1px 2px rgba(60, 64, 67, 0.3), 0px 1px 3px 1px rgba(60, 64, 67, 0.15);\n",
              "      fill: #174EA6;\n",
              "    }\n",
              "\n",
              "    [theme=dark] .colab-df-convert {\n",
              "      background-color: #3B4455;\n",
              "      fill: #D2E3FC;\n",
              "    }\n",
              "\n",
              "    [theme=dark] .colab-df-convert:hover {\n",
              "      background-color: #434B5C;\n",
              "      box-shadow: 0px 1px 3px 1px rgba(0, 0, 0, 0.15);\n",
              "      filter: drop-shadow(0px 1px 2px rgba(0, 0, 0, 0.3));\n",
              "      fill: #FFFFFF;\n",
              "    }\n",
              "  </style>\n",
              "\n",
              "      <script>\n",
              "        const buttonEl =\n",
              "          document.querySelector('#df-03bb6f97-a64b-4daa-b6a8-7a3eecde0e59 button.colab-df-convert');\n",
              "        buttonEl.style.display =\n",
              "          google.colab.kernel.accessAllowed ? 'block' : 'none';\n",
              "\n",
              "        async function convertToInteractive(key) {\n",
              "          const element = document.querySelector('#df-03bb6f97-a64b-4daa-b6a8-7a3eecde0e59');\n",
              "          const dataTable =\n",
              "            await google.colab.kernel.invokeFunction('convertToInteractive',\n",
              "                                                     [key], {});\n",
              "          if (!dataTable) return;\n",
              "\n",
              "          const docLinkHtml = 'Like what you see? Visit the ' +\n",
              "            '<a target=\"_blank\" href=https://colab.research.google.com/notebooks/data_table.ipynb>data table notebook</a>'\n",
              "            + ' to learn more about interactive tables.';\n",
              "          element.innerHTML = '';\n",
              "          dataTable['output_type'] = 'display_data';\n",
              "          await google.colab.output.renderOutput(dataTable, element);\n",
              "          const docLink = document.createElement('div');\n",
              "          docLink.innerHTML = docLinkHtml;\n",
              "          element.appendChild(docLink);\n",
              "        }\n",
              "      </script>\n",
              "    </div>\n",
              "  </div>\n",
              "  "
            ]
          },
          "metadata": {},
          "execution_count": 53
        }
      ],
      "source": [
        "# Summary of baseline models\n",
        "score(X_train_w2v, y_train, X_val_w2v, y_val, names = names, models = models)\n"
      ]
    },
    {
      "cell_type": "code",
      "source": [
        "# Hyperparameter tuning for linear SVM\n",
        "svm_classifier = svm.SVC()\n",
        "params_svm = {\n",
        "    'kernel': ['linear'],\n",
        "    'C': [0.1, 1, 10, 100]\n",
        "}\n",
        "\n",
        "best_model_svm, best_params_svm, best_score_svm, count = svm_classifier, ParameterGrid(params_svm)[0], 0, 0\n",
        "for g in ParameterGrid(params_svm):\n",
        "    time_start = time.time()\n",
        "    count += 1\n",
        "    print(f\"Gridpoint #{count}: {g}\")\n",
        "    svm_classifier.set_params(**g)\n",
        "    svm_classifier.fit(X_train_w2v, y_train)\n",
        "    y_train_pred, y_val_pred = svm_classifier.predict(X_train_w2v), svm_classifier.predict(X_val_w2v)\n",
        "    score_train, score_val = accuracy_score(y_train, y_train_pred), accuracy_score(y_val, y_val_pred)\n",
        "    time_stop = time.time()\n",
        "    m, s = int(time_stop - time_start) // 60, int(time_stop - time_start) % 60\n",
        "    print(f\"Training accuracy: {score_train}, Validation accuracy: {score_val}, Runtime: {m}m{s}s\")\n",
        "    print(\" \")\n",
        "    if score_val > best_score_svm:\n",
        "        best_params_svm, best_score_svm = g, score_val\n",
        "\n",
        "best_model_w2v, best_params_w2v, best_score_w2v = svm.SVC(), best_params_svm, best_score_svm\n",
        "best_model_w2v.set_params(**best_params_w2v)\n",
        "print(f\"Best model: {best_model_w2v}\")\n",
        "print(\" \")\n",
        "print(f\"Best parameters: {best_params_w2v}\")\n",
        "print(f\"Best validation accuracy: {best_score_w2v}\")"
      ],
      "metadata": {
        "colab": {
          "base_uri": "https://localhost:8080/"
        },
        "id": "N0-3wyF63LQy",
        "outputId": "4173f9a7-dbca-4c0d-c9f8-a87346803e80"
      },
      "execution_count": null,
      "outputs": [
        {
          "output_type": "stream",
          "name": "stdout",
          "text": [
            "Gridpoint #1: {'C': 0.1, 'kernel': 'linear'}\n",
            "Training accuracy: 0.922665347781125, Validation accuracy: 0.9190647482014388, Runtime: 3m31s\n",
            " \n",
            "Gridpoint #2: {'C': 1, 'kernel': 'linear'}\n",
            "Training accuracy: 0.93723303808282, Validation accuracy: 0.9341726618705036, Runtime: 1m59s\n",
            " \n",
            "Gridpoint #3: {'C': 10, 'kernel': 'linear'}\n",
            "Training accuracy: 0.9468998696101794, Validation accuracy: 0.9366906474820144, Runtime: 1m37s\n",
            " \n",
            "Gridpoint #4: {'C': 100, 'kernel': 'linear'}\n",
            "Training accuracy: 0.9502270581358752, Validation accuracy: 0.9298561151079137, Runtime: 1m57s\n",
            " \n",
            "Best model: SVC(C=10, kernel='linear')\n",
            " \n",
            "Best parameters: {'C': 10, 'kernel': 'linear'}\n",
            "Best validation accuracy: 0.9366906474820144\n"
          ]
        }
      ]
    },
    {
      "cell_type": "code",
      "execution_count": null,
      "metadata": {
        "id": "8LP-nHEGLjyI"
      },
      "outputs": [],
      "source": [
        "# Function to compute and print confusion matrix\n",
        "def conf_mat(y_test, y_test_pred, figsize = (10, 8), font_scale = 1.2, annot_kws_size = 16):\n",
        "    class_names = [0, 1, 2, 3] # ['Electronics', 'Household', 'Books', 'Clothing & Accessories']\n",
        "    tick_marks_y = [0.5, 1.5, 2.5, 3.5]\n",
        "    tick_marks_x = [0.5, 1.5, 2.5, 3.5]\n",
        "    confusion_matrix = metrics.confusion_matrix(y_test, y_test_pred)\n",
        "    confusion_matrix_df = pd.DataFrame(confusion_matrix, range(4), range(4))\n",
        "    plt.figure(figsize = figsize)\n",
        "    sns.set(font_scale = font_scale) # label size\n",
        "    plt.title(\"Confusion Matrix\")\n",
        "    sns.heatmap(confusion_matrix_df, annot = True, annot_kws = {\"size\": annot_kws_size}, fmt = 'd') # font size\n",
        "    plt.yticks(tick_marks_y, class_names, rotation = 'vertical')\n",
        "    plt.xticks(tick_marks_x, class_names, rotation = 'horizontal')\n",
        "    plt.ylabel('True label')\n",
        "    plt.xlabel('Predicted label')\n",
        "    plt.grid(False)\n",
        "    plt.show()"
      ]
    },
    {
      "cell_type": "code",
      "execution_count": null,
      "metadata": {
        "id": "7ydQblgsLj07"
      },
      "outputs": [],
      "source": [
        "# Best model\n",
        "if best_score_tfidf >= best_score_w2v:\n",
        "    best_model, X_train_vec, X_test_vec = best_model_tfidf, X_train_tfidf, X_test_tfidf\n",
        "else:\n",
        "    best_model, X_train_vec, X_test_vec = best_model_w2v, X_train_w2v, X_test_w2v"
      ]
    },
    {
      "cell_type": "code",
      "execution_count": null,
      "metadata": {
        "id": "36fiAYdbMYhy",
        "colab": {
          "base_uri": "https://localhost:8080/",
          "height": 559
        },
        "outputId": "a196c51a-f272-44c9-bdbe-d48a52b719d9"
      },
      "outputs": [
        {
          "output_type": "stream",
          "name": "stdout",
          "text": [
            "Test accuracy    0.949299\n",
            " \n"
          ]
        },
        {
          "output_type": "display_data",
          "data": {
            "text/plain": [
              "<Figure size 720x576 with 2 Axes>"
            ],
            "image/png": "[encoded data removed]"
          },
          "metadata": {}
        }
      ],
      "source": [
        "# Prediction and evaluation on test set\n",
        "best_model.fit(X_train_vec, y_train)\n",
        "y_test_pred = best_model.predict(X_test_vec)\n",
        "score_test = accuracy_score(y_test, y_test_pred)\n",
        "print(pd.Series({\"Test accuracy\": score_test}).to_string())\n",
        "print(\" \")\n",
        "conf_mat(y_test, y_test_pred, figsize = (10, 8), font_scale = 1.2, annot_kws_size = 16) # Confusion matrix"
      ]
    },
    {
      "cell_type": "code",
      "source": [
        "from sklearn.metrics import confusion_matrix\n",
        "y_test_pred = best_model.predict(X_test_vec)\n",
        "cm=confusion_matrix(y_test, y_test_pred, labels=[0,1,2,3])\n",
        "print(cm)\n",
        "print()\n",
        "\n",
        "from sklearn.metrics import classification_report\n",
        "target_names = ['0','1','2','3']\n",
        "print(classification_report(y_test, y_test_pred, target_names=target_names))"
      ],
      "metadata": {
        "colab": {
          "base_uri": "https://localhost:8080/"
        },
        "id": "dFTypKBNg9fl",
        "outputId": "0167ef11-44a2-4d3b-c019-3a2ca6ed412f"
      },
      "execution_count": null,
      "outputs": [
        {
          "output_type": "stream",
          "name": "stdout",
          "text": [
            "[[ 480   34   10    1]\n",
            " [  19 1018   10    9]\n",
            " [  13   25  599    7]\n",
            " [   4    5    4  543]]\n",
            "\n",
            "              precision    recall  f1-score   support\n",
            "\n",
            "           0       0.93      0.91      0.92       525\n",
            "           1       0.94      0.96      0.95      1056\n",
            "           2       0.96      0.93      0.95       644\n",
            "           3       0.97      0.98      0.97       556\n",
            "\n",
            "    accuracy                           0.95      2781\n",
            "   macro avg       0.95      0.95      0.95      2781\n",
            "weighted avg       0.95      0.95      0.95      2781\n",
            "\n"
          ]
        }
      ]
    },
    {
      "cell_type": "code",
      "source": [
        "#error analysis\n",
        "err_cnt = 0\n",
        "for i in range(0, len(y_test)):\n",
        "    if(y_test[i]==3 and y_test_pred[i]==0):\n",
        "        print(X_test_norm[i])\n",
        "        err_cnt = err_cnt+1\n",
        "print(\"errors:\", err_cnt)"
      ],
      "metadata": {
        "colab": {
          "base_uri": "https://localhost:8080/"
        },
        "id": "eqfWxREBjMPX",
        "outputId": "04b27ccc-10a2-4bf2-e4e7-a8ef40366a53"
      },
      "execution_count": null,
      "outputs": [
        {
          "output_type": "stream",
          "name": "stdout",
          "text": [
            "keetron pu leather tpu wrist strap credit card holder flip folio shockproof cover closure slim protector note orange redmi note redmi note antiscratch transparent tpupc back tpu side case keetronextreme profile note redmi note case surround edge cover phone body protection front back phone pocket purse well include volume mute switch case make life moment scratch bump shock dirt wear compartment precise cutout speaker camera port allow easily access port take case slim tpu pu leatherpu leather ecofriendly deteriorate tpu flap provide protection cellphone case lookkeetron provide satisfaction product customer issue product please contact fulfill request promptly hassle\n",
            "lg phone caselg grace lte case screen protectoranoke cute protective cell phone cover girl woman lg ch phone modelslg case caselg case lg harmony caselg case grace lte case tmobileat verizon sprint tmobile cellularmetropcscricketvirgintracfoneboost anoke brand caseultra transparent slim cover case come case hd screen protector product lg case combination crystal pc back tpu cover device side protect phone scratch impact case transparency back make beauty phone bumper give phone look case preciously cutout portscamera lg case weight remove case come hd screen protector servicethere nothing customer concern support please feel contact provide help need time\n",
            "expedition man watch manufacturing marketing brand watch come watch call timex expedition unisex watch timepiece design man woman prefer stay expeditiously craft watch serve well analogue watch watch build case watch make pure stainless steel crystal cover diameter case mm watch feature wrist strap make watch strap mm attach buckle clasp provide grip design expedition unisex watch design perfection provide view time design watch make balance elegance simplicity watch explicitly layer marker hand time display window case classy shape brown shaded strap perfectly accentuates watch provide resistance water depth metre pressure bar movement display timekeepe make unisex watch follow hand quartz movement watch feature time display time display image name style tip place left warranty timex expedition unisex watch come warranty even face problem relate product worry card style tip watch look occasion design make adventure watch companion match type attire outfit watch also appropriate gifted someone adore feature case come compass ring help find direction indiglo night light help view time alarm clock feature watch sport adventure even workout multilayere marker display time hour minute format replicate design sport watch therefore feature watch design make life adventure watch ship box container ensure safety damage delivery container travel friendly lightweight easily keep bag travel quality watch assure manufacture brand timex range timex watch well sustenance battery backup make relentlessly period time hence shop watch online enjoy benefit come\n",
            "case galaxy tab case dteck cartoon flip folio case leather stand wallet cover samsung tab tabletbutterfly bb butterfly tree model design tab model tab auto wake feature wake automatically sleep extend work hour closure strap holder degsin credit card slot money holder designconvenient carry cash card take walk grocery shopping cute cartoon design looking eyecatche case precise opening access charge port headphone jack volume button case kickstand view hand vedio chat watch movietv make quality leather silicone body cover ipad bump package list dteck case tab dteck brand cloth random color stylus remind question item order please feel contact order try solve problem\n",
            "errors: 4\n"
          ]
        }
      ]
    },
    {
      "cell_type": "code",
      "source": [
        "#error analysis\n",
        "err_cnt = 0\n",
        "for i in range(0, len(y_test)):\n",
        "    if(y_test[i]==3 and y_test_pred[i]==1):\n",
        "        print(X_test_norm[i])\n",
        "        err_cnt = err_cnt+1\n",
        "print(\"errors:\", err_cnt)"
      ],
      "metadata": {
        "colab": {
          "base_uri": "https://localhost:8080/"
        },
        "id": "-YKjdiaElbsW",
        "outputId": "14ec9344-c0b6-482c-cb52-b4827e005514"
      },
      "execution_count": null,
      "outputs": [
        {
          "output_type": "stream",
          "name": "stdout",
          "text": [
            "india shawl kutch embroider border mirror dimension ft ft\n",
            "chronex ponytail hair band holder rubber band girlswomen hair band tool hold hair tightly metal hurt hair thickness well hold style purse workout bag change look instantly hair worry hair slippage quantity meet family need\n",
            "piece mermaid glitter cupcake cake pick decoration baby shower birthday party favor mermaid seahorse food pick package include pc mermaid tail pc pc seahorse topper\n",
            "hornbull man leather wallet belt hornbull help people world easily simply quality wallet card case passport holder reason get hornbull product design size feel contrast wallet keep longterm use year decade support quality name brand top grain leather product try product item stock ship everyone use product come back something right product make grain leather proud say product make wallet card case passport holder handcraft kolkata india product get well age come quality follow standard find product hornbull banner\n",
            "packit traveler lunch bag polka dot color dot packit traveler lunch bag polka dot\n",
            "errors: 5\n"
          ]
        }
      ]
    },
    {
      "cell_type": "code",
      "source": [
        "#clothing as books\n",
        "err_cnt = 0\n",
        "for i in range(0, len(y_test)):\n",
        "    if(y_test[i]==3 and y_test_pred[i]==2):\n",
        "        print(X_test_norm[i])\n",
        "        err_cnt = err_cnt+1\n",
        "print(\"errors:\", err_cnt)"
      ],
      "metadata": {
        "colab": {
          "base_uri": "https://localhost:8080/"
        },
        "id": "Jc1xD-Bylbvr",
        "outputId": "80baf8af-5f46-4f6e-c95b-7bba89d48b50"
      },
      "execution_count": null,
      "outputs": [
        {
          "output_type": "stream",
          "name": "stdout",
          "text": [
            "deal man suspender neck bow suspender lowestpricedeal toped selling know everybody caresso come lot collection suspender convert style suspender look hip statement look want choose design lowestpricedeal store suspender also well personality sense style proud weight granteed put mind always try well bring premium quality suspender know everybody search kind stuff get absolutely feel suspender also lightweight much time want suspender way matter go way look surprised know time visit store keep suspender believe run mill\n",
            "eccellente fedora hat design sale diwali offer\n",
            "spiderman glove disc fan crawl marvel superhero spiderman glove disc launcher surely become see child save disc throw glove craft quality material colour child play\n",
            "man adriano running shoe bear part name founder brand name lotto sport world research design innovation accompany lozenge figure represent partially playing field company policy commit begin soccer tennis inclination towards sportthe lotto logo create variation make thereby ensure continuity brand image recognisability year lotto today product country sport article store specialise chainstore store specialise sport departmentsdesign attention innovation lotto strength technology product design style requirement lotto performance sport clothing footwear also leisure clothing style innovation heart sportsport associationin lotto history sponsorship always success story tradition continue today football world cup winner luca joan capdevila ranocchia federico balzaretti also forge ahead range genoa italy borussia mönchengladbach france queen park ranger el deportivo la coruna spain recife brazil lorenzo almagro argentina well team costa rica panama tennis rome thirty year never miss slam tournament master series increasingly ferrer agnieszka radwańska marion tennis use lotto wear marathoner paolo venturini tester lotto run product bike trail expert vittorio holder world record model tv star endorse brand leisure category\n",
            "errors: 4\n"
          ]
        }
      ]
    },
    {
      "cell_type": "code",
      "source": [
        "err_cnt = 0\n",
        "for i in range(0, len(y_test)):\n",
        "    if(y_test[i]==0 and y_test_pred[i]==1):\n",
        "        print(X_test_norm[i])\n",
        "        err_cnt = err_cnt+1\n",
        "print(\"errors:\", err_cnt)"
      ],
      "metadata": {
        "colab": {
          "base_uri": "https://localhost:8080/"
        },
        "id": "QeoheYIMlbzU",
        "outputId": "828721a6-ea34-42f0-82bf-877521fe414a"
      },
      "execution_count": null,
      "outputs": [
        {
          "output_type": "stream",
          "name": "stdout",
          "text": [
            "morpho icon fingerprint scanner service version product description detail feature maintenance design capture highquality fingerprint image ambient rejection platen area framessecond image capture fully auto capture brightness contrast gain function fingerprint detection fbi mobile fap fip piv specification resolution ppi illumination automatically platen area mm area scale level interfacepower datum power operate temperature humidity weight lbs kg dimension mm system requirement window linux ghz cpu mb ram port card specification size cm cm cm weight aluminium casing resolution level grayscale framessecond image capture datum power window xp detail brandsafran morpho series item weight item model series model morpho mso include finger scanner battery include\n",
            "readat sheet mm thickness elevator write desk height smoke colour readat provide quality product readat give quality assurance size inch topwrite desk elevatorlaptop table fully height quality mm smoke sheet day warranty elevator office workhome work college work read writing drawing purpose also gift someone occasion easel incline adjust positionsso find writing read angel benefit reduce strain eye pain patientsmaintain privacywhen work work efficiency increasesit also improve hand write stand adjust backadjust table always ensure purchase product seller shivom fabrication trust readat brand get productsavoid duplicate elevatorthey make sheetalway use ps sheet make pure sheet product readat request product please give feedback amazon please call email\n",
            "lapcare multi function stand station ergonomically station height auto lock joint station people habit sift bed floor couch long hour laptop screen eye level make work less tiring reduce eye neck strain apart provide support hand help type fast station model laptop\n",
            "xpro ball head quickrelease plate\n",
            "cable world mini screwdriver bit set extension rod cable world mini screwdriver bit set extension rod home appliancelaptopmobilecomputer repair preparation intruduction cable world focus screwdriver research experience customer convenient usequality control mini screwdriver kit almost home appliance maintenance toyscameracellphonegame machinewatchcomputerweight device mini screwdriver kit advantage smallorganize quality transparent box findcarry store mini screwdriver set include inch rod philip allen head mm mm mm mm mm torx shape mm mm mm mm hexagon mm mm mm mm mm mm shape mm pentagon mm mm hopefully repair need warranty cable world cable world product back year warranty damage cover\n",
            "toyz scale die cast roll royce toy car pull back blink lightsassorte sizeroll royce scale die cast roll royce phantom pull back blink lightsthe car come pack beautiful box thermocol pack reach owner safely\n",
            "toyhouse audi battery operate rideon car kid paint blue battery rideon car toyhouse operate use surface let build memory kid carskid bike make plastic give kid ride toyhouse offer variety baby ride car kid motorcycle atv gokarts battery power bikescard year feature ease use body construction provide mile enjoyment kid buy product transact seller look packaging product toyhouse commit consumer absolute price value range product quality control process\n",
            "trendmax night lead selfie light lead bulb provide enough take provide lead light light scene light device use clip phone press power button switch lighting level intensity light clamp hold well antislip sponge effectively fall protect phone scratch lightweight easily pocket bag enjoy use everywhere heat use also use emergency light serve emergency light circumstance fun light photography video level brightness find lighting need photo phone\n",
            "morpheus mm ceiling fan fan visually body look room motor supreme performance consume power aerodynamically blade provide air aluminium body provide long durability\n",
            "moriah mount premium tea tea start become malty get taste palate tea prepare milk blend start day also get schedule bright bodied flavour flavour quality tea depend grow handle time harvest grow pristine dewy misty hill assam refreshing start journey arguably teagrowing region earth pick leave bud decade create truly tea experience leave handpicke care detail journey reach ensure goodness cup\n",
            "beetel telephone set well soho office home office well soho office home office ringer volume control tone pulse mute option\n",
            "elcor aspect auto lock projection screen inch\n",
            "philips photo frame clock calendar keep track time style scrapbook add touch slideshow slideshow share memorie select transition effect shuff\n",
            "saco comfort travel bag mobilepower bankcablesusb drivesmemory cardssim cardssmall accessory grey\n",
            "bracket handle stand shoe screw zhiyun crane moza air cross accessory screw zhiyun crane moza air cross feiyu dslr stabilizer\n",
            "character lcd display module lcd blacklight condition brandnew unopened item packaging\n",
            "pr fog lamp projector lens beam beam strobe function angel color blue devil eye color motorcycle bike scooter lead power spot beam light tvs pc product auto store pr cree quality protection battery reduce maintenance cost service life hour quality aluminum alloy construction design radiator ideal blast flash funtion waterproof dustproof rustproof anticollision buildin mode beam beam strobe flash long focus beam extremely model change need switch control press time model press time change model press time model specification color lead color material aluminum alloy input voltage dc power voltage\n",
            "royaloak tv stand wengy design entertainment unit oak need lend sophistication living room rack back require appliance easily unit also ensure easily television dark entertainment unit easily team sofa set\n",
            "silver compound silver highdensity silver compound enhance compound performance stability silver use shape size pure silver particle maximize particletoparticle area thermal transfer silver run migrate bleed\n",
            "advance inch hire photo frame motion sensor lead brand photo year experience dedicated customer service team commit deliver quality frame service allow display memory way assure quality service provide year part labor warranty time purchase need display photo photo frame solution display moment plug stick sd card see play front everyone parent grandparent want frame work convenience actually remote breeze get digital frame resolution lead backlit display enjoy jpeg photo amazing detail clarity frame also use play avi video frame activate sensing movement play photo video combine remote control breeze get humotion sensor convenience frame come trademark humotion sensor turn enter room leave room set sense movement time minute hour\n",
            "zozo premium auto removal multiuse stainless steel fastener combination set car dash audio radio door panel repair installer pry tool powsee multiuse tool set fastener remover rust design handle comfort use carry panel removal pc make plastic multiuse panel tool apply anywhere vehicle space crevice reach\n",
            "orient mm premium ceiling fan color ceiling fan promise ever air category heavenly silence orient aero series range fan set standard segment design performance feature advance profile blade design ensure air ensure operation orient percent rustfree blade make glass fill compound ab strength blade motor ball operationwhen come style fan sheer winner silhouette gloss premium pu integrate design bottom canopy cover stainless steel add premiumness contactus service relate complaint\n",
            "color cc colour concealer stick highlighter moisturize concealer stick color correction menow brand type concealer use face skin type skin type formulation pencil countryregion manufacture wt model number refer benefit concealer brand name ingredient refer detail size sample size quantity quantity color picture show unit piece package package size\n",
            "art street wood engrave personalized world husband photo picture frame birthday gift photo size scentworld husbandmulti art street wood engrave personalized world husband photo picture frame birthday gift photo size decoration picture frame elegance home living room bed room office picture frame highly thicken plexiglass perfect show life gift travel memories birthday party anything wooden engrave personalize picture frame choice show life memory craft work complement design use way want support table kind style photo use frame display birthday gift parent kid pet gifts friend family decoration business gift valentine day gift occasionrecord momentthere much time life want enjoy time life share friend kid family well picture time memory computer phone forget frame storage time day organize size framesdifferent living room display travel time photo organize layout style home decorin bed room put picture kid moment love create warm atmosphere\n",
            "quantem keyboard keypad malfunctioning work properly replace quantum keyboard serve time feature quantum keyboard craft quality come size make house confine space pressure weight difficulty use make never feel type therefore arm muscle stay letter mark add depth look keyboard name brand also place colour matte finish use buy window quite infuse design work environment remain function wake power use accord convenience craft accuracy face problem typing people networking site ergonomically handling edge therefore trouble rush buy product today experience\n",
            "dishankart cash drawer point sale pos system dishankart cash drawer combination robustness performance application bill holder coin holder come color\n",
            "inch ipadtablet sleeve cover cute satin stitch background pink check use contrast pink background leave impression shadow glass bead hair tail leg dazzle shadow effect\n",
            "amazon brand solimo swirl mm ceiling fan color solimo introduce range ceiling fan help beat heat weather blade ceiling fan come design finish choose range colour complement home décor mm sweep distribute air room also year warranty case manufacturing defect\n",
            "dot detox color correction mask even woman paraben reason become coarser time reason detoxify mask specifically tender underarm skin eliminate pigmentation discolouration roughness formulate activate charcoal jojoba tea oil pull dark skin cell sweat impurity reveal skin calciumvitamin complex help restore even tone make light smoother well chemical skin sideeffect zesty peppermint tea oil contain deodorize effectively leave feel fresher long treat underarm thoroughly deserve\n",
            "stand silver inch\n",
            "piston fit earphone space gray\n",
            "inateck port pcie expansion card interface usb express card desktop window mini pcie hub controller adapter power connection need frequently update driver please download version inateck official enhance use experience productdescription color wordwrap breakword fontsize margin productdescriptionfeaturediv color fontsize medium margin productdescriptionfeaturediv lineheight paddingbottom fontweight margin productdescriptionfeaturediv lineheight paddingbottom fontweight margin productdescription productdescription div productdescription margin productdescription margin productdescription fontweight color fontsize left productdescription table bordercollapse inherit marginbottom productdescription table img maxwidth inherit productdescription table td fontsize verticalalign inherit productdescription margin productdescription li liststyletype disc marginleft productdescription li liststyletype disc marginleft productdescription li liststyletype disc productdescription li margin productdescription margin productdescription fontsize productdescriptionproddescwidth productdescription tableeachfunction var width width width px else auto width var padding padding padding px else padding padding\n",
            "bluewud kunsua tv entertainment set box stand shelf wenge sizelarge selfassembly product require installation come installation guide install doityourself\n",
            "mosquick teakwood multipurpose sofa mat teak wood sofa tray laptop desk place mat also use arm product easily shape side arm product come backing product anti skid grip surface\n",
            "errors: 34\n"
          ]
        }
      ]
    },
    {
      "cell_type": "code",
      "source": [
        "err_cnt = 0\n",
        "for i in range(0, len(y_test)):\n",
        "    if(y_test[i]==0 and y_test_pred[i]==2):\n",
        "        print(X_test_norm[i])\n",
        "        err_cnt = err_cnt+1\n",
        "print(\"errors:\", err_cnt)"
      ],
      "metadata": {
        "colab": {
          "base_uri": "https://localhost:8080/"
        },
        "id": "j-1bAm3blb2m",
        "outputId": "94c82fda-f803-4408-affb-008d6031e97f"
      },
      "execution_count": null,
      "outputs": [
        {
          "output_type": "stream",
          "name": "stdout",
          "text": [
            "basher dinosaur bare bone author simon basher creator illustrator ten concept book child include physics biology math punctuation base tokyo specialize surrealism basher artwork regularly exhibit europe asia dan edit basher periodic author physics biology rock mineral study geology cambridge university\n",
            "ecodeal vermicompost fertilizer kg vermicompost make earthworm decompose cow dung waste\n",
            "shutter huggers monkey hugger style shutter hugger monkey\n",
            "emergency chronicle indira gandhi democracy turning point author prakash daytonstockton professor history princeton university member subaltern study dissolution recipient endowment humanity fellowship author book include reason widely mumbai adapt film bombay velvet story cowrote screenplay life princeton jersey\n",
            "gift year prime\n",
            "karaoke microphone ahuja research development centre recognise government india take pride develop product know reliability even operate condition microphone use purpose\n",
            "antenna theory analysis design wiley interscience author constantine balanis receive bsee virginia tech mee form university virginia engineering ohio state university doctorate aristotle university thessaloniki research center hampton va department engineering virginia university join state university regent professor engineering dr balanis also life ieee\n",
            "ccnp routing switching switch cert guide dvd author david hucaby ccie lead network engineer university work healthcare network base cisco product line david hold bachelor master engineering university author press title include wireless cert guide cisco asa pix fwsm handbook edition cisco firewall video mentor cisco lan switch video mentor david live wife marci daughter\n",
            "armor radiation shield pad latte beige medium\n",
            "pantone colormunki design colormunki solution give freedom design color spectrum even never think swing inspiration production color quality colormunki help grab color ideacapture colormunki see colormunki use go rgb cmyk capture almost color see colormunki hardware design specifically color screen desk coworker breakfast family pet anywhere find software rediscover love color colormunki software jawdropping easytouse ability search tag store manage color palette run work morning play colormunki\n",
            "errors: 10\n"
          ]
        }
      ]
    },
    {
      "cell_type": "code",
      "source": [
        "err_cnt = 0\n",
        "for i in range(0, len(y_test)):\n",
        "    if(y_test[i]==0 and y_test_pred[i]==3):\n",
        "        print(X_test_norm[i])\n",
        "        err_cnt = err_cnt+1\n",
        "print(\"errors:\", err_cnt)"
      ],
      "metadata": {
        "colab": {
          "base_uri": "https://localhost:8080/"
        },
        "id": "QUeifpUNlb5M",
        "outputId": "fd2da1ba-27da-4d41-f479-03ff5b80de41"
      },
      "execution_count": null,
      "outputs": [
        {
          "output_type": "stream",
          "name": "stdout",
          "text": [
            "cross coverage product description coverage style feature provide cup seperation support branddescription start corset factory today country world brand start operation india city product range include fashion line tshirt bra range sportswear well line\n",
            "errors: 1\n"
          ]
        }
      ]
    },
    {
      "cell_type": "code",
      "source": [
        "err_cnt = 0\n",
        "for i in range(0, len(y_test)):\n",
        "    if(y_test[i]==1 and y_test_pred[i]==0):\n",
        "        print(X_test_norm[i])\n",
        "        err_cnt = err_cnt+1\n",
        "print(\"errors:\", err_cnt)"
      ],
      "metadata": {
        "colab": {
          "base_uri": "https://localhost:8080/"
        },
        "id": "lqK0JWWtlwad",
        "outputId": "fd77ad0a-1b50-4e46-c9b5-8504cc9b8191"
      },
      "execution_count": null,
      "outputs": [
        {
          "output_type": "stream",
          "name": "stdout",
          "text": [
            "gbs wifi attendance system cloud storage lifetime maintenance ios support report globally\n",
            "ceuta combo offer stand bracket phone stand metal lazy stand use quality ab design beddesktop mobile mount holder watch moviesvideos music bed hold phone arm angle distance view angle convenience invention metal stand specially phone add effect moviegoe experience come gooseneck clip clamp mount suction cup mount use bed car desk table window shield surface lazy phone support release alloy sell package mope entertainment clamp line silicone padit come universal attachment use follow inclination rotate collet demand angle\n",
            "sellnship travel adaptor allinone world conversion plug aus europe sp device style travel abroad study business trip vacation carry gadget charge regularly system country world universal charger adapter plug help charge gadget outlet country travel charger country include states kingdom japan volt watt adapter builtin surge protector keep appliance spike flow voltage frequency abroad feature travel charger plug come child protection safety shutter provide security travel child feature power indicator light lock switch make plug item bag travel carry device wish travel world allinone travel charger effectively charge requirement go\n",
            "magideal alloy accessory toolbox backpack silver description aluminum toolbox hold kind machine accessory light weight carry space take choice specification material aluminum size package include tattoo toolbox\n",
            "adisa light weight laptop backpack\n",
            "dmg rotate flip cover book case apple inch colourblack rotate cover apple inch premium construct pu leather degree rotate stand inch flip cover case specifically convenience protection case swivel center rotate vertically horizontally view angle video call read design securely tablet place hardside provide cover restraint keep flip firmly closed use design builtin stand case convert stand hold device view video online book hardback cover hardshell back cover design offer mold protect fragile glass display prone damage bent line material design help prevent scratch accessory sunglasse phone worryfree travel rotate make transition landscape portrait option feature allow view versatility keep device case compatibility case design apple inch\n",
            "belline voltage tv inch dth music system home theatre year warranty brand bellinemodel belcvt work range voltage tv panel dth home theatre music systemcapacity ip detail surge spike protection belline cvt provide isolation tv gadget supressing line noise spike pure sine wave cvt provide pure sine wave regulate output tv gadget input wave shape sine square wave voltage earthbelline cvt achieve voltage output earth circuit protection inherit design feature belline cvt safeguard gadgets case circuiting output side quite input work rangebelline series design consider quite fluctuate input working range line tv acceptance range\n",
            "pc scratch proof feel pad furniture pad padfloor protector furniture padsfurniture sofa leg pad lukzer scratch proof self furniture pad move slide furniture ease feature sand grit pad capture move scratch floor quality product protect pad convenient shock noise wear reduce slip prevent floor scratch extend life object\n",
            "mx surge protector spike guard universal socket switch circuit breaker power cable ampere mx surge protector socket build fuse socket mx spike guard operation equipment device computer telecommunication video audio fuse socket noise filter protection fluctuation\n",
            "kva pure sine cruze wave inverter home establishment power need also power cut hamper performance appliance kva battery system offer quality power backup solution run office appliance feature battery volt system run office airconditioner run load fan refrigerator television water motor laserjet printer computer laptop charge color silver battery support ah ah battery system battery detail wave type pure wave rate capacity va output power watt input voltage output voltage mode charge recommend battery ah ah battery recharge time hour protection overload discharge shortcircuit reverse polarity input protection mcb pass switch weight kg dimension cm lwh display indication yes battery charge charge level yes switch yes battery indication indication yes battery include purchase\n",
            "besmelody way splitter adapter tshape jack plug surveillance equipment besmelody besmelody way splitter adapter tshape jack plug surveillance equipment\n",
            "samsung cm inch hd tv model cm hd tv series display size inch resolution picture engine hyperreal dts codec dts premium sound speaker type ch firing base reflex sound output rms component ypbpr av mini jack rf cable input\n",
            "import case cover bag sony playstation ps vita psv quality product\n",
            "sanyo cm inch hd ips lead tv dark grey size inch indulge entertainment neverbefore television enjoy stunning picture clarity definition ips technology panel bring entertainment experience theatre box speaker tune crystal sound bass slim design brush metal give sanyo tv premium feel port possibility connect gaming dongle time come take sense dimension\n",
            "chris kate polyester ltr school backpack colourblue chris kate polyester school backpack school collegegoer make polyester backpack durability pad strap provide comfort carry shoulder chris kate bag feature compartment carry need trip also use office zippered let store item cable charger pen drive backpack also bottle holder side keep hydrated go diving image bag represent thrill energy everyone look achieve task passion stress life concern come disappear portray adventure freedom feel air\n",
            "lg cm inch hd tv silver model size inch secret tv color view panel quality determine quality coffee quality panel determine quality tv ips panel use reason lead tvs sturdy screen color ips offer color impression image color truly nature eye view angle lcd panel visibly ips show color contrast angle color wash contrast loss panel purpose\n",
            "dell precision tower workstationdesktop core generation gb gb tb hdd do monitor dvd drive addin card thunderbolt pcie card come soon ab pcie card port serialparallel port pcie card support pcie ssd dell precision ultraspeed cool io port front microphone headphone sata rear displayport hdmi network connector line inmicrophone audio line\n",
            "ebcoteliscope channel ball bearing channel mm inch zinc teliscope channel ball bearing channel mm inch zinc\n",
            "amicivision waterproof rgb lead rf tv background amicivision light strip use home decoration hotel club shopping provide lighting tv use rgb light strip power need adapter anything smd rgb lead intensity reliability selfadhesive back side tape environment radiation flicker harm human eye power saving heat power consumption performance dustensure back tv dust installation avoid fall\n",
            "errors: 19\n"
          ]
        }
      ]
    },
    {
      "cell_type": "code",
      "source": [
        "err_cnt = 0\n",
        "for i in range(0, len(y_test)):\n",
        "    if(y_test[i]==1 and y_test_pred[i]==2):\n",
        "        print(X_test_norm[i])\n",
        "        err_cnt = err_cnt+1\n",
        "print(\"errors:\", err_cnt)"
      ],
      "metadata": {
        "colab": {
          "base_uri": "https://localhost:8080/"
        },
        "id": "8kQJPUwmlwje",
        "outputId": "6d839643-6008-4dcd-9a63-98a80f5cdfb6"
      },
      "execution_count": null,
      "outputs": [
        {
          "output_type": "stream",
          "name": "stdout",
          "text": [
            "latch import jimi lead group call band gypsy quartet parisbase gypsy guitarist thing steeve lafonte leave channel yorgui loeffler center campion right channel bassist gino roman come together reverently always swinge legacy belgiangitano django reinhardt music century invention dimension course death django reinhardt gypsy jazz never cease michel mercier cd liner note play album decide keep mind essence creator capacity tell story music play mere play style never emotion sensitivity sake technique achieve spend month together play music work enjoy night fruit effort aurally fourteentrack masterpiece campion course maestro composition thirty feature include pace nuits saintgermaindesprés pêche à la mouche rythme composition swing era eddie durham chestnut topsy harlem globetrotter theme song isham jonesgus khan number see highlight foursome pulsation span manhattan rendition michel legrand score jacque film les parapluies cherbourg chick corea popfusion get band lp roman romano afrocubanbossa type gypsy jazz lead genre\n",
            "pig want eat think author baggini editor cofounder magazine write regularly sunday prospect tes appear time author book philosophy include philosophy life granta make sense philosophy headline oup atheism introduction oup\n",
            "elle jan issue elle fashion woman inspire develop style inform intelligence optimism entertaining frivolity\n",
            "rapidex home tailoring course\n",
            "abacus pack book abacus way number kid way teach number kid abacus tool teach child math counting addition subtraction multiplication even division pack contain book level help whole brain development child book quality\n",
            "york face studio master blur primer redness control colourredness control blur away concern way master face studio york\n",
            "border bleed insider account relation author engineer training profession writer choice rajiv dogra member service serve consul india karachi italy romania moldova albania marino representative nations agency base rome assignment include stockholm tenure ministry affairs delhi uniquely dogra government restructure ministry sit board corporation rajiv dogra also medium commentator affair delhi paint write\n",
            "border time magazine author editor time magazine\n",
            "outdoor camping replacement canopy porch tent pole tent cover awne fuchsia sections tent polethey contact use replacement person camp aluminum alloydiameter length approx cmcolor fuchsiapackage tent polenoteplease allow difference measurementitem color maybe slightly calibration monitor please understand thank\n",
            "conde nast traveller india\n",
            "errors: 10\n"
          ]
        }
      ]
    },
    {
      "cell_type": "code",
      "source": [
        "err_cnt = 0\n",
        "for i in range(0, len(y_test)):\n",
        "    if(y_test[i]==1 and y_test_pred[i]==3):\n",
        "        print(X_test_norm[i])\n",
        "        err_cnt = err_cnt+1\n",
        "print(\"errors:\", err_cnt)"
      ],
      "metadata": {
        "colab": {
          "base_uri": "https://localhost:8080/"
        },
        "id": "FAjybl0RlwpS",
        "outputId": "04fe15ed-e1a9-43f5-9aff-9b55ca100448"
      },
      "execution_count": null,
      "outputs": [
        {
          "output_type": "stream",
          "name": "stdout",
          "text": [
            "snezhinka silk cover charmeuse weave momme size colour pillow cover make silk fabric charmeuse weave momme use silk cover sleep help retain look delay appearance damage dryness silk keep skin hydrated night gentle skin also keep bedhead control hair thereby reduce hair damage end breakage dryness etc silk retain moisture hair keep tangle night blowout curl style do hair property include resistance dust mite fungus mold addition allergen fabric care hand wash use detergent wring bleach\n",
            "york pearl colourpearl formula oil sweat give look day time bid goodbye touchup stay hour\n",
            "barbie frock baby girl empire maxi dress pastel blue flower gown\n",
            "charm anklet woman show fashion sense foot uniquely anklet charm crop trouser tealength skirt way flaunt\n",
            "dimension baby hugs fairy bibs stamp cross stitch set baby hug stamp cross stitch cute cuddly baby design fabric bring dimension crafts kit contain preprinte design polycotton quilted cotton thread instruction finish size design fairy bib designer wilma sanchez\n",
            "woman girl kutchi art work sle sling bag polyester sle bag wear give look carry handcraft embroider sling bag house streetkart handbag specially kutchh design sle bag girl woman sle perfect party club daily bag choice keep girl woman make fashion statement space keep essentialfeature style colour reflect season trendsthe strap facilitate effortless portability sle bag go well well bring party feel carry timeit pattern fashion bag personality convenient hold cash coin cellphone card perfect age care instruction expose heat wipe damp cloth\n",
            "beauty craft rajasthani hand embroidery slipper woman trendy pair make material design make rajasthani day long complement look form charming outer material make look give look lace look provide feature jaipuri design inspire flats house team pair apparel look manage quality style durability product sequence quality material get notice reason vogue match level comprise material make rajasthani wear day give supplement look beguiling pad material make wear exceptionally look give alluring look ribbon give look give highlighting vogue jaipuri configuration motivated place team match pad attire look deal quality style item arrangement quality material get see reason royale introduce dazzle scope footwear team make pick include easygoing accumulation provide range lady sandal juti rajasthani bellies footwear etc\n",
            "baby face towel pack pack quality baby hanky baby touch\n",
            "cotton oven glove pack cotton cotton waste glove\n",
            "errors: 9\n"
          ]
        }
      ]
    },
    {
      "cell_type": "code",
      "source": [
        "err_cnt = 0\n",
        "for i in range(0, len(y_test)):\n",
        "    if(y_test[i]==2 and y_test_pred[i]==0):\n",
        "        print(X_test_norm[i])\n",
        "        err_cnt = err_cnt+1\n",
        "print(\"errors:\", err_cnt)"
      ],
      "metadata": {
        "colab": {
          "base_uri": "https://localhost:8080/"
        },
        "id": "p5lWNL1UmDJw",
        "outputId": "2fd464dd-f538-4e93-d85b-fecad7af5052"
      },
      "execution_count": null,
      "outputs": [
        {
          "output_type": "stream",
          "name": "stdout",
          "text": [
            "lead hd projector hd display change living room movie theatre get design lead lcd home projector display color highdefinition image optimize contrast ratio egate projector change ambience room extent provide picture home produce even image replace television take room country number projector brand egate crisil rate company certification peace mind end home theater lead lcd projector boast hd screen resolution support color contrast image quality quality lcd panel industry give crystal image detail design picture movie mode choose suit customize desire video streaming idiot box software mate deliver unmatched streaming medium experience world create phone develop projector enough take video content device stream metre inch keep explore play projector mean projector connect function play plug data pen hdd msd watch movie see picture music make india heat fluctuation proof projector make country heat dust power problem rd team develop technology keep mind condition engine prevent dust gather side year crystal imaging heat sink specially withstand temperature product warranty peace mind buy product ensure buying product make get peace mind warranty location warranty support fedex pick faulty unit bring hand environment dust factory get bring leisure home time worry go service centre service engineer service charge call toll relax\n",
            "toreto pocket max water resistant speaker tor toreto provide premium quality brand world focus offer charger cable bluetooth speaker headphone earphone wireless powerbank car accessory appliance toreto choice music lover tor pocket max need style statement bluetooth speaker carry use body water option let enjoy music even party water also radio feature let humor rjs track apart buddy also equally enjoy call experience inbuilt speaker ease take go microsd card slot enjoy love music number almost place battery capacity run long think specification function wireless speaker handsfree call micro sd card speaker unit bass radiator output power interface micro micro sd card slot audio file format wav wireless range fm radio frequency autonomy battery capacity dimension mm box toreto wireless speaker datum cable warranty card user toreto warranty promise toreto provide limit product warranty customer support purchase\n",
            "mattel card game style card game meet charade card game ever draw require race act clue team use nothing image picture cardcombine build scene use prop first team guess correct answer headtohead play win point first team score point win game team age\n",
            "instax mini film sheet style pack sheet offer stunning picture wallet mini photo frame film ensure reproduction vivid color skin tone\n",
            "point talk\n",
            "silver cm interesting canoe fishing sport decor silhouette vinyl car sticker item type sticker package package item cm model name brand name yjzt category stickers type sticker car body item cm item height cm sticker design model yes item length cm placement body type vinyl color blacksilver stick car sticker unit piece package package size\n",
            "audiology connect car headrest mount car tablet mount car holder tablet mount holder smartphones tablets audiology connect car headrest mount car tablet mount car holder tablet mount holder smartphone tablet\n",
            "lenovo aio fhd borderless allinone desktop gen core homeintegrated graphicsblack lenovo ideacentre aio feature widely borderless display performance allinone solution nohassle home computing hd borderless touchscreen everything improve efficiency work view working angle ideacentre aio design border slim monitor steel stand keyboard wireless mouse already product profile accent home workspace come preinstalle start moment power machine even time far field microphone aio make cortana voice command meter away pc instantly face thank infrared camera support window hello walk away window hello absence automatically computer webcam fright wonder camera truly people conference call see aio alleviate fear convenient popup webcam display press release need simply push back place do work home get well\n",
            "rolltop computerintel core duo ghz motherboard lead monitor ram gb size product rolltop computerintel core duo ghz processor zebronic motherboard zebronic inch lead monitor ram disk cabinet iball keyboard mouse mini wi fi adaptor window trial versionms office trial opt computer rolltop infotech component use assembled pc brand recommend performancecomputer part computer enginner ensure quality performancecomputer dispatch do quality testing configuration selcte performancerolltop infotech selct component help selct well computer come wifi adaptor make computer wifi enabledcomputer come window instal driverspreinstalled plug power computerall brand part come year manufacturer warrenty rolltop infotech rolltoptm register trademark rolltop infotech pioneer desktop computer establish range grade computer product client customer satisfaction topmost priority rolltop infotech dedicate provide quality service customer understand customer need desktop computer provide pc be accordingly\n",
            "blufury ledlcd screen computer dust cover combo duty blufury computer dust cover combo product description protect desktop dust pollution dust cover screen cpu key board mouse pad\n",
            "music amplifier ax line tablet speaker amplifier display product support devicetablet ipad tv lead tv desktop laptop connect line fm radio usb\n",
            "bloomerang lora range rf wireless power module arduino\n",
            "audit progress cd import reissue pop album pissedoff protopunk rapidfire riff member rocket crypt drive obit include retrofit\n",
            "errors: 13\n"
          ]
        }
      ]
    },
    {
      "cell_type": "code",
      "source": [
        "err_cnt = 0\n",
        "for i in range(0, len(y_test)):\n",
        "    if(y_test[i]==2 and y_test_pred[i]==1):\n",
        "        print(X_test_norm[i])\n",
        "        err_cnt = err_cnt+1\n",
        "print(\"errors:\", err_cnt)"
      ],
      "metadata": {
        "colab": {
          "base_uri": "https://localhost:8080/"
        },
        "id": "rdUzMyCBmDM3",
        "outputId": "a7e0756f-e152-48d3-ebb9-ab7da66e9a0f"
      },
      "execution_count": null,
      "outputs": [
        {
          "output_type": "stream",
          "name": "stdout",
          "text": [
            "book coconut product cultivation processing coconut crop grow india presently cover country find tropic area coconut know versatility see use part coconut part people endosperm initially phase suspend water development continue layer deposit wall coconut become coconut call copra oil milk derive commonly use cooking fry coconut oil also widely use liquid coconut water refreshing drink process create alcohol husk leave use make variety product decorate also significance society stand production coconut world book product diversification coconut coconut oil scope product diversification variety coconut farming system coconut farming coconut spice herb maintenance coconut plantation production spice plant crop improvement manuring coconut garden recycling coconut soil moisture conservation coconut garden harvest post harvest technology integrate farming holding productivity improvement machinery processing desiccate coconut coconut processing sector india etc book contain cultivation process coconut book agriculturist researcher entrepreneur agriculture university etc\n",
            "amazing sign toilet sign board number quality printing material glowcy lamination paste mm foam sheet back side sided tape installation surface\n",
            "periodic table\n",
            "butterfly design fly fishing lure hook description vivid butterfly design work well size approx inch cm hook length approx inch mm hook width approx mm trout marlin carp material metal color show picture package include fishing fly\n",
            "pc bag seed lettuce family health seed pc bag seed lettuce family health seed vegetable\n",
            "tape feature design steam sterilizationwater base indicator color change\n",
            "mind market money journey intraday trading use market profile order flow\n",
            "schwarzkopf taft weather look marathon power gel long hold schwarzkopf taft marathon look long power gel ml schwarzkopf taft gel marathon cube first taft gel long hold provide longlaste hold circumstance leftover formula endurance polymer extremely hand hair go strength\n",
            "sweet home mini resin crafts fairy miniature pc set sweet home mini resin crafts fairy miniature pc set\n",
            "gift card design product description gift freedom choicegift love business associate lifestyle gift card let choose range apparel accessory furnishings network store gift never go manufacturer lifestyle choose gift love always easy gift card choice time want make loved feel gift freedom choice gift card redeem store product category position vibrant store lifestyle offer consumer fashion lifestyle shopping experience lifestyle bring together concept roof apparel footwear child beauty accessory offer convenient choice lead brand choose gift card gift never go part landmark group conglomerate involve retailing apparel consumer beauty product home improvement baby product store decade come recognize lead company country lifestyle offer consumer ease shop shopping experience brand include pepe jeans arrow gini jony levi wrangler etc group also introduce home centre stop destination furniture home décor furnishing style comfort individuality landmark reward circle landmark reward landmark reward truly reward program enroll number shop landmark group store program come host benefit enrolment earn redeem point landmark group store personalize offer store promotion end season sale preview bonus point store offer reward member earn point landmark group stores india include home centre fashion spar hypermarket fashion melange bossini krispy kreme fun city redeem point mention store kreme fun city\n",
            "disruption energy transportation valley make oil gas coal utility car\n",
            "wing fire wing fire\n",
            "style rubber stamp shape scrapbooke craft card make ink stamp craft stamp shape offer cute craft stamp stamp offer wood handle know exactly stamp laser cut crisp edge smooth stamp surface\n",
            "store hand carve fold book stand holder carving store indya travel forget hand craft skill india store something result family trip take travel see culture part india also realize corner art form know india almost rest world discover ageold skill get work try continue die legacy artwork artwork end product workstore indya want art form time empower skilled artist want art form create product never create product stand tradition design also represent issue want talk world even encourage talk gift handicraft product sit quietly look corner home fact mind store indya believe design empower\n",
            "sprinkler head tee mist water mg agriculture lawn garden patio greenhouse swimming mist fog coolingirrigation watering humidification balcony irrigation watering grass description color grey pressure kg flow range spray range mist length approx mist diameter approx tee joint sizelxh approx mm mm tee joint inner diameter approx mm package include sprinkler nozzle tee joint\n",
            "etailor page handmade vintage genuine leather paper diary box brown\n",
            "vip self defence rod metal travel bag stroll walking dog camping steel steak care kind use safety purpose travel bag use use walk travel item bankhomeoffice vehicle pocket\n",
            "aart store sofa cum bed seater sleep comfortably color colorblack aart store surprised piece furniture sofa cum bed quite use sofa sinkin give sturdy feel use side provide support back need use bed guest bachelor holy grail furniture bedsofa use lounger watch movie study floor cover washable also make cover design get mood change look furniture search style crome cover sofa cum bed site\n",
            "mintkraft foam sheet multicolor self beware area sign board inch inch product safety sign board house mintkraft make sheet come multicolour\n",
            "home buy bag premium quality waterproof adult bag camping hiking adventure trip multi color namemulti quality sleep bag camping hiking adventure trip bag keep warm cozy often carry lot gear go adventure trip bag lightweight add weight gear size approximately cm adult bag come carry bag fold roll sleep bag store carry bag carry bag also handle stitch bottom product feature quality sleep bag camping hiking adventure trip warm cozy sleep autumn spring summer winter lightweight add weight already camping come carry bag fold roll keep carrybag size adult cm cm approx waterproof polyester fabric cotton fill color\n",
            "strike back olympics massacre israel response author aaron klein time magazine intelligence affair correspondent jerusalem bureau recipient henry luce award consultant cnn klein militarysecurity correspondent analyst alhamishmar lead newspaper contributor malam idf intelligence security agency officer teach hebrew university captain intelligence excerpt reprint permission right reserve year later meridien montparnasse hotel monday june jeep renegade way driver alone vehicle buy food vend machine gas pump hour later surveillance tail almost rushhour traffic paris afternoon rue du commandant mouchotte tracker watch plate make right turn driver surveillance car floor accelerator catch glimpse drop shadow parking garage look building explain move garage méridien montparnasse hotel quality heart montparnasse district hundred room suit reputation discretion visitor take elevator reception first floor register pay cash go room hand hotel guest atef bseiso roundface elegantly living tunis year palestine liberation officer work security service direction la surveillance du territoire dst consider rise star organization relations intelligence agency part product charm charisma bseiso drain drivehe cover sixhundredmile journey hour allure pull room kingsize bed go phone bseiso want pass night remote control hand take address book number bodyguard tunis bseiso feel europe fear list name number man frequently accompany europe give sense security tell man go dinner bodyguard offer hotel drive today bseiso say let say hotel à shower get dress shabtai shavit head intelligence operation mossad receive message operation war room locate house arrondissement méridien montparnasse get shavit back chair operation gear shavit run mossad year well operation serve year commander mossad caesarea unit charge operation run undercover combatant enemy territory paris borrow identity name passport pocket blazer none peer service branch intelligence service know country gut tell mission go well confidence professionalism caesarea combatant ilan intelligence collection officer place thirtybyfortycentimeter picture facade hotel table room mossad house picture variety angle include street hotel surveillance team take soon bseiso check plan draw officer take number hotel consideration primarily méridien hotel situated step champselyséesbut méridien bseiso choice force revise plan accordingly work do quickly efficiently less hour plan bring time shavit never even relaxed circumstance keep brief caesarea commander head assassination question operation hone point satisfy approve mission surveillance team follow bseiso day track moment berlin meeting intelligence officer bundesamt für verfassungsschutz purchase jeep sprint paris combatant car motorcycle comprise surveillance team none operation planner idea bseiso stay apartment friend set hotel room courtesy kingly budget fatah faction plo know act operation need go swing immediately bseiso notoriously traveler well spend night paris perhaps day meeting colleague dst return home opportunity go possibly forever intelligence report show job demand travel try stay tunis leave mode travel attack plane go directly point point traveler never alone people car meand stop gas spend night hotel bseiso turn fact planning leave evening drive marseille put ferry tunis surprise wife dima child car israelis wait hotel assume bseiso go return tired act late hour night street always operation decision hand assassin tom point man tom trigger authority call operation raise weapon team emerge atef bseiso target role play slaughter eleven munich almost year prior shavit want pay price participate killing minister yitzhak shamir mission give blessing state israel verge closing case bastard know mossad take part munich massacre bseiso go dinner surveillance team shadow time check guard dst host bseiso bodyguard woman spend night hippopotamus grill chain restaurant midnight bseiso pick tab go back sit back drive friend sit seat animate conversation drive bring entrance méridien montparnasse rue du commandant mouchotte car pass bseiso get say friend take step back move direction hotel later man approach walk tom point man raise hand trigger beretta issue shot retort muzzle silencer bullet hit head fall spot friend car inhalation gurgle cartridge catch clue hold cloth bag attach pistol assassin backup rapidly street commander squad wait corner yard away side avenue du side street pace watch back procedure thwart mishap escape phase missiona highly scenario take bystander long minute realize assassination take place nonetheless possibility ignore point man number oneway street procedure getaway car always wait turn operation pair make rue vandamme waiting car keep motor run abie suddenly figure come man breathe heavily animatedly fastapproache threat need stop allow turn see escape vehicle even commit license plate memory start pace threaten foot pair pull beretta hold face shout stop weapon track put hand air backwa\n",
            "dog toy dog chew knot rainbow rubber cord weave toy jingle bell cat training playing iq toy gift pet rainbow rubber ball metal bell design catch pet eye inspire pet spirit get loneliness companion home effectively furniture dog chew bite make rubber service life ensure feature color rainbow color diameter cm weight material nontoxic rubber package include rubber pet chew ball\n",
            "shark park reader\n",
            "craft hand wooden doll hand paint matryoshka stack doll set piece lady colorre matryoshka doll also know nesting doll stack doll doll set doll decrease size place matryoshka doll become world year set figure bottom reveal figure sort turn figure decoration table room kid quality excellent handcraft toy craft hand manufacturer supplier exporter handicrafts expert craftsman carver sculptor product clay item doll wooden buddha head buddha statue clay head home decor item etc\n",
            "foot ankle radiology\n",
            "errors: 25\n"
          ]
        }
      ]
    },
    {
      "cell_type": "code",
      "source": [
        "err_cnt = 0\n",
        "for i in range(0, len(y_test)):\n",
        "    if(y_test[i]==2 and y_test_pred[i]==3):\n",
        "        print(X_test_norm[i])\n",
        "        err_cnt = err_cnt+1\n",
        "print(\"errors:\", err_cnt)"
      ],
      "metadata": {
        "colab": {
          "base_uri": "https://localhost:8080/"
        },
        "id": "piGdDqlzmDQ4",
        "outputId": "7ca0c034-9d1b-42c8-b638-8d55fef202dd"
      },
      "execution_count": null,
      "outputs": [
        {
          "output_type": "stream",
          "name": "stdout",
          "text": [
            "anne frank girl take day\n",
            "bell sock man train crew\n",
            "chimes doctor man eye collection woman chime bring fashion jewellery design renowned jewellery manufacturer world price assure remove middleman margin realestate expense directly purchase manufacturer fashion jewellery customer\n",
            "chhattisgarh pet product make color feature pu laceup closure toe design use occasion well office footwear furthermore keep heat liquid avoid damage\n",
            "woman cap\n",
            "tinkle pack pack include ever tinkle series\n",
            "compression activity reduce postexercise muscle soreness improve performance microfiber spandexwarpknit construction offer compression durability microfiber construction wick moisture away temperature hem gripper tape bond ensure comfort\n",
            "errors: 7\n"
          ]
        }
      ]
    }
  ],
  "metadata": {
    "colab": {
      "provenance": []
    },
    "kernelspec": {
      "display_name": "Python 3",
      "name": "python3"
    },
    "language_info": {
      "name": "python"
    },
    "accelerator": "GPU",
    "gpuClass": "standard"
  },
  "nbformat": 4,
  "nbformat_minor": 0
}